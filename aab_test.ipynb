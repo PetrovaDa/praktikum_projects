{
 "cells": [
  {
   "cell_type": "markdown",
   "metadata": {},
   "source": [
    "<div style=\"border:solid  green  2px; padding: 20px\"> <h1 style=\"color: green\">A/A/B- тест в приложении</h1>"
   ]
  },
  {
   "cell_type": "markdown",
   "metadata": {},
   "source": [
    "# Описание проекта"
   ]
  },
  {
   "cell_type": "markdown",
   "metadata": {},
   "source": [
    "Объект исследования - данные мобильного приложения по продаже продуктов питания\n",
    "\n",
    "Цель - определить какой шрифт лучше.\n",
    "\n",
    "Задачи: \n",
    "\n",
    "    - Изучить воронку продаж, проанализировать поведение пользователей\n",
    "    - Исследовать результаты A/A/B-эксперимента\n",
    "\n",
    "    Группы экспеимента: 2 контрольные со старыми шрифтами и экспериментальная — с новыми шрифтами\n"
   ]
  },
  {
   "cell_type": "markdown",
   "metadata": {},
   "source": [
    "### Оглавление\n",
    "\n",
    "+ Подготовка даннх\n",
    "+ Изучение и проверка данных\n",
    "\n",
    "    Сколько всего событий в логе?\n",
    "    Сколько всего пользователей в логе?\n",
    "    Сколько в среднем событий приходится на пользователя?\n",
    "    Данными за какой период вы располагаете? \n",
    "    Много ли событий и пользователей вы потеряли, отбросив старые данные?\n",
    "    Проверьте, что у вас есть пользователи из всех трёх экспериментальных групп.\n",
    "\n",
    "+ Изучение воронки событий\n",
    "    На каком шаге теряете больше всего пользователей?\n",
    "    Какая доля пользователей доходит от первого события до оплаты?\n",
    "\n",
    "+ Изучение результатов эксперимента"
   ]
  },
  {
   "cell_type": "code",
   "execution_count": 70,
   "metadata": {},
   "outputs": [],
   "source": [
    "import matplotlib.pyplot as plt # выгружаем необходимые библиотеки\n",
    "import pandas as pd\n",
    "import numpy as np\n",
    "from math import factorial\n",
    "from scipy import stats as st\n",
    "import math as mt\n",
    "from functools import reduce\n",
    "import seaborn as sb\n",
    "import plotly.express as px\n",
    "from plotly import graph_objects as go\n",
    "import pandas as pd\n",
    "import warnings\n",
    "warnings.filterwarnings(\"ignore\") "
   ]
  },
  {
   "cell_type": "code",
   "execution_count": 71,
   "metadata": {},
   "outputs": [],
   "source": [
    "pd.set_option('display.max_colwidth', -1)"
   ]
  },
  {
   "cell_type": "code",
   "execution_count": 72,
   "metadata": {},
   "outputs": [],
   "source": [
    "pd.set_option('display.float_format', lambda x: '%.3f' % x) #изменение глобальной настройки отображения "
   ]
  },
  {
   "cell_type": "markdown",
   "metadata": {},
   "source": [
    "### Подготовка данных"
   ]
  },
  {
   "cell_type": "code",
   "execution_count": 73,
   "metadata": {},
   "outputs": [],
   "source": [
    "app_data = pd.read_csv('/datasets/logs_exp.csv', sep=\"\\t\")"
   ]
  },
  {
   "cell_type": "code",
   "execution_count": 74,
   "metadata": {},
   "outputs": [
    {
     "name": "stdout",
     "output_type": "stream",
     "text": [
      "<class 'pandas.core.frame.DataFrame'>\n",
      "RangeIndex: 244126 entries, 0 to 244125\n",
      "Data columns (total 4 columns):\n",
      "EventName         244126 non-null object\n",
      "DeviceIDHash      244126 non-null int64\n",
      "EventTimestamp    244126 non-null int64\n",
      "ExpId             244126 non-null int64\n",
      "dtypes: int64(3), object(1)\n",
      "memory usage: 7.5+ MB\n"
     ]
    },
    {
     "data": {
      "text/html": [
       "<div>\n",
       "<style scoped>\n",
       "    .dataframe tbody tr th:only-of-type {\n",
       "        vertical-align: middle;\n",
       "    }\n",
       "\n",
       "    .dataframe tbody tr th {\n",
       "        vertical-align: top;\n",
       "    }\n",
       "\n",
       "    .dataframe thead th {\n",
       "        text-align: right;\n",
       "    }\n",
       "</style>\n",
       "<table border=\"1\" class=\"dataframe\">\n",
       "  <thead>\n",
       "    <tr style=\"text-align: right;\">\n",
       "      <th></th>\n",
       "      <th>EventName</th>\n",
       "      <th>DeviceIDHash</th>\n",
       "      <th>EventTimestamp</th>\n",
       "      <th>ExpId</th>\n",
       "    </tr>\n",
       "  </thead>\n",
       "  <tbody>\n",
       "    <tr>\n",
       "      <td>0</td>\n",
       "      <td>MainScreenAppear</td>\n",
       "      <td>4575588528974610257</td>\n",
       "      <td>1564029816</td>\n",
       "      <td>246</td>\n",
       "    </tr>\n",
       "    <tr>\n",
       "      <td>1</td>\n",
       "      <td>MainScreenAppear</td>\n",
       "      <td>7416695313311560658</td>\n",
       "      <td>1564053102</td>\n",
       "      <td>246</td>\n",
       "    </tr>\n",
       "    <tr>\n",
       "      <td>2</td>\n",
       "      <td>PaymentScreenSuccessful</td>\n",
       "      <td>3518123091307005509</td>\n",
       "      <td>1564054127</td>\n",
       "      <td>248</td>\n",
       "    </tr>\n",
       "    <tr>\n",
       "      <td>3</td>\n",
       "      <td>CartScreenAppear</td>\n",
       "      <td>3518123091307005509</td>\n",
       "      <td>1564054127</td>\n",
       "      <td>248</td>\n",
       "    </tr>\n",
       "    <tr>\n",
       "      <td>4</td>\n",
       "      <td>PaymentScreenSuccessful</td>\n",
       "      <td>6217807653094995999</td>\n",
       "      <td>1564055322</td>\n",
       "      <td>248</td>\n",
       "    </tr>\n",
       "    <tr>\n",
       "      <td>...</td>\n",
       "      <td>...</td>\n",
       "      <td>...</td>\n",
       "      <td>...</td>\n",
       "      <td>...</td>\n",
       "    </tr>\n",
       "    <tr>\n",
       "      <td>244121</td>\n",
       "      <td>MainScreenAppear</td>\n",
       "      <td>4599628364049201812</td>\n",
       "      <td>1565212345</td>\n",
       "      <td>247</td>\n",
       "    </tr>\n",
       "    <tr>\n",
       "      <td>244122</td>\n",
       "      <td>MainScreenAppear</td>\n",
       "      <td>5849806612437486590</td>\n",
       "      <td>1565212439</td>\n",
       "      <td>246</td>\n",
       "    </tr>\n",
       "    <tr>\n",
       "      <td>244123</td>\n",
       "      <td>MainScreenAppear</td>\n",
       "      <td>5746969938801999050</td>\n",
       "      <td>1565212483</td>\n",
       "      <td>246</td>\n",
       "    </tr>\n",
       "    <tr>\n",
       "      <td>244124</td>\n",
       "      <td>MainScreenAppear</td>\n",
       "      <td>5746969938801999050</td>\n",
       "      <td>1565212498</td>\n",
       "      <td>246</td>\n",
       "    </tr>\n",
       "    <tr>\n",
       "      <td>244125</td>\n",
       "      <td>OffersScreenAppear</td>\n",
       "      <td>5746969938801999050</td>\n",
       "      <td>1565212517</td>\n",
       "      <td>246</td>\n",
       "    </tr>\n",
       "  </tbody>\n",
       "</table>\n",
       "<p>244126 rows × 4 columns</p>\n",
       "</div>"
      ],
      "text/plain": [
       "                      EventName         DeviceIDHash  EventTimestamp  ExpId\n",
       "0       MainScreenAppear         4575588528974610257  1564029816      246  \n",
       "1       MainScreenAppear         7416695313311560658  1564053102      246  \n",
       "2       PaymentScreenSuccessful  3518123091307005509  1564054127      248  \n",
       "3       CartScreenAppear         3518123091307005509  1564054127      248  \n",
       "4       PaymentScreenSuccessful  6217807653094995999  1564055322      248  \n",
       "...                         ...                  ...         ...      ...  \n",
       "244121  MainScreenAppear         4599628364049201812  1565212345      247  \n",
       "244122  MainScreenAppear         5849806612437486590  1565212439      246  \n",
       "244123  MainScreenAppear         5746969938801999050  1565212483      246  \n",
       "244124  MainScreenAppear         5746969938801999050  1565212498      246  \n",
       "244125  OffersScreenAppear       5746969938801999050  1565212517      246  \n",
       "\n",
       "[244126 rows x 4 columns]"
      ]
     },
     "execution_count": 74,
     "metadata": {},
     "output_type": "execute_result"
    }
   ],
   "source": [
    "app_data.info()\n",
    "app_data.duplicated().sum() \n",
    "app_data.dropna().reset_index(drop=True)"
   ]
  },
  {
   "cell_type": "code",
   "execution_count": 75,
   "metadata": {},
   "outputs": [
    {
     "data": {
      "text/html": [
       "<div>\n",
       "<style scoped>\n",
       "    .dataframe tbody tr th:only-of-type {\n",
       "        vertical-align: middle;\n",
       "    }\n",
       "\n",
       "    .dataframe tbody tr th {\n",
       "        vertical-align: top;\n",
       "    }\n",
       "\n",
       "    .dataframe thead th {\n",
       "        text-align: right;\n",
       "    }\n",
       "</style>\n",
       "<table border=\"1\" class=\"dataframe\">\n",
       "  <thead>\n",
       "    <tr style=\"text-align: right;\">\n",
       "      <th></th>\n",
       "      <th>event_name</th>\n",
       "      <th>uid</th>\n",
       "      <th>event_timestamp</th>\n",
       "      <th>expld</th>\n",
       "    </tr>\n",
       "  </thead>\n",
       "  <tbody>\n",
       "    <tr>\n",
       "      <td>0</td>\n",
       "      <td>MainScreenAppear</td>\n",
       "      <td>4575588528974610257</td>\n",
       "      <td>1564029816</td>\n",
       "      <td>246</td>\n",
       "    </tr>\n",
       "    <tr>\n",
       "      <td>1</td>\n",
       "      <td>MainScreenAppear</td>\n",
       "      <td>7416695313311560658</td>\n",
       "      <td>1564053102</td>\n",
       "      <td>246</td>\n",
       "    </tr>\n",
       "    <tr>\n",
       "      <td>2</td>\n",
       "      <td>PaymentScreenSuccessful</td>\n",
       "      <td>3518123091307005509</td>\n",
       "      <td>1564054127</td>\n",
       "      <td>248</td>\n",
       "    </tr>\n",
       "    <tr>\n",
       "      <td>3</td>\n",
       "      <td>CartScreenAppear</td>\n",
       "      <td>3518123091307005509</td>\n",
       "      <td>1564054127</td>\n",
       "      <td>248</td>\n",
       "    </tr>\n",
       "    <tr>\n",
       "      <td>4</td>\n",
       "      <td>PaymentScreenSuccessful</td>\n",
       "      <td>6217807653094995999</td>\n",
       "      <td>1564055322</td>\n",
       "      <td>248</td>\n",
       "    </tr>\n",
       "    <tr>\n",
       "      <td>5</td>\n",
       "      <td>CartScreenAppear</td>\n",
       "      <td>6217807653094995999</td>\n",
       "      <td>1564055323</td>\n",
       "      <td>248</td>\n",
       "    </tr>\n",
       "    <tr>\n",
       "      <td>6</td>\n",
       "      <td>OffersScreenAppear</td>\n",
       "      <td>8351860793733343758</td>\n",
       "      <td>1564066242</td>\n",
       "      <td>246</td>\n",
       "    </tr>\n",
       "    <tr>\n",
       "      <td>7</td>\n",
       "      <td>MainScreenAppear</td>\n",
       "      <td>5682100281902512875</td>\n",
       "      <td>1564085677</td>\n",
       "      <td>246</td>\n",
       "    </tr>\n",
       "    <tr>\n",
       "      <td>8</td>\n",
       "      <td>MainScreenAppear</td>\n",
       "      <td>1850981295691852772</td>\n",
       "      <td>1564086702</td>\n",
       "      <td>247</td>\n",
       "    </tr>\n",
       "    <tr>\n",
       "      <td>9</td>\n",
       "      <td>MainScreenAppear</td>\n",
       "      <td>5407636962369102641</td>\n",
       "      <td>1564112112</td>\n",
       "      <td>246</td>\n",
       "    </tr>\n",
       "    <tr>\n",
       "      <td>10</td>\n",
       "      <td>MainScreenAppear</td>\n",
       "      <td>948465712512390382</td>\n",
       "      <td>1564119214</td>\n",
       "      <td>247</td>\n",
       "    </tr>\n",
       "    <tr>\n",
       "      <td>11</td>\n",
       "      <td>MainScreenAppear</td>\n",
       "      <td>2547684315586332355</td>\n",
       "      <td>1564123826</td>\n",
       "      <td>248</td>\n",
       "    </tr>\n",
       "    <tr>\n",
       "      <td>12</td>\n",
       "      <td>MainScreenAppear</td>\n",
       "      <td>8885295911290764495</td>\n",
       "      <td>1564124085</td>\n",
       "      <td>248</td>\n",
       "    </tr>\n",
       "    <tr>\n",
       "      <td>13</td>\n",
       "      <td>MainScreenAppear</td>\n",
       "      <td>2140904690380565988</td>\n",
       "      <td>1564125732</td>\n",
       "      <td>247</td>\n",
       "    </tr>\n",
       "    <tr>\n",
       "      <td>14</td>\n",
       "      <td>MainScreenAppear</td>\n",
       "      <td>4444236400320272864</td>\n",
       "      <td>1564135560</td>\n",
       "      <td>246</td>\n",
       "    </tr>\n",
       "  </tbody>\n",
       "</table>\n",
       "</div>"
      ],
      "text/plain": [
       "                 event_name                  uid  event_timestamp  expld\n",
       "0   MainScreenAppear         4575588528974610257  1564029816       246  \n",
       "1   MainScreenAppear         7416695313311560658  1564053102       246  \n",
       "2   PaymentScreenSuccessful  3518123091307005509  1564054127       248  \n",
       "3   CartScreenAppear         3518123091307005509  1564054127       248  \n",
       "4   PaymentScreenSuccessful  6217807653094995999  1564055322       248  \n",
       "5   CartScreenAppear         6217807653094995999  1564055323       248  \n",
       "6   OffersScreenAppear       8351860793733343758  1564066242       246  \n",
       "7   MainScreenAppear         5682100281902512875  1564085677       246  \n",
       "8   MainScreenAppear         1850981295691852772  1564086702       247  \n",
       "9   MainScreenAppear         5407636962369102641  1564112112       246  \n",
       "10  MainScreenAppear         948465712512390382   1564119214       247  \n",
       "11  MainScreenAppear         2547684315586332355  1564123826       248  \n",
       "12  MainScreenAppear         8885295911290764495  1564124085       248  \n",
       "13  MainScreenAppear         2140904690380565988  1564125732       247  \n",
       "14  MainScreenAppear         4444236400320272864  1564135560       246  "
      ]
     },
     "execution_count": 75,
     "metadata": {},
     "output_type": "execute_result"
    }
   ],
   "source": [
    "app_data.set_axis(['event_name', 'uid', 'event_timestamp', 'expld'], axis = 'columns',\\\n",
    "                inplace = True)\n",
    "app_data.head(15)"
   ]
  },
  {
   "cell_type": "code",
   "execution_count": 76,
   "metadata": {},
   "outputs": [
    {
     "data": {
      "text/plain": [
       "event_name         0\n",
       "uid                0\n",
       "event_timestamp    0\n",
       "expld              0\n",
       "dtype: int64"
      ]
     },
     "metadata": {},
     "output_type": "display_data"
    }
   ],
   "source": [
    "display(app_data.isnull().sum())\n",
    "app_data['date_time'] = pd.to_datetime(app_data['event_timestamp'], unit='s') #выделим отдельный столбец с \n",
    "#удобным форматом\n"
   ]
  },
  {
   "cell_type": "code",
   "execution_count": 77,
   "metadata": {},
   "outputs": [],
   "source": [
    "app_data['event_date'] = app_data['date_time'].astype('datetime64[D]')"
   ]
  },
  {
   "cell_type": "code",
   "execution_count": 78,
   "metadata": {},
   "outputs": [
    {
     "data": {
      "text/html": [
       "<div>\n",
       "<style scoped>\n",
       "    .dataframe tbody tr th:only-of-type {\n",
       "        vertical-align: middle;\n",
       "    }\n",
       "\n",
       "    .dataframe tbody tr th {\n",
       "        vertical-align: top;\n",
       "    }\n",
       "\n",
       "    .dataframe thead th {\n",
       "        text-align: right;\n",
       "    }\n",
       "</style>\n",
       "<table border=\"1\" class=\"dataframe\">\n",
       "  <thead>\n",
       "    <tr style=\"text-align: right;\">\n",
       "      <th></th>\n",
       "      <th>event_name</th>\n",
       "      <th>uid</th>\n",
       "      <th>event_timestamp</th>\n",
       "      <th>expld</th>\n",
       "      <th>date_time</th>\n",
       "      <th>event_date</th>\n",
       "      <th>group</th>\n",
       "    </tr>\n",
       "  </thead>\n",
       "  <tbody>\n",
       "    <tr>\n",
       "      <td>0</td>\n",
       "      <td>MainScreenAppear</td>\n",
       "      <td>4575588528974610257</td>\n",
       "      <td>1564029816</td>\n",
       "      <td>246</td>\n",
       "      <td>2019-07-25 04:43:36</td>\n",
       "      <td>2019-07-25</td>\n",
       "      <td>A-1</td>\n",
       "    </tr>\n",
       "    <tr>\n",
       "      <td>1</td>\n",
       "      <td>MainScreenAppear</td>\n",
       "      <td>7416695313311560658</td>\n",
       "      <td>1564053102</td>\n",
       "      <td>246</td>\n",
       "      <td>2019-07-25 11:11:42</td>\n",
       "      <td>2019-07-25</td>\n",
       "      <td>A-1</td>\n",
       "    </tr>\n",
       "    <tr>\n",
       "      <td>2</td>\n",
       "      <td>PaymentScreenSuccessful</td>\n",
       "      <td>3518123091307005509</td>\n",
       "      <td>1564054127</td>\n",
       "      <td>248</td>\n",
       "      <td>2019-07-25 11:28:47</td>\n",
       "      <td>2019-07-25</td>\n",
       "      <td>B</td>\n",
       "    </tr>\n",
       "    <tr>\n",
       "      <td>3</td>\n",
       "      <td>CartScreenAppear</td>\n",
       "      <td>3518123091307005509</td>\n",
       "      <td>1564054127</td>\n",
       "      <td>248</td>\n",
       "      <td>2019-07-25 11:28:47</td>\n",
       "      <td>2019-07-25</td>\n",
       "      <td>B</td>\n",
       "    </tr>\n",
       "    <tr>\n",
       "      <td>4</td>\n",
       "      <td>PaymentScreenSuccessful</td>\n",
       "      <td>6217807653094995999</td>\n",
       "      <td>1564055322</td>\n",
       "      <td>248</td>\n",
       "      <td>2019-07-25 11:48:42</td>\n",
       "      <td>2019-07-25</td>\n",
       "      <td>B</td>\n",
       "    </tr>\n",
       "    <tr>\n",
       "      <td>5</td>\n",
       "      <td>CartScreenAppear</td>\n",
       "      <td>6217807653094995999</td>\n",
       "      <td>1564055323</td>\n",
       "      <td>248</td>\n",
       "      <td>2019-07-25 11:48:43</td>\n",
       "      <td>2019-07-25</td>\n",
       "      <td>B</td>\n",
       "    </tr>\n",
       "    <tr>\n",
       "      <td>6</td>\n",
       "      <td>OffersScreenAppear</td>\n",
       "      <td>8351860793733343758</td>\n",
       "      <td>1564066242</td>\n",
       "      <td>246</td>\n",
       "      <td>2019-07-25 14:50:42</td>\n",
       "      <td>2019-07-25</td>\n",
       "      <td>A-1</td>\n",
       "    </tr>\n",
       "    <tr>\n",
       "      <td>7</td>\n",
       "      <td>MainScreenAppear</td>\n",
       "      <td>5682100281902512875</td>\n",
       "      <td>1564085677</td>\n",
       "      <td>246</td>\n",
       "      <td>2019-07-25 20:14:37</td>\n",
       "      <td>2019-07-25</td>\n",
       "      <td>A-1</td>\n",
       "    </tr>\n",
       "    <tr>\n",
       "      <td>8</td>\n",
       "      <td>MainScreenAppear</td>\n",
       "      <td>1850981295691852772</td>\n",
       "      <td>1564086702</td>\n",
       "      <td>247</td>\n",
       "      <td>2019-07-25 20:31:42</td>\n",
       "      <td>2019-07-25</td>\n",
       "      <td>A-2</td>\n",
       "    </tr>\n",
       "    <tr>\n",
       "      <td>9</td>\n",
       "      <td>MainScreenAppear</td>\n",
       "      <td>5407636962369102641</td>\n",
       "      <td>1564112112</td>\n",
       "      <td>246</td>\n",
       "      <td>2019-07-26 03:35:12</td>\n",
       "      <td>2019-07-26</td>\n",
       "      <td>A-1</td>\n",
       "    </tr>\n",
       "    <tr>\n",
       "      <td>10</td>\n",
       "      <td>MainScreenAppear</td>\n",
       "      <td>948465712512390382</td>\n",
       "      <td>1564119214</td>\n",
       "      <td>247</td>\n",
       "      <td>2019-07-26 05:33:34</td>\n",
       "      <td>2019-07-26</td>\n",
       "      <td>A-2</td>\n",
       "    </tr>\n",
       "    <tr>\n",
       "      <td>11</td>\n",
       "      <td>MainScreenAppear</td>\n",
       "      <td>2547684315586332355</td>\n",
       "      <td>1564123826</td>\n",
       "      <td>248</td>\n",
       "      <td>2019-07-26 06:50:26</td>\n",
       "      <td>2019-07-26</td>\n",
       "      <td>B</td>\n",
       "    </tr>\n",
       "    <tr>\n",
       "      <td>12</td>\n",
       "      <td>MainScreenAppear</td>\n",
       "      <td>8885295911290764495</td>\n",
       "      <td>1564124085</td>\n",
       "      <td>248</td>\n",
       "      <td>2019-07-26 06:54:45</td>\n",
       "      <td>2019-07-26</td>\n",
       "      <td>B</td>\n",
       "    </tr>\n",
       "    <tr>\n",
       "      <td>13</td>\n",
       "      <td>MainScreenAppear</td>\n",
       "      <td>2140904690380565988</td>\n",
       "      <td>1564125732</td>\n",
       "      <td>247</td>\n",
       "      <td>2019-07-26 07:22:12</td>\n",
       "      <td>2019-07-26</td>\n",
       "      <td>A-2</td>\n",
       "    </tr>\n",
       "    <tr>\n",
       "      <td>14</td>\n",
       "      <td>MainScreenAppear</td>\n",
       "      <td>4444236400320272864</td>\n",
       "      <td>1564135560</td>\n",
       "      <td>246</td>\n",
       "      <td>2019-07-26 10:06:00</td>\n",
       "      <td>2019-07-26</td>\n",
       "      <td>A-1</td>\n",
       "    </tr>\n",
       "  </tbody>\n",
       "</table>\n",
       "</div>"
      ],
      "text/plain": [
       "                 event_name                  uid  event_timestamp  expld  \\\n",
       "0   MainScreenAppear         4575588528974610257  1564029816       246     \n",
       "1   MainScreenAppear         7416695313311560658  1564053102       246     \n",
       "2   PaymentScreenSuccessful  3518123091307005509  1564054127       248     \n",
       "3   CartScreenAppear         3518123091307005509  1564054127       248     \n",
       "4   PaymentScreenSuccessful  6217807653094995999  1564055322       248     \n",
       "5   CartScreenAppear         6217807653094995999  1564055323       248     \n",
       "6   OffersScreenAppear       8351860793733343758  1564066242       246     \n",
       "7   MainScreenAppear         5682100281902512875  1564085677       246     \n",
       "8   MainScreenAppear         1850981295691852772  1564086702       247     \n",
       "9   MainScreenAppear         5407636962369102641  1564112112       246     \n",
       "10  MainScreenAppear         948465712512390382   1564119214       247     \n",
       "11  MainScreenAppear         2547684315586332355  1564123826       248     \n",
       "12  MainScreenAppear         8885295911290764495  1564124085       248     \n",
       "13  MainScreenAppear         2140904690380565988  1564125732       247     \n",
       "14  MainScreenAppear         4444236400320272864  1564135560       246     \n",
       "\n",
       "             date_time event_date group  \n",
       "0  2019-07-25 04:43:36 2019-07-25  A-1   \n",
       "1  2019-07-25 11:11:42 2019-07-25  A-1   \n",
       "2  2019-07-25 11:28:47 2019-07-25  B     \n",
       "3  2019-07-25 11:28:47 2019-07-25  B     \n",
       "4  2019-07-25 11:48:42 2019-07-25  B     \n",
       "5  2019-07-25 11:48:43 2019-07-25  B     \n",
       "6  2019-07-25 14:50:42 2019-07-25  A-1   \n",
       "7  2019-07-25 20:14:37 2019-07-25  A-1   \n",
       "8  2019-07-25 20:31:42 2019-07-25  A-2   \n",
       "9  2019-07-26 03:35:12 2019-07-26  A-1   \n",
       "10 2019-07-26 05:33:34 2019-07-26  A-2   \n",
       "11 2019-07-26 06:50:26 2019-07-26  B     \n",
       "12 2019-07-26 06:54:45 2019-07-26  B     \n",
       "13 2019-07-26 07:22:12 2019-07-26  A-2   \n",
       "14 2019-07-26 10:06:00 2019-07-26  A-1   "
      ]
     },
     "execution_count": 78,
     "metadata": {},
     "output_type": "execute_result"
    }
   ],
   "source": [
    "def group_name(expld):\n",
    "    '''Возвращает название группы'''\n",
    "    if expld == 246:\n",
    "        return \"A-1\"\n",
    "    if expld == 247:\n",
    "        return \"A-2\"\n",
    "    if expld == 248:\n",
    "        return \"B\"\n",
    "\n",
    "app_data['group'] = app_data['expld'].apply(group_name)\n",
    "app_data.head(15)"
   ]
  },
  {
   "cell_type": "markdown",
   "metadata": {},
   "source": [
    "+ Отредактированы названия столбцов, приведены к нижнему регистру\n",
    "+ Пропусков нет\n",
    "+ Изменен тип данных в столбце с датой и временем, выделен отдельный столбец с датами\n",
    "+ Добавлен столбец с расшифровкой по эксперементируемым группам\n",
    "\n",
    "\n",
    "\n",
    "Данные изучены и подготовлены к дальнейшему анализу."
   ]
  },
  {
   "cell_type": "markdown",
   "metadata": {},
   "source": [
    "## Изучение и проверка данных"
   ]
  },
  {
   "cell_type": "code",
   "execution_count": 79,
   "metadata": {},
   "outputs": [
    {
     "name": "stdout",
     "output_type": "stream",
     "text": [
      "Всего уникальных событий в логе: 5\n",
      "Всего событий в логе: 244126\n",
      "Всего уникальных пользователей в логе: 7551\n"
     ]
    }
   ],
   "source": [
    "print('Всего уникальных событий в логе:', app_data['event_name'].nunique())\n",
    "print('Всего событий в логе:', app_data['event_name'].count())\n",
    "print('Всего уникальных пользователей в логе:', app_data['uid'].nunique())"
   ]
  },
  {
   "cell_type": "code",
   "execution_count": 80,
   "metadata": {},
   "outputs": [
    {
     "name": "stdout",
     "output_type": "stream",
     "text": [
      "В среднем на пользователя приходится событий: 32.33028737915508\n"
     ]
    }
   ],
   "source": [
    "event_id = app_data.pivot_table(index='uid', values='event_name', aggfunc = 'count')\n",
    "print('В среднем на пользователя приходится событий:', event_id['event_name'].mean())"
   ]
  },
  {
   "cell_type": "markdown",
   "metadata": {},
   "source": [
    "### Определение периода данных для анализа"
   ]
  },
  {
   "cell_type": "code",
   "execution_count": 81,
   "metadata": {},
   "outputs": [
    {
     "name": "stdout",
     "output_type": "stream",
     "text": [
      "Минимальная дата : 2019-07-25 04:43:36\n",
      "Максимальная дата : 2019-08-07 21:15:17\n"
     ]
    }
   ],
   "source": [
    "print('Минимальная дата :', app_data['date_time'].min())\n",
    "print('Максимальная дата :', app_data['date_time'].max())"
   ]
  },
  {
   "cell_type": "markdown",
   "metadata": {},
   "source": [
    "Данные предоставлены за 13 дней"
   ]
  },
  {
   "cell_type": "code",
   "execution_count": 82,
   "metadata": {},
   "outputs": [
    {
     "data": {
      "text/html": [
       "<div>\n",
       "<style scoped>\n",
       "    .dataframe tbody tr th:only-of-type {\n",
       "        vertical-align: middle;\n",
       "    }\n",
       "\n",
       "    .dataframe tbody tr th {\n",
       "        vertical-align: top;\n",
       "    }\n",
       "\n",
       "    .dataframe thead tr th {\n",
       "        text-align: left;\n",
       "    }\n",
       "</style>\n",
       "<table border=\"1\" class=\"dataframe\">\n",
       "  <thead>\n",
       "    <tr>\n",
       "      <th></th>\n",
       "      <th>event_date</th>\n",
       "      <th colspan=\"5\" halign=\"left\">date_time</th>\n",
       "      <th colspan=\"4\" halign=\"left\">event_timestamp</th>\n",
       "      <th>...</th>\n",
       "      <th colspan=\"5\" halign=\"left\">group</th>\n",
       "      <th colspan=\"5\" halign=\"left\">uid</th>\n",
       "    </tr>\n",
       "    <tr>\n",
       "      <th>event_name</th>\n",
       "      <th></th>\n",
       "      <th>CartScreenAppear</th>\n",
       "      <th>MainScreenAppear</th>\n",
       "      <th>OffersScreenAppear</th>\n",
       "      <th>PaymentScreenSuccessful</th>\n",
       "      <th>Tutorial</th>\n",
       "      <th>CartScreenAppear</th>\n",
       "      <th>MainScreenAppear</th>\n",
       "      <th>OffersScreenAppear</th>\n",
       "      <th>PaymentScreenSuccessful</th>\n",
       "      <th>...</th>\n",
       "      <th>CartScreenAppear</th>\n",
       "      <th>MainScreenAppear</th>\n",
       "      <th>OffersScreenAppear</th>\n",
       "      <th>PaymentScreenSuccessful</th>\n",
       "      <th>Tutorial</th>\n",
       "      <th>CartScreenAppear</th>\n",
       "      <th>MainScreenAppear</th>\n",
       "      <th>OffersScreenAppear</th>\n",
       "      <th>PaymentScreenSuccessful</th>\n",
       "      <th>Tutorial</th>\n",
       "    </tr>\n",
       "  </thead>\n",
       "  <tbody>\n",
       "    <tr>\n",
       "      <td>0</td>\n",
       "      <td>2019-07-25</td>\n",
       "      <td>2.000</td>\n",
       "      <td>4.000</td>\n",
       "      <td>1.000</td>\n",
       "      <td>2.000</td>\n",
       "      <td>nan</td>\n",
       "      <td>2.000</td>\n",
       "      <td>4.000</td>\n",
       "      <td>1.000</td>\n",
       "      <td>2.000</td>\n",
       "      <td>...</td>\n",
       "      <td>2.000</td>\n",
       "      <td>4.000</td>\n",
       "      <td>1.000</td>\n",
       "      <td>2.000</td>\n",
       "      <td>nan</td>\n",
       "      <td>2.000</td>\n",
       "      <td>4.000</td>\n",
       "      <td>1.000</td>\n",
       "      <td>2.000</td>\n",
       "      <td>nan</td>\n",
       "    </tr>\n",
       "    <tr>\n",
       "      <td>1</td>\n",
       "      <td>2019-07-26</td>\n",
       "      <td>6.000</td>\n",
       "      <td>16.000</td>\n",
       "      <td>4.000</td>\n",
       "      <td>3.000</td>\n",
       "      <td>2.000</td>\n",
       "      <td>6.000</td>\n",
       "      <td>16.000</td>\n",
       "      <td>4.000</td>\n",
       "      <td>3.000</td>\n",
       "      <td>...</td>\n",
       "      <td>6.000</td>\n",
       "      <td>16.000</td>\n",
       "      <td>4.000</td>\n",
       "      <td>3.000</td>\n",
       "      <td>2.000</td>\n",
       "      <td>6.000</td>\n",
       "      <td>16.000</td>\n",
       "      <td>4.000</td>\n",
       "      <td>3.000</td>\n",
       "      <td>2.000</td>\n",
       "    </tr>\n",
       "    <tr>\n",
       "      <td>2</td>\n",
       "      <td>2019-07-27</td>\n",
       "      <td>4.000</td>\n",
       "      <td>39.000</td>\n",
       "      <td>9.000</td>\n",
       "      <td>1.000</td>\n",
       "      <td>2.000</td>\n",
       "      <td>4.000</td>\n",
       "      <td>39.000</td>\n",
       "      <td>9.000</td>\n",
       "      <td>1.000</td>\n",
       "      <td>...</td>\n",
       "      <td>4.000</td>\n",
       "      <td>39.000</td>\n",
       "      <td>9.000</td>\n",
       "      <td>1.000</td>\n",
       "      <td>2.000</td>\n",
       "      <td>4.000</td>\n",
       "      <td>39.000</td>\n",
       "      <td>9.000</td>\n",
       "      <td>1.000</td>\n",
       "      <td>2.000</td>\n",
       "    </tr>\n",
       "    <tr>\n",
       "      <td>3</td>\n",
       "      <td>2019-07-28</td>\n",
       "      <td>24.000</td>\n",
       "      <td>53.000</td>\n",
       "      <td>16.000</td>\n",
       "      <td>12.000</td>\n",
       "      <td>nan</td>\n",
       "      <td>24.000</td>\n",
       "      <td>53.000</td>\n",
       "      <td>16.000</td>\n",
       "      <td>12.000</td>\n",
       "      <td>...</td>\n",
       "      <td>24.000</td>\n",
       "      <td>53.000</td>\n",
       "      <td>16.000</td>\n",
       "      <td>12.000</td>\n",
       "      <td>nan</td>\n",
       "      <td>24.000</td>\n",
       "      <td>53.000</td>\n",
       "      <td>16.000</td>\n",
       "      <td>12.000</td>\n",
       "      <td>nan</td>\n",
       "    </tr>\n",
       "    <tr>\n",
       "      <td>4</td>\n",
       "      <td>2019-07-29</td>\n",
       "      <td>23.000</td>\n",
       "      <td>132.000</td>\n",
       "      <td>20.000</td>\n",
       "      <td>9.000</td>\n",
       "      <td>nan</td>\n",
       "      <td>23.000</td>\n",
       "      <td>132.000</td>\n",
       "      <td>20.000</td>\n",
       "      <td>9.000</td>\n",
       "      <td>...</td>\n",
       "      <td>23.000</td>\n",
       "      <td>132.000</td>\n",
       "      <td>20.000</td>\n",
       "      <td>9.000</td>\n",
       "      <td>nan</td>\n",
       "      <td>23.000</td>\n",
       "      <td>132.000</td>\n",
       "      <td>20.000</td>\n",
       "      <td>9.000</td>\n",
       "      <td>nan</td>\n",
       "    </tr>\n",
       "    <tr>\n",
       "      <td>5</td>\n",
       "      <td>2019-07-30</td>\n",
       "      <td>49.000</td>\n",
       "      <td>280.000</td>\n",
       "      <td>51.000</td>\n",
       "      <td>33.000</td>\n",
       "      <td>nan</td>\n",
       "      <td>49.000</td>\n",
       "      <td>280.000</td>\n",
       "      <td>51.000</td>\n",
       "      <td>33.000</td>\n",
       "      <td>...</td>\n",
       "      <td>49.000</td>\n",
       "      <td>280.000</td>\n",
       "      <td>51.000</td>\n",
       "      <td>33.000</td>\n",
       "      <td>nan</td>\n",
       "      <td>49.000</td>\n",
       "      <td>280.000</td>\n",
       "      <td>51.000</td>\n",
       "      <td>33.000</td>\n",
       "      <td>nan</td>\n",
       "    </tr>\n",
       "    <tr>\n",
       "      <td>6</td>\n",
       "      <td>2019-07-31</td>\n",
       "      <td>258.000</td>\n",
       "      <td>1250.000</td>\n",
       "      <td>374.000</td>\n",
       "      <td>140.000</td>\n",
       "      <td>9.000</td>\n",
       "      <td>258.000</td>\n",
       "      <td>1250.000</td>\n",
       "      <td>374.000</td>\n",
       "      <td>140.000</td>\n",
       "      <td>...</td>\n",
       "      <td>258.000</td>\n",
       "      <td>1250.000</td>\n",
       "      <td>374.000</td>\n",
       "      <td>140.000</td>\n",
       "      <td>9.000</td>\n",
       "      <td>258.000</td>\n",
       "      <td>1250.000</td>\n",
       "      <td>374.000</td>\n",
       "      <td>140.000</td>\n",
       "      <td>9.000</td>\n",
       "    </tr>\n",
       "    <tr>\n",
       "      <td>7</td>\n",
       "      <td>2019-08-01</td>\n",
       "      <td>6231.000</td>\n",
       "      <td>17957.000</td>\n",
       "      <td>6991.000</td>\n",
       "      <td>4802.000</td>\n",
       "      <td>248.000</td>\n",
       "      <td>6231.000</td>\n",
       "      <td>17957.000</td>\n",
       "      <td>6991.000</td>\n",
       "      <td>4802.000</td>\n",
       "      <td>...</td>\n",
       "      <td>6231.000</td>\n",
       "      <td>17957.000</td>\n",
       "      <td>6991.000</td>\n",
       "      <td>4802.000</td>\n",
       "      <td>248.000</td>\n",
       "      <td>6231.000</td>\n",
       "      <td>17957.000</td>\n",
       "      <td>6991.000</td>\n",
       "      <td>4802.000</td>\n",
       "      <td>248.000</td>\n",
       "    </tr>\n",
       "    <tr>\n",
       "      <td>8</td>\n",
       "      <td>2019-08-02</td>\n",
       "      <td>6529.000</td>\n",
       "      <td>16812.000</td>\n",
       "      <td>6926.000</td>\n",
       "      <td>5171.000</td>\n",
       "      <td>168.000</td>\n",
       "      <td>6529.000</td>\n",
       "      <td>16812.000</td>\n",
       "      <td>6926.000</td>\n",
       "      <td>5171.000</td>\n",
       "      <td>...</td>\n",
       "      <td>6529.000</td>\n",
       "      <td>16812.000</td>\n",
       "      <td>6926.000</td>\n",
       "      <td>5171.000</td>\n",
       "      <td>168.000</td>\n",
       "      <td>6529.000</td>\n",
       "      <td>16812.000</td>\n",
       "      <td>6926.000</td>\n",
       "      <td>5171.000</td>\n",
       "      <td>168.000</td>\n",
       "    </tr>\n",
       "    <tr>\n",
       "      <td>9</td>\n",
       "      <td>2019-08-03</td>\n",
       "      <td>6381.000</td>\n",
       "      <td>14845.000</td>\n",
       "      <td>6797.000</td>\n",
       "      <td>5166.000</td>\n",
       "      <td>162.000</td>\n",
       "      <td>6381.000</td>\n",
       "      <td>14845.000</td>\n",
       "      <td>6797.000</td>\n",
       "      <td>5166.000</td>\n",
       "      <td>...</td>\n",
       "      <td>6381.000</td>\n",
       "      <td>14845.000</td>\n",
       "      <td>6797.000</td>\n",
       "      <td>5166.000</td>\n",
       "      <td>162.000</td>\n",
       "      <td>6381.000</td>\n",
       "      <td>14845.000</td>\n",
       "      <td>6797.000</td>\n",
       "      <td>5166.000</td>\n",
       "      <td>162.000</td>\n",
       "    </tr>\n",
       "    <tr>\n",
       "      <td>10</td>\n",
       "      <td>2019-08-04</td>\n",
       "      <td>6162.000</td>\n",
       "      <td>15216.000</td>\n",
       "      <td>6490.000</td>\n",
       "      <td>5025.000</td>\n",
       "      <td>140.000</td>\n",
       "      <td>6162.000</td>\n",
       "      <td>15216.000</td>\n",
       "      <td>6490.000</td>\n",
       "      <td>5025.000</td>\n",
       "      <td>...</td>\n",
       "      <td>6162.000</td>\n",
       "      <td>15216.000</td>\n",
       "      <td>6490.000</td>\n",
       "      <td>5025.000</td>\n",
       "      <td>140.000</td>\n",
       "      <td>6162.000</td>\n",
       "      <td>15216.000</td>\n",
       "      <td>6490.000</td>\n",
       "      <td>5025.000</td>\n",
       "      <td>140.000</td>\n",
       "    </tr>\n",
       "    <tr>\n",
       "      <td>11</td>\n",
       "      <td>2019-08-05</td>\n",
       "      <td>6257.000</td>\n",
       "      <td>18020.000</td>\n",
       "      <td>6672.000</td>\n",
       "      <td>5043.000</td>\n",
       "      <td>121.000</td>\n",
       "      <td>6257.000</td>\n",
       "      <td>18020.000</td>\n",
       "      <td>6672.000</td>\n",
       "      <td>5043.000</td>\n",
       "      <td>...</td>\n",
       "      <td>6257.000</td>\n",
       "      <td>18020.000</td>\n",
       "      <td>6672.000</td>\n",
       "      <td>5043.000</td>\n",
       "      <td>121.000</td>\n",
       "      <td>6257.000</td>\n",
       "      <td>18020.000</td>\n",
       "      <td>6672.000</td>\n",
       "      <td>5043.000</td>\n",
       "      <td>121.000</td>\n",
       "    </tr>\n",
       "    <tr>\n",
       "      <td>12</td>\n",
       "      <td>2019-08-06</td>\n",
       "      <td>5744.000</td>\n",
       "      <td>18771.000</td>\n",
       "      <td>6533.000</td>\n",
       "      <td>4644.000</td>\n",
       "      <td>130.000</td>\n",
       "      <td>5744.000</td>\n",
       "      <td>18771.000</td>\n",
       "      <td>6533.000</td>\n",
       "      <td>4644.000</td>\n",
       "      <td>...</td>\n",
       "      <td>5744.000</td>\n",
       "      <td>18771.000</td>\n",
       "      <td>6533.000</td>\n",
       "      <td>4644.000</td>\n",
       "      <td>130.000</td>\n",
       "      <td>5744.000</td>\n",
       "      <td>18771.000</td>\n",
       "      <td>6533.000</td>\n",
       "      <td>4644.000</td>\n",
       "      <td>130.000</td>\n",
       "    </tr>\n",
       "    <tr>\n",
       "      <td>13</td>\n",
       "      <td>2019-08-07</td>\n",
       "      <td>5061.000</td>\n",
       "      <td>15810.000</td>\n",
       "      <td>5941.000</td>\n",
       "      <td>4262.000</td>\n",
       "      <td>70.000</td>\n",
       "      <td>5061.000</td>\n",
       "      <td>15810.000</td>\n",
       "      <td>5941.000</td>\n",
       "      <td>4262.000</td>\n",
       "      <td>...</td>\n",
       "      <td>5061.000</td>\n",
       "      <td>15810.000</td>\n",
       "      <td>5941.000</td>\n",
       "      <td>4262.000</td>\n",
       "      <td>70.000</td>\n",
       "      <td>5061.000</td>\n",
       "      <td>15810.000</td>\n",
       "      <td>5941.000</td>\n",
       "      <td>4262.000</td>\n",
       "      <td>70.000</td>\n",
       "    </tr>\n",
       "  </tbody>\n",
       "</table>\n",
       "<p>14 rows × 26 columns</p>\n",
       "</div>"
      ],
      "text/plain": [
       "           event_date        date_time                                      \\\n",
       "event_name            CartScreenAppear MainScreenAppear OffersScreenAppear   \n",
       "0          2019-07-25 2.000            4.000            1.000                \n",
       "1          2019-07-26 6.000            16.000           4.000                \n",
       "2          2019-07-27 4.000            39.000           9.000                \n",
       "3          2019-07-28 24.000           53.000           16.000               \n",
       "4          2019-07-29 23.000           132.000          20.000               \n",
       "5          2019-07-30 49.000           280.000          51.000               \n",
       "6          2019-07-31 258.000          1250.000         374.000              \n",
       "7          2019-08-01 6231.000         17957.000        6991.000             \n",
       "8          2019-08-02 6529.000         16812.000        6926.000             \n",
       "9          2019-08-03 6381.000         14845.000        6797.000             \n",
       "10         2019-08-04 6162.000         15216.000        6490.000             \n",
       "11         2019-08-05 6257.000         18020.000        6672.000             \n",
       "12         2019-08-06 5744.000         18771.000        6533.000             \n",
       "13         2019-08-07 5061.000         15810.000        5941.000             \n",
       "\n",
       "                                             event_timestamp                   \\\n",
       "event_name PaymentScreenSuccessful Tutorial CartScreenAppear MainScreenAppear   \n",
       "0          2.000                   nan      2.000            4.000              \n",
       "1          3.000                   2.000    6.000            16.000             \n",
       "2          1.000                   2.000    4.000            39.000             \n",
       "3          12.000                  nan      24.000           53.000             \n",
       "4          9.000                   nan      23.000           132.000            \n",
       "5          33.000                  nan      49.000           280.000            \n",
       "6          140.000                 9.000    258.000          1250.000           \n",
       "7          4802.000                248.000  6231.000         17957.000          \n",
       "8          5171.000                168.000  6529.000         16812.000          \n",
       "9          5166.000                162.000  6381.000         14845.000          \n",
       "10         5025.000                140.000  6162.000         15216.000          \n",
       "11         5043.000                121.000  6257.000         18020.000          \n",
       "12         4644.000                130.000  5744.000         18771.000          \n",
       "13         4262.000                70.000   5061.000         15810.000          \n",
       "\n",
       "                                                       ...            group  \\\n",
       "event_name OffersScreenAppear PaymentScreenSuccessful  ... CartScreenAppear   \n",
       "0          1.000              2.000                    ... 2.000              \n",
       "1          4.000              3.000                    ... 6.000              \n",
       "2          9.000              1.000                    ... 4.000              \n",
       "3          16.000             12.000                   ... 24.000             \n",
       "4          20.000             9.000                    ... 23.000             \n",
       "5          51.000             33.000                   ... 49.000             \n",
       "6          374.000            140.000                  ... 258.000            \n",
       "7          6991.000           4802.000                 ... 6231.000           \n",
       "8          6926.000           5171.000                 ... 6529.000           \n",
       "9          6797.000           5166.000                 ... 6381.000           \n",
       "10         6490.000           5025.000                 ... 6162.000           \n",
       "11         6672.000           5043.000                 ... 6257.000           \n",
       "12         6533.000           4644.000                 ... 5744.000           \n",
       "13         5941.000           4262.000                 ... 5061.000           \n",
       "\n",
       "                                                                        \\\n",
       "event_name MainScreenAppear OffersScreenAppear PaymentScreenSuccessful   \n",
       "0          4.000            1.000              2.000                     \n",
       "1          16.000           4.000              3.000                     \n",
       "2          39.000           9.000              1.000                     \n",
       "3          53.000           16.000             12.000                    \n",
       "4          132.000          20.000             9.000                     \n",
       "5          280.000          51.000             33.000                    \n",
       "6          1250.000         374.000            140.000                   \n",
       "7          17957.000        6991.000           4802.000                  \n",
       "8          16812.000        6926.000           5171.000                  \n",
       "9          14845.000        6797.000           5166.000                  \n",
       "10         15216.000        6490.000           5025.000                  \n",
       "11         18020.000        6672.000           5043.000                  \n",
       "12         18771.000        6533.000           4644.000                  \n",
       "13         15810.000        5941.000           4262.000                  \n",
       "\n",
       "                                 uid                                      \\\n",
       "event_name Tutorial CartScreenAppear MainScreenAppear OffersScreenAppear   \n",
       "0          nan      2.000            4.000            1.000                \n",
       "1          2.000    6.000            16.000           4.000                \n",
       "2          2.000    4.000            39.000           9.000                \n",
       "3          nan      24.000           53.000           16.000               \n",
       "4          nan      23.000           132.000          20.000               \n",
       "5          nan      49.000           280.000          51.000               \n",
       "6          9.000    258.000          1250.000         374.000              \n",
       "7          248.000  6231.000         17957.000        6991.000             \n",
       "8          168.000  6529.000         16812.000        6926.000             \n",
       "9          162.000  6381.000         14845.000        6797.000             \n",
       "10         140.000  6162.000         15216.000        6490.000             \n",
       "11         121.000  6257.000         18020.000        6672.000             \n",
       "12         130.000  5744.000         18771.000        6533.000             \n",
       "13         70.000   5061.000         15810.000        5941.000             \n",
       "\n",
       "                                             \n",
       "event_name PaymentScreenSuccessful Tutorial  \n",
       "0          2.000                   nan       \n",
       "1          3.000                   2.000     \n",
       "2          1.000                   2.000     \n",
       "3          12.000                  nan       \n",
       "4          9.000                   nan       \n",
       "5          33.000                  nan       \n",
       "6          140.000                 9.000     \n",
       "7          4802.000                248.000   \n",
       "8          5171.000                168.000   \n",
       "9          5166.000                162.000   \n",
       "10         5025.000                140.000   \n",
       "11         5043.000                121.000   \n",
       "12         4644.000                130.000   \n",
       "13         4262.000                70.000    \n",
       "\n",
       "[14 rows x 26 columns]"
      ]
     },
     "execution_count": 82,
     "metadata": {},
     "output_type": "execute_result"
    }
   ],
   "source": [
    "date_data = app_data.pivot_table(index='event_date', columns='event_name', aggfunc='count').reset_index()\n",
    "date_data"
   ]
  },
  {
   "cell_type": "markdown",
   "metadata": {},
   "source": [
    "Данные предоставлены неравномерно. Полные данные представлены только с 31.08.2019 Для дальнейшего анализа оставим данные за последнюю неделю: с 01.08.2019 по 07.08.2019."
   ]
  },
  {
   "cell_type": "code",
   "execution_count": 83,
   "metadata": {},
   "outputs": [
    {
     "data": {
      "text/html": [
       "<div>\n",
       "<style scoped>\n",
       "    .dataframe tbody tr th:only-of-type {\n",
       "        vertical-align: middle;\n",
       "    }\n",
       "\n",
       "    .dataframe tbody tr th {\n",
       "        vertical-align: top;\n",
       "    }\n",
       "\n",
       "    .dataframe thead th {\n",
       "        text-align: right;\n",
       "    }\n",
       "</style>\n",
       "<table border=\"1\" class=\"dataframe\">\n",
       "  <thead>\n",
       "    <tr style=\"text-align: right;\">\n",
       "      <th></th>\n",
       "      <th>event_name</th>\n",
       "      <th>uid</th>\n",
       "      <th>event_timestamp</th>\n",
       "      <th>expld</th>\n",
       "      <th>date_time</th>\n",
       "      <th>event_date</th>\n",
       "      <th>group</th>\n",
       "    </tr>\n",
       "  </thead>\n",
       "  <tbody>\n",
       "    <tr>\n",
       "      <td>2828</td>\n",
       "      <td>Tutorial</td>\n",
       "      <td>3737462046622621720</td>\n",
       "      <td>1564618048</td>\n",
       "      <td>246</td>\n",
       "      <td>2019-08-01 00:07:28</td>\n",
       "      <td>2019-08-01</td>\n",
       "      <td>A-1</td>\n",
       "    </tr>\n",
       "    <tr>\n",
       "      <td>2829</td>\n",
       "      <td>MainScreenAppear</td>\n",
       "      <td>3737462046622621720</td>\n",
       "      <td>1564618080</td>\n",
       "      <td>246</td>\n",
       "      <td>2019-08-01 00:08:00</td>\n",
       "      <td>2019-08-01</td>\n",
       "      <td>A-1</td>\n",
       "    </tr>\n",
       "    <tr>\n",
       "      <td>2830</td>\n",
       "      <td>MainScreenAppear</td>\n",
       "      <td>3737462046622621720</td>\n",
       "      <td>1564618135</td>\n",
       "      <td>246</td>\n",
       "      <td>2019-08-01 00:08:55</td>\n",
       "      <td>2019-08-01</td>\n",
       "      <td>A-1</td>\n",
       "    </tr>\n",
       "    <tr>\n",
       "      <td>2831</td>\n",
       "      <td>OffersScreenAppear</td>\n",
       "      <td>3737462046622621720</td>\n",
       "      <td>1564618138</td>\n",
       "      <td>246</td>\n",
       "      <td>2019-08-01 00:08:58</td>\n",
       "      <td>2019-08-01</td>\n",
       "      <td>A-1</td>\n",
       "    </tr>\n",
       "    <tr>\n",
       "      <td>2832</td>\n",
       "      <td>MainScreenAppear</td>\n",
       "      <td>1433840883824088890</td>\n",
       "      <td>1564618139</td>\n",
       "      <td>247</td>\n",
       "      <td>2019-08-01 00:08:59</td>\n",
       "      <td>2019-08-01</td>\n",
       "      <td>A-2</td>\n",
       "    </tr>\n",
       "  </tbody>\n",
       "</table>\n",
       "</div>"
      ],
      "text/plain": [
       "              event_name                  uid  event_timestamp  expld  \\\n",
       "2828  Tutorial            3737462046622621720  1564618048       246     \n",
       "2829  MainScreenAppear    3737462046622621720  1564618080       246     \n",
       "2830  MainScreenAppear    3737462046622621720  1564618135       246     \n",
       "2831  OffersScreenAppear  3737462046622621720  1564618138       246     \n",
       "2832  MainScreenAppear    1433840883824088890  1564618139       247     \n",
       "\n",
       "               date_time event_date group  \n",
       "2828 2019-08-01 00:07:28 2019-08-01  A-1   \n",
       "2829 2019-08-01 00:08:00 2019-08-01  A-1   \n",
       "2830 2019-08-01 00:08:55 2019-08-01  A-1   \n",
       "2831 2019-08-01 00:08:58 2019-08-01  A-1   \n",
       "2832 2019-08-01 00:08:59 2019-08-01  A-2   "
      ]
     },
     "execution_count": 83,
     "metadata": {},
     "output_type": "execute_result"
    }
   ],
   "source": [
    "new_app_data = app_data.query('event_date >= \"2019-08-01\"') #датасет с одинаковой полностью данных\n",
    "new_app_data.head()"
   ]
  },
  {
   "cell_type": "code",
   "execution_count": 84,
   "metadata": {},
   "outputs": [
    {
     "name": "stdout",
     "output_type": "stream",
     "text": [
      "Всего уникальных событий в отредактированных данных: 5\n",
      "Всего событий в отредактированных данных: 241298\n",
      "Всего уникальных пользователей в отредактированных данных: 7534\n",
      "Потеряно данных о пользователях: 17\n",
      "Потеряно данных о событиях: 2828\n",
      "Потеряно данных о событиях в %: 0.011584181938834865\n"
     ]
    }
   ],
   "source": [
    "print('Всего уникальных событий в отредактированных данных:', new_app_data['event_name'].nunique())\n",
    "print('Всего событий в отредактированных данных:', new_app_data['event_name'].count())\n",
    "print('Всего уникальных пользователей в отредактированных данных:', new_app_data['uid'].nunique())\n",
    "print('Потеряно данных о пользователях:', app_data['uid'].nunique() - new_app_data['uid'].nunique())\n",
    "print('Потеряно данных о событиях:', app_data['event_name'].count() - new_app_data['event_name'].count())\n",
    "print('Потеряно данных о событиях в %:', (app_data['event_name'].count() - new_app_data['event_name'].count()) /\\\n",
    "     len(app_data['event_name']))\n"
   ]
  },
  {
   "cell_type": "code",
   "execution_count": 85,
   "metadata": {
    "scrolled": true
   },
   "outputs": [
    {
     "data": {
      "text/html": [
       "<div>\n",
       "<style scoped>\n",
       "    .dataframe tbody tr th:only-of-type {\n",
       "        vertical-align: middle;\n",
       "    }\n",
       "\n",
       "    .dataframe tbody tr th {\n",
       "        vertical-align: top;\n",
       "    }\n",
       "\n",
       "    .dataframe thead th {\n",
       "        text-align: right;\n",
       "    }\n",
       "</style>\n",
       "<table border=\"1\" class=\"dataframe\">\n",
       "  <thead>\n",
       "    <tr style=\"text-align: right;\">\n",
       "      <th></th>\n",
       "      <th>uid</th>\n",
       "    </tr>\n",
       "    <tr>\n",
       "      <th>group</th>\n",
       "      <th></th>\n",
       "    </tr>\n",
       "  </thead>\n",
       "  <tbody>\n",
       "    <tr>\n",
       "      <td>A-1</td>\n",
       "      <td>79425</td>\n",
       "    </tr>\n",
       "    <tr>\n",
       "      <td>A-2</td>\n",
       "      <td>77147</td>\n",
       "    </tr>\n",
       "    <tr>\n",
       "      <td>B</td>\n",
       "      <td>84726</td>\n",
       "    </tr>\n",
       "  </tbody>\n",
       "</table>\n",
       "</div>"
      ],
      "text/plain": [
       "         uid\n",
       "group       \n",
       "A-1    79425\n",
       "A-2    77147\n",
       "B      84726"
      ]
     },
     "execution_count": 85,
     "metadata": {},
     "output_type": "execute_result"
    }
   ],
   "source": [
    "expld_id = new_app_data.pivot_table(index='group', values='uid', aggfunc = 'count')\n",
    "expld_id #данные представлены всеми группами эксперимента"
   ]
  },
  {
   "cell_type": "markdown",
   "metadata": {},
   "source": [
    "Данные отредактированны по принципу полного объема представленных событий. При редактировании потеряно 0,003% от обзего объема данных. Отредактированные данные представлены всеми группами эксперимента."
   ]
  },
  {
   "cell_type": "markdown",
   "metadata": {},
   "source": [
    "## Воронка событий"
   ]
  },
  {
   "cell_type": "code",
   "execution_count": 86,
   "metadata": {},
   "outputs": [
    {
     "data": {
      "text/plain": [
       "Tutorial                   1039  \n",
       "PaymentScreenSuccessful    34113 \n",
       "CartScreenAppear           42365 \n",
       "OffersScreenAppear         46350 \n",
       "MainScreenAppear           117431\n",
       "Name: event_name, dtype: int64"
      ]
     },
     "execution_count": 86,
     "metadata": {},
     "output_type": "execute_result"
    }
   ],
   "source": [
    "new_app_data['event_name'].value_counts().sort_values()"
   ]
  },
  {
   "cell_type": "markdown",
   "metadata": {},
   "source": [
    "Чаще всего встречается событие MainScreenAppear - посещение главной страницы."
   ]
  },
  {
   "cell_type": "markdown",
   "metadata": {},
   "source": [
    "###  Сколько пользователей совершали каждое из событий"
   ]
  },
  {
   "cell_type": "code",
   "execution_count": 87,
   "metadata": {
    "scrolled": true
   },
   "outputs": [
    {
     "name": "stdout",
     "output_type": "stream",
     "text": [
      "Количество и доля пользователей, совершивших каждое событие\n",
      "                 event_name group   uid  percent\n",
      "0   MainScreenAppear         B     2493 34.216  \n",
      "1   MainScreenAppear         A-2   2476 33.983  \n",
      "2   MainScreenAppear         A-1   2450 33.626  \n",
      "3   OffersScreenAppear       A-1   1542 21.164  \n",
      "4   OffersScreenAppear       B     1531 21.013  \n",
      "5   OffersScreenAppear       A-2   1520 20.862  \n",
      "6   CartScreenAppear         A-1   1266 17.376  \n",
      "7   CartScreenAppear         A-2   1238 16.991  \n",
      "8   CartScreenAppear         B     1230 16.882  \n",
      "9   PaymentScreenSuccessful  A-1   1200 16.470  \n",
      "10  PaymentScreenSuccessful  B     1181 16.209  \n",
      "11  PaymentScreenSuccessful  A-2   1158 15.893  \n",
      "12  Tutorial                 A-2   283  3.884   \n",
      "13  Tutorial                 B     279  3.829   \n",
      "14  Tutorial                 A-1   278  3.816   \n"
     ]
    }
   ],
   "source": [
    "print('Количество и доля пользователей, совершивших каждое событие')\n",
    "uid_count = new_app_data.groupby(['event_name','group']).agg({'uid':'nunique'}).\\\n",
    "sort_values(by='uid',ascending=False).reset_index()\n",
    "uid_count['percent'] = uid_count['uid'] / 7286 * 100\n",
    "print(uid_count)"
   ]
  },
  {
   "cell_type": "markdown",
   "metadata": {},
   "source": [
    "Предположительно, последовательность событий может быть следующей: MainScreenAppear - Tutorial -  OffersScreenAppear - CartScreenAppear - PaymentScreenSuccessful. Тем не менее, событие Tutorial (руководство) совершает только 9% всех юзеров. Данное событие логично не учитывать при расчете воронки. Также, стоит помнить, что пользователь может совершить первое действие, пропустив возможные (например по прямой ссылке)."
   ]
  },
  {
   "cell_type": "markdown",
   "metadata": {},
   "source": [
    "### Воронка событий"
   ]
  },
  {
   "cell_type": "code",
   "execution_count": 88,
   "metadata": {
    "scrolled": true
   },
   "outputs": [
    {
     "name": "stdout",
     "output_type": "stream",
     "text": [
      "<class 'pandas.core.frame.DataFrame'>\n",
      "Int64Index: 7534 entries, 6888746892508752 to 9222603179720523844\n",
      "Data columns (total 5 columns):\n",
      "CartScreenAppear           3734 non-null datetime64[ns]\n",
      "MainScreenAppear           7419 non-null datetime64[ns]\n",
      "OffersScreenAppear         4593 non-null datetime64[ns]\n",
      "PaymentScreenSuccessful    3539 non-null datetime64[ns]\n",
      "Tutorial                   840 non-null datetime64[ns]\n",
      "dtypes: datetime64[ns](5)\n",
      "memory usage: 353.2 KB\n"
     ]
    }
   ],
   "source": [
    "uid_count1 = new_app_data.pivot_table(index='uid', columns='event_name', values='date_time', aggfunc='min')\n",
    "uid_count1.info()"
   ]
  },
  {
   "cell_type": "code",
   "execution_count": 89,
   "metadata": {},
   "outputs": [
    {
     "name": "stdout",
     "output_type": "stream",
     "text": [
      "Доля посетивших главную страницу из общего количества пользователей: 98.47358640828246\n",
      "Конверсия из посещения главной страницы в просмотр оффера: 61.908613020622724\n",
      "Конверсия из просмотра оффера в переход в корзину: 81.29762682342695\n",
      "Конверсия из перехода в корзину в успешную оплату: 94.7777182645956\n",
      "Доля пользователей, дошедших до успешной оплаты от общего количества: 46.973719139899124\n"
     ]
    }
   ],
   "source": [
    "print('Доля посетивших главную страницу из общего количества пользователей:', uid_count1['MainScreenAppear'].\\\n",
    "      count() / len(uid_count1)*100)\n",
    "print('Конверсия из посещения главной страницы в просмотр оффера:', uid_count1['OffersScreenAppear'].count() /\\\n",
    "     uid_count1['MainScreenAppear'].count()*100)\n",
    "print('Конверсия из просмотра оффера в переход в корзину:', uid_count1['CartScreenAppear'].count() /\\\n",
    "     uid_count1['OffersScreenAppear'].count()*100)\n",
    "print('Конверсия из перехода в корзину в успешную оплату:', uid_count1['PaymentScreenSuccessful'].count() /\\\n",
    "     uid_count1['CartScreenAppear'].count()*100)\n",
    "print('Доля пользователей, дошедших до успешной оплаты от общего количества:',\\\n",
    "      uid_count1['PaymentScreenSuccessful'].count() / len(uid_count1)*100)"
   ]
  },
  {
   "cell_type": "code",
   "execution_count": 90,
   "metadata": {},
   "outputs": [
    {
     "data": {
      "application/vnd.plotly.v1+json": {
       "config": {
        "plotlyServerURL": "https://plot.ly"
       },
       "data": [
        {
         "name": "A-1",
         "orientation": "h",
         "textinfo": "value+percent initial",
         "type": "funnel",
         "x": [
          2450,
          1542,
          1266,
          1200,
          278
         ],
         "y": [
          "MainScreenAppear",
          "OffersScreenAppear",
          "CartScreenAppear",
          "PaymentScreenSuccessful",
          "Tutorial"
         ]
        },
        {
         "name": "A-2",
         "orientation": "h",
         "textinfo": "value+percent initial",
         "type": "funnel",
         "x": [
          2476,
          1520,
          1238,
          1158,
          283
         ],
         "y": [
          "MainScreenAppear",
          "OffersScreenAppear",
          "CartScreenAppear",
          "PaymentScreenSuccessful",
          "Tutorial"
         ]
        },
        {
         "name": "B",
         "orientation": "h",
         "textinfo": "value+percent initial",
         "type": "funnel",
         "x": [
          2493,
          1531,
          1230,
          1181,
          279
         ],
         "y": [
          "MainScreenAppear",
          "OffersScreenAppear",
          "CartScreenAppear",
          "PaymentScreenSuccessful",
          "Tutorial"
         ]
        }
       ],
       "layout": {
        "template": {
         "data": {
          "bar": [
           {
            "error_x": {
             "color": "#2a3f5f"
            },
            "error_y": {
             "color": "#2a3f5f"
            },
            "marker": {
             "line": {
              "color": "#E5ECF6",
              "width": 0.5
             }
            },
            "type": "bar"
           }
          ],
          "barpolar": [
           {
            "marker": {
             "line": {
              "color": "#E5ECF6",
              "width": 0.5
             }
            },
            "type": "barpolar"
           }
          ],
          "carpet": [
           {
            "aaxis": {
             "endlinecolor": "#2a3f5f",
             "gridcolor": "white",
             "linecolor": "white",
             "minorgridcolor": "white",
             "startlinecolor": "#2a3f5f"
            },
            "baxis": {
             "endlinecolor": "#2a3f5f",
             "gridcolor": "white",
             "linecolor": "white",
             "minorgridcolor": "white",
             "startlinecolor": "#2a3f5f"
            },
            "type": "carpet"
           }
          ],
          "choropleth": [
           {
            "colorbar": {
             "outlinewidth": 0,
             "ticks": ""
            },
            "type": "choropleth"
           }
          ],
          "contour": [
           {
            "colorbar": {
             "outlinewidth": 0,
             "ticks": ""
            },
            "colorscale": [
             [
              0,
              "#0d0887"
             ],
             [
              0.1111111111111111,
              "#46039f"
             ],
             [
              0.2222222222222222,
              "#7201a8"
             ],
             [
              0.3333333333333333,
              "#9c179e"
             ],
             [
              0.4444444444444444,
              "#bd3786"
             ],
             [
              0.5555555555555556,
              "#d8576b"
             ],
             [
              0.6666666666666666,
              "#ed7953"
             ],
             [
              0.7777777777777778,
              "#fb9f3a"
             ],
             [
              0.8888888888888888,
              "#fdca26"
             ],
             [
              1,
              "#f0f921"
             ]
            ],
            "type": "contour"
           }
          ],
          "contourcarpet": [
           {
            "colorbar": {
             "outlinewidth": 0,
             "ticks": ""
            },
            "type": "contourcarpet"
           }
          ],
          "heatmap": [
           {
            "colorbar": {
             "outlinewidth": 0,
             "ticks": ""
            },
            "colorscale": [
             [
              0,
              "#0d0887"
             ],
             [
              0.1111111111111111,
              "#46039f"
             ],
             [
              0.2222222222222222,
              "#7201a8"
             ],
             [
              0.3333333333333333,
              "#9c179e"
             ],
             [
              0.4444444444444444,
              "#bd3786"
             ],
             [
              0.5555555555555556,
              "#d8576b"
             ],
             [
              0.6666666666666666,
              "#ed7953"
             ],
             [
              0.7777777777777778,
              "#fb9f3a"
             ],
             [
              0.8888888888888888,
              "#fdca26"
             ],
             [
              1,
              "#f0f921"
             ]
            ],
            "type": "heatmap"
           }
          ],
          "heatmapgl": [
           {
            "colorbar": {
             "outlinewidth": 0,
             "ticks": ""
            },
            "colorscale": [
             [
              0,
              "#0d0887"
             ],
             [
              0.1111111111111111,
              "#46039f"
             ],
             [
              0.2222222222222222,
              "#7201a8"
             ],
             [
              0.3333333333333333,
              "#9c179e"
             ],
             [
              0.4444444444444444,
              "#bd3786"
             ],
             [
              0.5555555555555556,
              "#d8576b"
             ],
             [
              0.6666666666666666,
              "#ed7953"
             ],
             [
              0.7777777777777778,
              "#fb9f3a"
             ],
             [
              0.8888888888888888,
              "#fdca26"
             ],
             [
              1,
              "#f0f921"
             ]
            ],
            "type": "heatmapgl"
           }
          ],
          "histogram": [
           {
            "marker": {
             "colorbar": {
              "outlinewidth": 0,
              "ticks": ""
             }
            },
            "type": "histogram"
           }
          ],
          "histogram2d": [
           {
            "colorbar": {
             "outlinewidth": 0,
             "ticks": ""
            },
            "colorscale": [
             [
              0,
              "#0d0887"
             ],
             [
              0.1111111111111111,
              "#46039f"
             ],
             [
              0.2222222222222222,
              "#7201a8"
             ],
             [
              0.3333333333333333,
              "#9c179e"
             ],
             [
              0.4444444444444444,
              "#bd3786"
             ],
             [
              0.5555555555555556,
              "#d8576b"
             ],
             [
              0.6666666666666666,
              "#ed7953"
             ],
             [
              0.7777777777777778,
              "#fb9f3a"
             ],
             [
              0.8888888888888888,
              "#fdca26"
             ],
             [
              1,
              "#f0f921"
             ]
            ],
            "type": "histogram2d"
           }
          ],
          "histogram2dcontour": [
           {
            "colorbar": {
             "outlinewidth": 0,
             "ticks": ""
            },
            "colorscale": [
             [
              0,
              "#0d0887"
             ],
             [
              0.1111111111111111,
              "#46039f"
             ],
             [
              0.2222222222222222,
              "#7201a8"
             ],
             [
              0.3333333333333333,
              "#9c179e"
             ],
             [
              0.4444444444444444,
              "#bd3786"
             ],
             [
              0.5555555555555556,
              "#d8576b"
             ],
             [
              0.6666666666666666,
              "#ed7953"
             ],
             [
              0.7777777777777778,
              "#fb9f3a"
             ],
             [
              0.8888888888888888,
              "#fdca26"
             ],
             [
              1,
              "#f0f921"
             ]
            ],
            "type": "histogram2dcontour"
           }
          ],
          "mesh3d": [
           {
            "colorbar": {
             "outlinewidth": 0,
             "ticks": ""
            },
            "type": "mesh3d"
           }
          ],
          "parcoords": [
           {
            "line": {
             "colorbar": {
              "outlinewidth": 0,
              "ticks": ""
             }
            },
            "type": "parcoords"
           }
          ],
          "scatter": [
           {
            "marker": {
             "colorbar": {
              "outlinewidth": 0,
              "ticks": ""
             }
            },
            "type": "scatter"
           }
          ],
          "scatter3d": [
           {
            "line": {
             "colorbar": {
              "outlinewidth": 0,
              "ticks": ""
             }
            },
            "marker": {
             "colorbar": {
              "outlinewidth": 0,
              "ticks": ""
             }
            },
            "type": "scatter3d"
           }
          ],
          "scattercarpet": [
           {
            "marker": {
             "colorbar": {
              "outlinewidth": 0,
              "ticks": ""
             }
            },
            "type": "scattercarpet"
           }
          ],
          "scattergeo": [
           {
            "marker": {
             "colorbar": {
              "outlinewidth": 0,
              "ticks": ""
             }
            },
            "type": "scattergeo"
           }
          ],
          "scattergl": [
           {
            "marker": {
             "colorbar": {
              "outlinewidth": 0,
              "ticks": ""
             }
            },
            "type": "scattergl"
           }
          ],
          "scattermapbox": [
           {
            "marker": {
             "colorbar": {
              "outlinewidth": 0,
              "ticks": ""
             }
            },
            "type": "scattermapbox"
           }
          ],
          "scatterpolar": [
           {
            "marker": {
             "colorbar": {
              "outlinewidth": 0,
              "ticks": ""
             }
            },
            "type": "scatterpolar"
           }
          ],
          "scatterpolargl": [
           {
            "marker": {
             "colorbar": {
              "outlinewidth": 0,
              "ticks": ""
             }
            },
            "type": "scatterpolargl"
           }
          ],
          "scatterternary": [
           {
            "marker": {
             "colorbar": {
              "outlinewidth": 0,
              "ticks": ""
             }
            },
            "type": "scatterternary"
           }
          ],
          "surface": [
           {
            "colorbar": {
             "outlinewidth": 0,
             "ticks": ""
            },
            "colorscale": [
             [
              0,
              "#0d0887"
             ],
             [
              0.1111111111111111,
              "#46039f"
             ],
             [
              0.2222222222222222,
              "#7201a8"
             ],
             [
              0.3333333333333333,
              "#9c179e"
             ],
             [
              0.4444444444444444,
              "#bd3786"
             ],
             [
              0.5555555555555556,
              "#d8576b"
             ],
             [
              0.6666666666666666,
              "#ed7953"
             ],
             [
              0.7777777777777778,
              "#fb9f3a"
             ],
             [
              0.8888888888888888,
              "#fdca26"
             ],
             [
              1,
              "#f0f921"
             ]
            ],
            "type": "surface"
           }
          ],
          "table": [
           {
            "cells": {
             "fill": {
              "color": "#EBF0F8"
             },
             "line": {
              "color": "white"
             }
            },
            "header": {
             "fill": {
              "color": "#C8D4E3"
             },
             "line": {
              "color": "white"
             }
            },
            "type": "table"
           }
          ]
         },
         "layout": {
          "annotationdefaults": {
           "arrowcolor": "#2a3f5f",
           "arrowhead": 0,
           "arrowwidth": 1
          },
          "colorscale": {
           "diverging": [
            [
             0,
             "#8e0152"
            ],
            [
             0.1,
             "#c51b7d"
            ],
            [
             0.2,
             "#de77ae"
            ],
            [
             0.3,
             "#f1b6da"
            ],
            [
             0.4,
             "#fde0ef"
            ],
            [
             0.5,
             "#f7f7f7"
            ],
            [
             0.6,
             "#e6f5d0"
            ],
            [
             0.7,
             "#b8e186"
            ],
            [
             0.8,
             "#7fbc41"
            ],
            [
             0.9,
             "#4d9221"
            ],
            [
             1,
             "#276419"
            ]
           ],
           "sequential": [
            [
             0,
             "#0d0887"
            ],
            [
             0.1111111111111111,
             "#46039f"
            ],
            [
             0.2222222222222222,
             "#7201a8"
            ],
            [
             0.3333333333333333,
             "#9c179e"
            ],
            [
             0.4444444444444444,
             "#bd3786"
            ],
            [
             0.5555555555555556,
             "#d8576b"
            ],
            [
             0.6666666666666666,
             "#ed7953"
            ],
            [
             0.7777777777777778,
             "#fb9f3a"
            ],
            [
             0.8888888888888888,
             "#fdca26"
            ],
            [
             1,
             "#f0f921"
            ]
           ],
           "sequentialminus": [
            [
             0,
             "#0d0887"
            ],
            [
             0.1111111111111111,
             "#46039f"
            ],
            [
             0.2222222222222222,
             "#7201a8"
            ],
            [
             0.3333333333333333,
             "#9c179e"
            ],
            [
             0.4444444444444444,
             "#bd3786"
            ],
            [
             0.5555555555555556,
             "#d8576b"
            ],
            [
             0.6666666666666666,
             "#ed7953"
            ],
            [
             0.7777777777777778,
             "#fb9f3a"
            ],
            [
             0.8888888888888888,
             "#fdca26"
            ],
            [
             1,
             "#f0f921"
            ]
           ]
          },
          "colorway": [
           "#636efa",
           "#EF553B",
           "#00cc96",
           "#ab63fa",
           "#FFA15A",
           "#19d3f3",
           "#FF6692",
           "#B6E880",
           "#FF97FF",
           "#FECB52"
          ],
          "font": {
           "color": "#2a3f5f"
          },
          "geo": {
           "bgcolor": "white",
           "lakecolor": "white",
           "landcolor": "#E5ECF6",
           "showlakes": true,
           "showland": true,
           "subunitcolor": "white"
          },
          "hoverlabel": {
           "align": "left"
          },
          "hovermode": "closest",
          "mapbox": {
           "style": "light"
          },
          "paper_bgcolor": "white",
          "plot_bgcolor": "#E5ECF6",
          "polar": {
           "angularaxis": {
            "gridcolor": "white",
            "linecolor": "white",
            "ticks": ""
           },
           "bgcolor": "#E5ECF6",
           "radialaxis": {
            "gridcolor": "white",
            "linecolor": "white",
            "ticks": ""
           }
          },
          "scene": {
           "xaxis": {
            "backgroundcolor": "#E5ECF6",
            "gridcolor": "white",
            "gridwidth": 2,
            "linecolor": "white",
            "showbackground": true,
            "ticks": "",
            "zerolinecolor": "white"
           },
           "yaxis": {
            "backgroundcolor": "#E5ECF6",
            "gridcolor": "white",
            "gridwidth": 2,
            "linecolor": "white",
            "showbackground": true,
            "ticks": "",
            "zerolinecolor": "white"
           },
           "zaxis": {
            "backgroundcolor": "#E5ECF6",
            "gridcolor": "white",
            "gridwidth": 2,
            "linecolor": "white",
            "showbackground": true,
            "ticks": "",
            "zerolinecolor": "white"
           }
          },
          "shapedefaults": {
           "line": {
            "color": "#2a3f5f"
           }
          },
          "ternary": {
           "aaxis": {
            "gridcolor": "white",
            "linecolor": "white",
            "ticks": ""
           },
           "baxis": {
            "gridcolor": "white",
            "linecolor": "white",
            "ticks": ""
           },
           "bgcolor": "#E5ECF6",
           "caxis": {
            "gridcolor": "white",
            "linecolor": "white",
            "ticks": ""
           }
          },
          "title": {
           "x": 0.05
          },
          "xaxis": {
           "automargin": true,
           "gridcolor": "white",
           "linecolor": "white",
           "ticks": "",
           "zerolinecolor": "white",
           "zerolinewidth": 2
          },
          "yaxis": {
           "automargin": true,
           "gridcolor": "white",
           "linecolor": "white",
           "ticks": "",
           "zerolinecolor": "white",
           "zerolinewidth": 2
          }
         }
        },
        "title": {
         "text": "Воронка событий"
        }
       }
      },
      "text/html": [
       "<div>\n",
       "        \n",
       "        \n",
       "            <div id=\"45a5fb09-9838-4f82-9300-b5b041f56d75\" class=\"plotly-graph-div\" style=\"height:525px; width:100%;\"></div>\n",
       "            <script type=\"text/javascript\">\n",
       "                require([\"plotly\"], function(Plotly) {\n",
       "                    window.PLOTLYENV=window.PLOTLYENV || {};\n",
       "                    \n",
       "                if (document.getElementById(\"45a5fb09-9838-4f82-9300-b5b041f56d75\")) {\n",
       "                    Plotly.newPlot(\n",
       "                        '45a5fb09-9838-4f82-9300-b5b041f56d75',\n",
       "                        [{\"name\": \"A-1\", \"orientation\": \"h\", \"textinfo\": \"value+percent initial\", \"type\": \"funnel\", \"x\": [2450, 1542, 1266, 1200, 278], \"y\": [\"MainScreenAppear\", \"OffersScreenAppear\", \"CartScreenAppear\", \"PaymentScreenSuccessful\", \"Tutorial\"]}, {\"name\": \"A-2\", \"orientation\": \"h\", \"textinfo\": \"value+percent initial\", \"type\": \"funnel\", \"x\": [2476, 1520, 1238, 1158, 283], \"y\": [\"MainScreenAppear\", \"OffersScreenAppear\", \"CartScreenAppear\", \"PaymentScreenSuccessful\", \"Tutorial\"]}, {\"name\": \"B\", \"orientation\": \"h\", \"textinfo\": \"value+percent initial\", \"type\": \"funnel\", \"x\": [2493, 1531, 1230, 1181, 279], \"y\": [\"MainScreenAppear\", \"OffersScreenAppear\", \"CartScreenAppear\", \"PaymentScreenSuccessful\", \"Tutorial\"]}],\n",
       "                        {\"template\": {\"data\": {\"bar\": [{\"error_x\": {\"color\": \"#2a3f5f\"}, \"error_y\": {\"color\": \"#2a3f5f\"}, \"marker\": {\"line\": {\"color\": \"#E5ECF6\", \"width\": 0.5}}, \"type\": \"bar\"}], \"barpolar\": [{\"marker\": {\"line\": {\"color\": \"#E5ECF6\", \"width\": 0.5}}, \"type\": \"barpolar\"}], \"carpet\": [{\"aaxis\": {\"endlinecolor\": \"#2a3f5f\", \"gridcolor\": \"white\", \"linecolor\": \"white\", \"minorgridcolor\": \"white\", \"startlinecolor\": \"#2a3f5f\"}, \"baxis\": {\"endlinecolor\": \"#2a3f5f\", \"gridcolor\": \"white\", \"linecolor\": \"white\", \"minorgridcolor\": \"white\", \"startlinecolor\": \"#2a3f5f\"}, \"type\": \"carpet\"}], \"choropleth\": [{\"colorbar\": {\"outlinewidth\": 0, \"ticks\": \"\"}, \"type\": \"choropleth\"}], \"contour\": [{\"colorbar\": {\"outlinewidth\": 0, \"ticks\": \"\"}, \"colorscale\": [[0.0, \"#0d0887\"], [0.1111111111111111, \"#46039f\"], [0.2222222222222222, \"#7201a8\"], [0.3333333333333333, \"#9c179e\"], [0.4444444444444444, \"#bd3786\"], [0.5555555555555556, \"#d8576b\"], [0.6666666666666666, \"#ed7953\"], [0.7777777777777778, \"#fb9f3a\"], [0.8888888888888888, \"#fdca26\"], [1.0, \"#f0f921\"]], \"type\": \"contour\"}], \"contourcarpet\": [{\"colorbar\": {\"outlinewidth\": 0, \"ticks\": \"\"}, \"type\": \"contourcarpet\"}], \"heatmap\": [{\"colorbar\": {\"outlinewidth\": 0, \"ticks\": \"\"}, \"colorscale\": [[0.0, \"#0d0887\"], [0.1111111111111111, \"#46039f\"], [0.2222222222222222, \"#7201a8\"], [0.3333333333333333, \"#9c179e\"], [0.4444444444444444, \"#bd3786\"], [0.5555555555555556, \"#d8576b\"], [0.6666666666666666, \"#ed7953\"], [0.7777777777777778, \"#fb9f3a\"], [0.8888888888888888, \"#fdca26\"], [1.0, \"#f0f921\"]], \"type\": \"heatmap\"}], \"heatmapgl\": [{\"colorbar\": {\"outlinewidth\": 0, \"ticks\": \"\"}, \"colorscale\": [[0.0, \"#0d0887\"], [0.1111111111111111, \"#46039f\"], [0.2222222222222222, \"#7201a8\"], [0.3333333333333333, \"#9c179e\"], [0.4444444444444444, \"#bd3786\"], [0.5555555555555556, \"#d8576b\"], [0.6666666666666666, \"#ed7953\"], [0.7777777777777778, \"#fb9f3a\"], [0.8888888888888888, \"#fdca26\"], [1.0, \"#f0f921\"]], \"type\": \"heatmapgl\"}], \"histogram\": [{\"marker\": {\"colorbar\": {\"outlinewidth\": 0, \"ticks\": \"\"}}, \"type\": \"histogram\"}], \"histogram2d\": [{\"colorbar\": {\"outlinewidth\": 0, \"ticks\": \"\"}, \"colorscale\": [[0.0, \"#0d0887\"], [0.1111111111111111, \"#46039f\"], [0.2222222222222222, \"#7201a8\"], [0.3333333333333333, \"#9c179e\"], [0.4444444444444444, \"#bd3786\"], [0.5555555555555556, \"#d8576b\"], [0.6666666666666666, \"#ed7953\"], [0.7777777777777778, \"#fb9f3a\"], [0.8888888888888888, \"#fdca26\"], [1.0, \"#f0f921\"]], \"type\": \"histogram2d\"}], \"histogram2dcontour\": [{\"colorbar\": {\"outlinewidth\": 0, \"ticks\": \"\"}, \"colorscale\": [[0.0, \"#0d0887\"], [0.1111111111111111, \"#46039f\"], [0.2222222222222222, \"#7201a8\"], [0.3333333333333333, \"#9c179e\"], [0.4444444444444444, \"#bd3786\"], [0.5555555555555556, \"#d8576b\"], [0.6666666666666666, \"#ed7953\"], [0.7777777777777778, \"#fb9f3a\"], [0.8888888888888888, \"#fdca26\"], [1.0, \"#f0f921\"]], \"type\": \"histogram2dcontour\"}], \"mesh3d\": [{\"colorbar\": {\"outlinewidth\": 0, \"ticks\": \"\"}, \"type\": \"mesh3d\"}], \"parcoords\": [{\"line\": {\"colorbar\": {\"outlinewidth\": 0, \"ticks\": \"\"}}, \"type\": \"parcoords\"}], \"scatter\": [{\"marker\": {\"colorbar\": {\"outlinewidth\": 0, \"ticks\": \"\"}}, \"type\": \"scatter\"}], \"scatter3d\": [{\"line\": {\"colorbar\": {\"outlinewidth\": 0, \"ticks\": \"\"}}, \"marker\": {\"colorbar\": {\"outlinewidth\": 0, \"ticks\": \"\"}}, \"type\": \"scatter3d\"}], \"scattercarpet\": [{\"marker\": {\"colorbar\": {\"outlinewidth\": 0, \"ticks\": \"\"}}, \"type\": \"scattercarpet\"}], \"scattergeo\": [{\"marker\": {\"colorbar\": {\"outlinewidth\": 0, \"ticks\": \"\"}}, \"type\": \"scattergeo\"}], \"scattergl\": [{\"marker\": {\"colorbar\": {\"outlinewidth\": 0, \"ticks\": \"\"}}, \"type\": \"scattergl\"}], \"scattermapbox\": [{\"marker\": {\"colorbar\": {\"outlinewidth\": 0, \"ticks\": \"\"}}, \"type\": \"scattermapbox\"}], \"scatterpolar\": [{\"marker\": {\"colorbar\": {\"outlinewidth\": 0, \"ticks\": \"\"}}, \"type\": \"scatterpolar\"}], \"scatterpolargl\": [{\"marker\": {\"colorbar\": {\"outlinewidth\": 0, \"ticks\": \"\"}}, \"type\": \"scatterpolargl\"}], \"scatterternary\": [{\"marker\": {\"colorbar\": {\"outlinewidth\": 0, \"ticks\": \"\"}}, \"type\": \"scatterternary\"}], \"surface\": [{\"colorbar\": {\"outlinewidth\": 0, \"ticks\": \"\"}, \"colorscale\": [[0.0, \"#0d0887\"], [0.1111111111111111, \"#46039f\"], [0.2222222222222222, \"#7201a8\"], [0.3333333333333333, \"#9c179e\"], [0.4444444444444444, \"#bd3786\"], [0.5555555555555556, \"#d8576b\"], [0.6666666666666666, \"#ed7953\"], [0.7777777777777778, \"#fb9f3a\"], [0.8888888888888888, \"#fdca26\"], [1.0, \"#f0f921\"]], \"type\": \"surface\"}], \"table\": [{\"cells\": {\"fill\": {\"color\": \"#EBF0F8\"}, \"line\": {\"color\": \"white\"}}, \"header\": {\"fill\": {\"color\": \"#C8D4E3\"}, \"line\": {\"color\": \"white\"}}, \"type\": \"table\"}]}, \"layout\": {\"annotationdefaults\": {\"arrowcolor\": \"#2a3f5f\", \"arrowhead\": 0, \"arrowwidth\": 1}, \"colorscale\": {\"diverging\": [[0, \"#8e0152\"], [0.1, \"#c51b7d\"], [0.2, \"#de77ae\"], [0.3, \"#f1b6da\"], [0.4, \"#fde0ef\"], [0.5, \"#f7f7f7\"], [0.6, \"#e6f5d0\"], [0.7, \"#b8e186\"], [0.8, \"#7fbc41\"], [0.9, \"#4d9221\"], [1, \"#276419\"]], \"sequential\": [[0.0, \"#0d0887\"], [0.1111111111111111, \"#46039f\"], [0.2222222222222222, \"#7201a8\"], [0.3333333333333333, \"#9c179e\"], [0.4444444444444444, \"#bd3786\"], [0.5555555555555556, \"#d8576b\"], [0.6666666666666666, \"#ed7953\"], [0.7777777777777778, \"#fb9f3a\"], [0.8888888888888888, \"#fdca26\"], [1.0, \"#f0f921\"]], \"sequentialminus\": [[0.0, \"#0d0887\"], [0.1111111111111111, \"#46039f\"], [0.2222222222222222, \"#7201a8\"], [0.3333333333333333, \"#9c179e\"], [0.4444444444444444, \"#bd3786\"], [0.5555555555555556, \"#d8576b\"], [0.6666666666666666, \"#ed7953\"], [0.7777777777777778, \"#fb9f3a\"], [0.8888888888888888, \"#fdca26\"], [1.0, \"#f0f921\"]]}, \"colorway\": [\"#636efa\", \"#EF553B\", \"#00cc96\", \"#ab63fa\", \"#FFA15A\", \"#19d3f3\", \"#FF6692\", \"#B6E880\", \"#FF97FF\", \"#FECB52\"], \"font\": {\"color\": \"#2a3f5f\"}, \"geo\": {\"bgcolor\": \"white\", \"lakecolor\": \"white\", \"landcolor\": \"#E5ECF6\", \"showlakes\": true, \"showland\": true, \"subunitcolor\": \"white\"}, \"hoverlabel\": {\"align\": \"left\"}, \"hovermode\": \"closest\", \"mapbox\": {\"style\": \"light\"}, \"paper_bgcolor\": \"white\", \"plot_bgcolor\": \"#E5ECF6\", \"polar\": {\"angularaxis\": {\"gridcolor\": \"white\", \"linecolor\": \"white\", \"ticks\": \"\"}, \"bgcolor\": \"#E5ECF6\", \"radialaxis\": {\"gridcolor\": \"white\", \"linecolor\": \"white\", \"ticks\": \"\"}}, \"scene\": {\"xaxis\": {\"backgroundcolor\": \"#E5ECF6\", \"gridcolor\": \"white\", \"gridwidth\": 2, \"linecolor\": \"white\", \"showbackground\": true, \"ticks\": \"\", \"zerolinecolor\": \"white\"}, \"yaxis\": {\"backgroundcolor\": \"#E5ECF6\", \"gridcolor\": \"white\", \"gridwidth\": 2, \"linecolor\": \"white\", \"showbackground\": true, \"ticks\": \"\", \"zerolinecolor\": \"white\"}, \"zaxis\": {\"backgroundcolor\": \"#E5ECF6\", \"gridcolor\": \"white\", \"gridwidth\": 2, \"linecolor\": \"white\", \"showbackground\": true, \"ticks\": \"\", \"zerolinecolor\": \"white\"}}, \"shapedefaults\": {\"line\": {\"color\": \"#2a3f5f\"}}, \"ternary\": {\"aaxis\": {\"gridcolor\": \"white\", \"linecolor\": \"white\", \"ticks\": \"\"}, \"baxis\": {\"gridcolor\": \"white\", \"linecolor\": \"white\", \"ticks\": \"\"}, \"bgcolor\": \"#E5ECF6\", \"caxis\": {\"gridcolor\": \"white\", \"linecolor\": \"white\", \"ticks\": \"\"}}, \"title\": {\"x\": 0.05}, \"xaxis\": {\"automargin\": true, \"gridcolor\": \"white\", \"linecolor\": \"white\", \"ticks\": \"\", \"zerolinecolor\": \"white\", \"zerolinewidth\": 2}, \"yaxis\": {\"automargin\": true, \"gridcolor\": \"white\", \"linecolor\": \"white\", \"ticks\": \"\", \"zerolinecolor\": \"white\", \"zerolinewidth\": 2}}}, \"title\": {\"text\": \"\\u0412\\u043e\\u0440\\u043e\\u043d\\u043a\\u0430 \\u0441\\u043e\\u0431\\u044b\\u0442\\u0438\\u0439\"}},\n",
       "                        {\"responsive\": true}\n",
       "                    ).then(function(){\n",
       "                            \n",
       "var gd = document.getElementById('45a5fb09-9838-4f82-9300-b5b041f56d75');\n",
       "var x = new MutationObserver(function (mutations, observer) {{\n",
       "        var display = window.getComputedStyle(gd).display;\n",
       "        if (!display || display === 'none') {{\n",
       "            console.log([gd, 'removed!']);\n",
       "            Plotly.purge(gd);\n",
       "            observer.disconnect();\n",
       "        }}\n",
       "}});\n",
       "\n",
       "// Listen for the removal of the full notebook cells\n",
       "var notebookContainer = gd.closest('#notebook-container');\n",
       "if (notebookContainer) {{\n",
       "    x.observe(notebookContainer, {childList: true});\n",
       "}}\n",
       "\n",
       "// Listen for the clearing of the current output cell\n",
       "var outputEl = gd.closest('.output');\n",
       "if (outputEl) {{\n",
       "    x.observe(outputEl, {childList: true});\n",
       "}}\n",
       "\n",
       "                        })\n",
       "                };\n",
       "                });\n",
       "            </script>\n",
       "        </div>"
      ]
     },
     "metadata": {},
     "output_type": "display_data"
    }
   ],
   "source": [
    "fig = go.Figure()\n",
    " \n",
    "for name in ['A-1','A-2','B']:\n",
    "    funnel = uid_count.query('group ==@name')\n",
    "   \n",
    " \n",
    "   \n",
    "    fig.add_trace(\n",
    "       go.Funnel(\n",
    "         name = name,\n",
    "          y = funnel['event_name'],\n",
    "          x = funnel['uid'],\n",
    "           orientation = \"h\",\n",
    "        textinfo = \"value+percent initial\"\n",
    "       )\n",
    "    )\n",
    "fig.update_layout(title='Воронка событий')\n",
    "fig.show()"
   ]
  },
  {
   "cell_type": "markdown",
   "metadata": {},
   "source": [
    "Больше всего пользователей \"теряется\" на этапе перехода с главной страницы на страницу с выбором. Вероятно, проблема в формированием потребности. Возможно, 1,5% пользователей заходят в приложение из пуш уведомлений ошибочно или заходят в приложение для уточнения информации, не касающейся заказа (контактная информация, отследить заказ, оформленный ранее). \n",
    "\n",
    "Также, 19% на заканчивает оформление заказа и закрывает приложение, не заходя в корзину. \n",
    "\n",
    "Только 47% пользователей завершает использование приложения оплатой."
   ]
  },
  {
   "cell_type": "markdown",
   "metadata": {},
   "source": [
    "## Результаты эксперимента"
   ]
  },
  {
   "cell_type": "code",
   "execution_count": 91,
   "metadata": {
    "scrolled": true
   },
   "outputs": [
    {
     "data": {
      "text/html": [
       "<div>\n",
       "<style scoped>\n",
       "    .dataframe tbody tr th:only-of-type {\n",
       "        vertical-align: middle;\n",
       "    }\n",
       "\n",
       "    .dataframe tbody tr th {\n",
       "        vertical-align: top;\n",
       "    }\n",
       "\n",
       "    .dataframe thead th {\n",
       "        text-align: right;\n",
       "    }\n",
       "</style>\n",
       "<table border=\"1\" class=\"dataframe\">\n",
       "  <thead>\n",
       "    <tr style=\"text-align: right;\">\n",
       "      <th>group</th>\n",
       "      <th>A-1</th>\n",
       "      <th>A-2</th>\n",
       "      <th>B</th>\n",
       "      <th>AA</th>\n",
       "    </tr>\n",
       "    <tr>\n",
       "      <th>event_name</th>\n",
       "      <th></th>\n",
       "      <th></th>\n",
       "      <th></th>\n",
       "      <th></th>\n",
       "    </tr>\n",
       "  </thead>\n",
       "  <tbody>\n",
       "    <tr>\n",
       "      <td>MainScreenAppear</td>\n",
       "      <td>2450</td>\n",
       "      <td>2476</td>\n",
       "      <td>2493</td>\n",
       "      <td>4926</td>\n",
       "    </tr>\n",
       "    <tr>\n",
       "      <td>OffersScreenAppear</td>\n",
       "      <td>1542</td>\n",
       "      <td>1520</td>\n",
       "      <td>1531</td>\n",
       "      <td>3062</td>\n",
       "    </tr>\n",
       "    <tr>\n",
       "      <td>CartScreenAppear</td>\n",
       "      <td>1266</td>\n",
       "      <td>1238</td>\n",
       "      <td>1230</td>\n",
       "      <td>2504</td>\n",
       "    </tr>\n",
       "    <tr>\n",
       "      <td>PaymentScreenSuccessful</td>\n",
       "      <td>1200</td>\n",
       "      <td>1158</td>\n",
       "      <td>1181</td>\n",
       "      <td>2358</td>\n",
       "    </tr>\n",
       "    <tr>\n",
       "      <td>Tutorial</td>\n",
       "      <td>278</td>\n",
       "      <td>283</td>\n",
       "      <td>279</td>\n",
       "      <td>561</td>\n",
       "    </tr>\n",
       "  </tbody>\n",
       "</table>\n",
       "</div>"
      ],
      "text/plain": [
       "group                     A-1   A-2     B    AA\n",
       "event_name                                     \n",
       "MainScreenAppear         2450  2476  2493  4926\n",
       "OffersScreenAppear       1542  1520  1531  3062\n",
       "CartScreenAppear         1266  1238  1230  2504\n",
       "PaymentScreenSuccessful  1200  1158  1181  2358\n",
       "Tutorial                 278   283   279   561 "
      ]
     },
     "execution_count": 91,
     "metadata": {},
     "output_type": "execute_result"
    }
   ],
   "source": [
    "group_data = new_app_data.pivot_table\\\n",
    "(index='event_name', columns='group', values='uid', aggfunc='nunique').sort_values\\\n",
    "(by = 'A-1', ascending=False)\n",
    "group_data['AA'] = group_data['A-1'] + group_data['A-2']\n",
    "group_data"
   ]
  },
  {
   "cell_type": "markdown",
   "metadata": {},
   "source": [
    " ### Будет ли отличие между группами статистически достоверным? Проверка гипотез"
   ]
  },
  {
   "cell_type": "code",
   "execution_count": 92,
   "metadata": {},
   "outputs": [
    {
     "data": {
      "text/html": [
       "<div>\n",
       "<style scoped>\n",
       "    .dataframe tbody tr th:only-of-type {\n",
       "        vertical-align: middle;\n",
       "    }\n",
       "\n",
       "    .dataframe tbody tr th {\n",
       "        vertical-align: top;\n",
       "    }\n",
       "\n",
       "    .dataframe thead th {\n",
       "        text-align: right;\n",
       "    }\n",
       "</style>\n",
       "<table border=\"1\" class=\"dataframe\">\n",
       "  <thead>\n",
       "    <tr style=\"text-align: right;\">\n",
       "      <th></th>\n",
       "      <th>event_name</th>\n",
       "      <th>group</th>\n",
       "      <th>uid</th>\n",
       "      <th>percent</th>\n",
       "    </tr>\n",
       "  </thead>\n",
       "  <tbody>\n",
       "    <tr>\n",
       "      <td>0</td>\n",
       "      <td>MainScreenAppear</td>\n",
       "      <td>B</td>\n",
       "      <td>2493</td>\n",
       "      <td>34.216</td>\n",
       "    </tr>\n",
       "    <tr>\n",
       "      <td>1</td>\n",
       "      <td>MainScreenAppear</td>\n",
       "      <td>A-2</td>\n",
       "      <td>2476</td>\n",
       "      <td>33.983</td>\n",
       "    </tr>\n",
       "    <tr>\n",
       "      <td>2</td>\n",
       "      <td>MainScreenAppear</td>\n",
       "      <td>A-1</td>\n",
       "      <td>2450</td>\n",
       "      <td>33.626</td>\n",
       "    </tr>\n",
       "    <tr>\n",
       "      <td>3</td>\n",
       "      <td>OffersScreenAppear</td>\n",
       "      <td>A-1</td>\n",
       "      <td>1542</td>\n",
       "      <td>21.164</td>\n",
       "    </tr>\n",
       "    <tr>\n",
       "      <td>4</td>\n",
       "      <td>OffersScreenAppear</td>\n",
       "      <td>B</td>\n",
       "      <td>1531</td>\n",
       "      <td>21.013</td>\n",
       "    </tr>\n",
       "    <tr>\n",
       "      <td>5</td>\n",
       "      <td>OffersScreenAppear</td>\n",
       "      <td>A-2</td>\n",
       "      <td>1520</td>\n",
       "      <td>20.862</td>\n",
       "    </tr>\n",
       "    <tr>\n",
       "      <td>6</td>\n",
       "      <td>CartScreenAppear</td>\n",
       "      <td>A-1</td>\n",
       "      <td>1266</td>\n",
       "      <td>17.376</td>\n",
       "    </tr>\n",
       "    <tr>\n",
       "      <td>7</td>\n",
       "      <td>CartScreenAppear</td>\n",
       "      <td>A-2</td>\n",
       "      <td>1238</td>\n",
       "      <td>16.991</td>\n",
       "    </tr>\n",
       "    <tr>\n",
       "      <td>8</td>\n",
       "      <td>CartScreenAppear</td>\n",
       "      <td>B</td>\n",
       "      <td>1230</td>\n",
       "      <td>16.882</td>\n",
       "    </tr>\n",
       "    <tr>\n",
       "      <td>9</td>\n",
       "      <td>PaymentScreenSuccessful</td>\n",
       "      <td>A-1</td>\n",
       "      <td>1200</td>\n",
       "      <td>16.470</td>\n",
       "    </tr>\n",
       "    <tr>\n",
       "      <td>10</td>\n",
       "      <td>PaymentScreenSuccessful</td>\n",
       "      <td>B</td>\n",
       "      <td>1181</td>\n",
       "      <td>16.209</td>\n",
       "    </tr>\n",
       "    <tr>\n",
       "      <td>11</td>\n",
       "      <td>PaymentScreenSuccessful</td>\n",
       "      <td>A-2</td>\n",
       "      <td>1158</td>\n",
       "      <td>15.893</td>\n",
       "    </tr>\n",
       "    <tr>\n",
       "      <td>12</td>\n",
       "      <td>Tutorial</td>\n",
       "      <td>A-2</td>\n",
       "      <td>283</td>\n",
       "      <td>3.884</td>\n",
       "    </tr>\n",
       "    <tr>\n",
       "      <td>13</td>\n",
       "      <td>Tutorial</td>\n",
       "      <td>B</td>\n",
       "      <td>279</td>\n",
       "      <td>3.829</td>\n",
       "    </tr>\n",
       "    <tr>\n",
       "      <td>14</td>\n",
       "      <td>Tutorial</td>\n",
       "      <td>A-1</td>\n",
       "      <td>278</td>\n",
       "      <td>3.816</td>\n",
       "    </tr>\n",
       "  </tbody>\n",
       "</table>\n",
       "</div>"
      ],
      "text/plain": [
       "                 event_name group   uid  percent\n",
       "0   MainScreenAppear         B     2493 34.216  \n",
       "1   MainScreenAppear         A-2   2476 33.983  \n",
       "2   MainScreenAppear         A-1   2450 33.626  \n",
       "3   OffersScreenAppear       A-1   1542 21.164  \n",
       "4   OffersScreenAppear       B     1531 21.013  \n",
       "5   OffersScreenAppear       A-2   1520 20.862  \n",
       "6   CartScreenAppear         A-1   1266 17.376  \n",
       "7   CartScreenAppear         A-2   1238 16.991  \n",
       "8   CartScreenAppear         B     1230 16.882  \n",
       "9   PaymentScreenSuccessful  A-1   1200 16.470  \n",
       "10  PaymentScreenSuccessful  B     1181 16.209  \n",
       "11  PaymentScreenSuccessful  A-2   1158 15.893  \n",
       "12  Tutorial                 A-2   283  3.884   \n",
       "13  Tutorial                 B     279  3.829   \n",
       "14  Tutorial                 A-1   278  3.816   "
      ]
     },
     "execution_count": 92,
     "metadata": {},
     "output_type": "execute_result"
    }
   ],
   "source": [
    "uid_count"
   ]
  },
  {
   "cell_type": "markdown",
   "metadata": {},
   "source": [
    "+ Количество пользователей в различных группах различается не более, чем на 1%\n",
    "+ Для всех групп фиксируют и отправляют в системы аналитики данные об одном и том же "
   ]
  },
  {
   "cell_type": "code",
   "execution_count": 93,
   "metadata": {},
   "outputs": [],
   "source": [
    "\"Применим гипотезу о равенстве долей\"\n",
    "#Нулевая гипотеза: Доли по количеству пользователей тестируемых групп равны.\n",
    "#Альтернативная гипотеза: Доли по количеству пользователей тестируемых групп отличаются.\n",
    "def stat_realibility (df, column1, column2, alpha):\n",
    "   \n",
    "    events = df.index \n",
    "    for i in range(1, 5):\n",
    "        alpha = alpha\n",
    "        bonferroni = alpha / 16 # Чтобы снизить групповую вероятность ошибки первого рода и \n",
    "        #скорректировать требуемые уровни значимости применим метод Бонферрони\n",
    "        row1 = np.array([df.loc[events[i-1], column1], df.loc[events[i-1], column2]])\n",
    "        row2 = np.array([df.loc[events[i], column1], df.loc[events[i], column2]])\n",
    "       \n",
    "        p1 = row2[0] / row1[0]\n",
    "        p2 = row2[1] / row1[1]\n",
    "        p_combined = (row2[0] + row2[1]) / (row1[0] + row1[1])\n",
    "        difference = p1 - p2\n",
    "        z_value = difference / mt.sqrt(p_combined * (1 - p_combined) * (1/row1[0] + 1/row1[1]))\n",
    "        distr = st.norm(0, 1)\n",
    "        p_value = (1 - distr.cdf(abs(z_value))) * 2\n",
    "        print('p-значение: ', p_value)\n",
    "        if (p_value < bonferroni):\n",
    "            print(\"Отвергаем нулевую гипотезу: между долями есть значимая разница\")\n",
    "        else:\n",
    "            print(\"Не получилось отвергнуть нулевую гипотезу, нет оснований считать доли разными\")\n"
   ]
  },
  {
   "cell_type": "code",
   "execution_count": 94,
   "metadata": {},
   "outputs": [
    {
     "data": {
      "text/html": [
       "<div>\n",
       "<style scoped>\n",
       "    .dataframe tbody tr th:only-of-type {\n",
       "        vertical-align: middle;\n",
       "    }\n",
       "\n",
       "    .dataframe tbody tr th {\n",
       "        vertical-align: top;\n",
       "    }\n",
       "\n",
       "    .dataframe thead th {\n",
       "        text-align: right;\n",
       "    }\n",
       "</style>\n",
       "<table border=\"1\" class=\"dataframe\">\n",
       "  <thead>\n",
       "    <tr style=\"text-align: right;\">\n",
       "      <th>group</th>\n",
       "      <th>A-1</th>\n",
       "      <th>A-2</th>\n",
       "      <th>B</th>\n",
       "      <th>AA</th>\n",
       "    </tr>\n",
       "    <tr>\n",
       "      <th>event_name</th>\n",
       "      <th></th>\n",
       "      <th></th>\n",
       "      <th></th>\n",
       "      <th></th>\n",
       "    </tr>\n",
       "  </thead>\n",
       "  <tbody>\n",
       "    <tr>\n",
       "      <td>MainScreenAppear</td>\n",
       "      <td>2450</td>\n",
       "      <td>2476</td>\n",
       "      <td>2493</td>\n",
       "      <td>4926</td>\n",
       "    </tr>\n",
       "    <tr>\n",
       "      <td>OffersScreenAppear</td>\n",
       "      <td>1542</td>\n",
       "      <td>1520</td>\n",
       "      <td>1531</td>\n",
       "      <td>3062</td>\n",
       "    </tr>\n",
       "    <tr>\n",
       "      <td>CartScreenAppear</td>\n",
       "      <td>1266</td>\n",
       "      <td>1238</td>\n",
       "      <td>1230</td>\n",
       "      <td>2504</td>\n",
       "    </tr>\n",
       "    <tr>\n",
       "      <td>PaymentScreenSuccessful</td>\n",
       "      <td>1200</td>\n",
       "      <td>1158</td>\n",
       "      <td>1181</td>\n",
       "      <td>2358</td>\n",
       "    </tr>\n",
       "    <tr>\n",
       "      <td>Tutorial</td>\n",
       "      <td>278</td>\n",
       "      <td>283</td>\n",
       "      <td>279</td>\n",
       "      <td>561</td>\n",
       "    </tr>\n",
       "  </tbody>\n",
       "</table>\n",
       "</div>"
      ],
      "text/plain": [
       "group                     A-1   A-2     B    AA\n",
       "event_name                                     \n",
       "MainScreenAppear         2450  2476  2493  4926\n",
       "OffersScreenAppear       1542  1520  1531  3062\n",
       "CartScreenAppear         1266  1238  1230  2504\n",
       "PaymentScreenSuccessful  1200  1158  1181  2358\n",
       "Tutorial                 278   283   279   561 "
      ]
     },
     "execution_count": 94,
     "metadata": {},
     "output_type": "execute_result"
    }
   ],
   "source": [
    "group_data"
   ]
  },
  {
   "cell_type": "code",
   "execution_count": 95,
   "metadata": {},
   "outputs": [
    {
     "name": "stdout",
     "output_type": "stream",
     "text": [
      "p-значение:  0.2622344959255778\n",
      "Не получилось отвергнуть нулевую гипотезу, нет оснований считать доли разными\n",
      "p-значение:  0.6393754713145263\n",
      "Не получилось отвергнуть нулевую гипотезу, нет оснований считать доли разными\n",
      "p-значение:  0.18243439408067652\n",
      "Не получилось отвергнуть нулевую гипотезу, нет оснований считать доли разными\n",
      "p-значение:  0.46833167209360305\n",
      "Не получилось отвергнуть нулевую гипотезу, нет оснований считать доли разными\n",
      "None\n"
     ]
    }
   ],
   "source": [
    "y = stat_realibility (group_data, \"A-1\",\"A-2\", 0.05)\n",
    "print(y)"
   ]
  },
  {
   "cell_type": "code",
   "execution_count": 96,
   "metadata": {},
   "outputs": [
    {
     "name": "stdout",
     "output_type": "stream",
     "text": [
      "p-значение:  0.2684281587249231\n",
      "Не получилось отвергнуть нулевую гипотезу, нет оснований считать доли разными\n",
      "p-значение:  0.2112170818054686\n",
      "Не получилось отвергнуть нулевую гипотезу, нет оснований считать доли разными\n",
      "p-значение:  0.14295341270419004\n",
      "Не получилось отвергнуть нулевую гипотезу, нет оснований считать доли разными\n",
      "p-значение:  0.7920938967629971\n",
      "Не получилось отвергнуть нулевую гипотезу, нет оснований считать доли разными\n",
      "None\n"
     ]
    }
   ],
   "source": [
    "x = stat_realibility (group_data, \"A-1\",\"B\", 0.05)\n",
    "print(x)"
   ]
  },
  {
   "cell_type": "code",
   "execution_count": 97,
   "metadata": {},
   "outputs": [
    {
     "name": "stdout",
     "output_type": "stream",
     "text": [
      "p-значение:  0.9869365252844515\n",
      "Не получилось отвергнуть нулевую гипотезу, нет оснований считать доли разными\n",
      "p-значение:  0.4364903513062255\n",
      "Не получилось отвергнуть нулевую гипотезу, нет оснований считать доли разными\n",
      "p-значение:  0.005677465395736325\n",
      "Не получилось отвергнуть нулевую гипотезу, нет оснований считать доли разными\n",
      "p-значение:  0.6447626122251844\n",
      "Не получилось отвергнуть нулевую гипотезу, нет оснований считать доли разными\n",
      "None\n"
     ]
    }
   ],
   "source": [
    "z = stat_realibility (group_data, \"A-2\",\"B\", 0.05)\n",
    "print(z)"
   ]
  },
  {
   "cell_type": "code",
   "execution_count": 98,
   "metadata": {},
   "outputs": [
    {
     "name": "stdout",
     "output_type": "stream",
     "text": [
      "p-значение:  0.5308589432077624\n",
      "Не получилось отвергнуть нулевую гипотезу, нет оснований считать доли разными\n",
      "p-значение:  0.23905954279947372\n",
      "Не получилось отвергнуть нулевую гипотезу, нет оснований считать доли разными\n",
      "p-значение:  0.017114434319547067\n",
      "Не получилось отвергнуть нулевую гипотезу, нет оснований считать доли разными\n",
      "p-значение:  0.9121675205768531\n",
      "Не получилось отвергнуть нулевую гипотезу, нет оснований считать доли разными\n",
      "None\n"
     ]
    }
   ],
   "source": [
    "a = stat_realibility (group_data, \"AA\",\"B\", 0.05)\n",
    "print(a)"
   ]
  },
  {
   "cell_type": "markdown",
   "metadata": {},
   "source": [
    "По итогу множественного теста, можно сделать вывод о корректности разделения на группы."
   ]
  },
  {
   "cell_type": "markdown",
   "metadata": {},
   "source": [
    "Изменим уровень статистической значимости, чтобы минимизировать возможность ложного результата."
   ]
  },
  {
   "cell_type": "code",
   "execution_count": 99,
   "metadata": {},
   "outputs": [
    {
     "name": "stdout",
     "output_type": "stream",
     "text": [
      "p-значение:  0.2622344959255778\n",
      "Не получилось отвергнуть нулевую гипотезу, нет оснований считать доли разными\n",
      "p-значение:  0.6393754713145263\n",
      "Не получилось отвергнуть нулевую гипотезу, нет оснований считать доли разными\n",
      "p-значение:  0.18243439408067652\n",
      "Не получилось отвергнуть нулевую гипотезу, нет оснований считать доли разными\n",
      "p-значение:  0.46833167209360305\n",
      "Не получилось отвергнуть нулевую гипотезу, нет оснований считать доли разными\n",
      "None\n"
     ]
    }
   ],
   "source": [
    "y1 = stat_realibility (group_data, \"A-1\",\"A-2\", 0.1)\n",
    "print(y1)"
   ]
  },
  {
   "cell_type": "code",
   "execution_count": 100,
   "metadata": {},
   "outputs": [
    {
     "name": "stdout",
     "output_type": "stream",
     "text": [
      "p-значение:  0.2684281587249231\n",
      "Не получилось отвергнуть нулевую гипотезу, нет оснований считать доли разными\n",
      "p-значение:  0.2112170818054686\n",
      "Не получилось отвергнуть нулевую гипотезу, нет оснований считать доли разными\n",
      "p-значение:  0.14295341270419004\n",
      "Не получилось отвергнуть нулевую гипотезу, нет оснований считать доли разными\n",
      "p-значение:  0.7920938967629971\n",
      "Не получилось отвергнуть нулевую гипотезу, нет оснований считать доли разными\n",
      "None\n"
     ]
    }
   ],
   "source": [
    "x1 = stat_realibility (group_data, \"A-1\",\"B\", 0.1)\n",
    "print(x1)"
   ]
  },
  {
   "cell_type": "code",
   "execution_count": 101,
   "metadata": {},
   "outputs": [
    {
     "name": "stdout",
     "output_type": "stream",
     "text": [
      "p-значение:  0.9869365252844515\n",
      "Не получилось отвергнуть нулевую гипотезу, нет оснований считать доли разными\n",
      "p-значение:  0.4364903513062255\n",
      "Не получилось отвергнуть нулевую гипотезу, нет оснований считать доли разными\n",
      "p-значение:  0.005677465395736325\n",
      "Отвергаем нулевую гипотезу: между долями есть значимая разница\n",
      "p-значение:  0.6447626122251844\n",
      "Не получилось отвергнуть нулевую гипотезу, нет оснований считать доли разными\n",
      "None\n"
     ]
    }
   ],
   "source": [
    "z1 = stat_realibility (group_data, \"A-2\",\"B\", 0.1)\n",
    "print(z1)"
   ]
  },
  {
   "cell_type": "code",
   "execution_count": 102,
   "metadata": {
    "scrolled": true
   },
   "outputs": [
    {
     "name": "stdout",
     "output_type": "stream",
     "text": [
      "p-значение:  0.5308589432077624\n",
      "Не получилось отвергнуть нулевую гипотезу, нет оснований считать доли разными\n",
      "p-значение:  0.23905954279947372\n",
      "Не получилось отвергнуть нулевую гипотезу, нет оснований считать доли разными\n",
      "p-значение:  0.017114434319547067\n",
      "Не получилось отвергнуть нулевую гипотезу, нет оснований считать доли разными\n",
      "p-значение:  0.9121675205768531\n",
      "Не получилось отвергнуть нулевую гипотезу, нет оснований считать доли разными\n",
      "None\n"
     ]
    }
   ],
   "source": [
    "a1 = stat_realibility (group_data, \"AA\",\"B\", 0.1)\n",
    "print(a1)"
   ]
  },
  {
   "cell_type": "markdown",
   "metadata": {},
   "source": [
    "Уменьшение уровня статистической разницы не изменило результат. Нет оснований считать доли групп разными по всем действиям во всех группах."
   ]
  },
  {
   "cell_type": "markdown",
   "metadata": {},
   "source": [
    "## Вывод"
   ]
  },
  {
   "cell_type": "markdown",
   "metadata": {},
   "source": [
    "По итогам анализа воронки продаж, можно сделать выводы:\n",
    "+ Больше всего пользователей \"теряется\" на этапе перехода с главной страницы на страницу с выбором. Вероятно, проблема в формированием потребности; \n",
    "+ 19% на заканчивает оформление заказа и закрывает приложение, не заходя в корзину;\n",
    "+ 47% пользователей завершает использование приложения оплатой.\n",
    "\n",
    "По итогам анализа A/A/B-эксперимента, можно сделать вывод:\n",
    "+ На каждом этапе в каждой группе разницы в долях не обнаружено.\n",
    "\n",
    "Изменение шрифта не принесло статистически значимых именений в поведении пользователей ни в большую, ни в меньшую сторону. Новый шрифт не привел к росту конверсии в продажу и не \"смутил\" пользователей. \n",
    "Отталкиваясь от задачи эксперимента, можно считать тест оконченым успешно. Новые шрифты не изменили результаты по продажам."
   ]
  }
 ],
 "metadata": {
  "kernelspec": {
   "display_name": "Python 3",
   "language": "python",
   "name": "python3"
  },
  "language_info": {
   "codemirror_mode": {
    "name": "ipython",
    "version": 3
   },
   "file_extension": ".py",
   "mimetype": "text/x-python",
   "name": "python",
   "nbconvert_exporter": "python",
   "pygments_lexer": "ipython3",
   "version": "3.7.6"
  }
 },
 "nbformat": 4,
 "nbformat_minor": 2
}
