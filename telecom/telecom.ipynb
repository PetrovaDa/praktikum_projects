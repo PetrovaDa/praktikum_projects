{
 "cells": [
  {
   "cell_type": "markdown",
   "metadata": {},
   "source": [
    "<div style=\"border:solid  green  2px; padding: 20px\"> <h1 style=\"color: green\">Определение перспективного тарифа для телеком компании</h1>"
   ]
  },
  {
   "cell_type": "markdown",
   "metadata": {},
   "source": [
    "# Описание проекта\n",
    "\n",
    "Задача: провести предварительный анализ тарифов на небольшой выборке клиентов пользователей федерального оператора сотовой связи \"Мегалайн\". \n",
    "\n",
    "Заказчик - коммерческий департамент. Цель заказчика - скорректировать рекламный бюджет, определить прибыльность тарифов. \n",
    "\n",
    "Входные данные 500 пользователей «Мегалайна»: кто они, откуда, каким тарифом пользуются, сколько звонков и сообщений каждый отправил за 2018 год.  \n",
    "\n",
    "Цель исследования - проанализировать поведение клиентов и сделать вывод — какой тариф лучше.\n",
    "\n",
    "### Описание тарифов\n",
    "Клиентам предлагают два тарифных плана: «Смарт» и «Ультра».\n",
    "Тариф «Смарт»\n",
    "\n",
    "    Ежемесячная плата: 550 рублей\n",
    "    Включено 500 минут разговора, 50 сообщений и 15 Гб интернет-трафика\n",
    "    Стоимость услуг сверх тарифного пакета:\n",
    "\n",
    "    минута разговора: 3 рубля\n",
    "    сообщение: 3 рубля\n",
    "    1 Гб интернет-трафика: 200 рублей\n",
    "\n",
    "Тариф «Ультра»\n",
    "\n",
    "    Ежемесячная плата: 1950 рублей\n",
    "    Включено 3000 минут разговора, 1000 сообщений и 30 Гб интернет-трафика\n",
    "    Стоимость услуг сверх тарифного пакета:\n",
    "\n",
    "    минута разговора: 1 рубль\n",
    "    сообщение: 1 рубль\n",
    "    1 Гб интернет-трафика: 150 рублей\n",
    "    \n"
   ]
  },
  {
   "cell_type": "markdown",
   "metadata": {},
   "source": [
    "### Описание данных\n",
    "Таблица users (информация о пользователях):\n",
    "\n",
    "    user_id — уникальный идентификатор пользователя\n",
    "    first_name — имя пользователя\n",
    "    last_name — фамилия пользователя\n",
    "    age — возраст пользователя (годы)\n",
    "    reg_date — дата подключения тарифа (день, месяц, год)\n",
    "    churn_date — дата прекращения пользования тарифом (если значение пропущено, то тариф ещё действовал на момент выгрузки данных)\n",
    "    city — город проживания пользователя\n",
    "    tariff — название тарифного плана\n",
    "\n",
    "Таблица calls (информация о звонках):\n",
    "\n",
    "    id — уникальный номер звонка\n",
    "    call_date — дата звонка\n",
    "    duration — длительность звонка в минутах\n",
    "    user_id — идентификатор пользователя, сделавшего звонок\n",
    "\n",
    "Таблица messages (информация о сообщениях):\n",
    "\n",
    "    id — уникальный номер сообщения\n",
    "    message_date — дата сообщения\n",
    "    user_id — идентификатор пользователя, отправившего сообщение\n",
    "\n",
    "Таблица internet (информация об интернет-сессиях):\n",
    "\n",
    "    id — уникальный номер сессии\n",
    "    mb_used — объём потраченного за сессию интернет-трафика (в мегабайтах)\n",
    "    session_date — дата интернет-сессии\n",
    "    user_id — идентификатор пользователя\n",
    "\n",
    "Таблица tariffs (информация о тарифах):\n",
    "\n",
    "    tariff_name — название тарифа\n",
    "    rub_monthly_fee — ежемесячная абонентская плата в рублях\n",
    "    minutes_included — количество минут разговора в месяц, включённых в абонентскую плату\n",
    "    messages_included — количество сообщений в месяц, включённых в абонентскую плату\n",
    "    mb_per_month_included — объём интернет-трафика, включённого в абонентскую плату (в мегабайтах)\n",
    "    rub_per_minute — стоимость минуты разговора сверх тарифного пакета (например, если в тарифе 100 минут разговора в месяц, то со 101 минуты будет взиматься плата)\n",
    "    rub_per_message — стоимость отправки сообщения сверх тарифного пакета\n",
    "    rub_per_gb — стоимость дополнительного гигабайта интернет-трафика сверх тарифного пакета (1 гигабайт = 1024 мегабайта)"
   ]
  },
  {
   "cell_type": "markdown",
   "metadata": {},
   "source": [
    "## План действий\n",
    "\n",
    "1. Знакомство с данными. Изучение общей информации.\n",
    "2. Предподготовка данных.\n",
    "3. Анализ данных.\n",
    "4. Проверка гипотез.\n",
    "5. Выводы."
   ]
  },
  {
   "cell_type": "markdown",
   "metadata": {},
   "source": [
    "## Знакомство с данными. Изучение общей информации"
   ]
  },
  {
   "cell_type": "code",
   "execution_count": 1,
   "metadata": {},
   "outputs": [],
   "source": [
    "import matplotlib.pyplot as plt # выгружаем необходимые библиотеки\n",
    "import pandas as pd\n",
    "import numpy as np\n",
    "from math import factorial\n",
    "from scipy import stats as st\n",
    "import math as mt\n",
    "from functools import reduce\n",
    "import seaborn as sb"
   ]
  },
  {
   "cell_type": "code",
   "execution_count": 2,
   "metadata": {},
   "outputs": [],
   "source": [
    "pd.set_option('display.float_format', lambda x: '%.3f' % x) #изменение глобальной настройки отображения "
   ]
  },
  {
   "cell_type": "code",
   "execution_count": 3,
   "metadata": {},
   "outputs": [],
   "source": [
    "def info_data(data):\n",
    "    '''Принимает таблицу, возвращает первые 15 строк, общую информацию, наличие пропусков и дубликатов'''\n",
    "    print(data.head(15))\n",
    "    print(data.info())\n",
    "    print(data.isnull().sum())\n",
    "    print(data.duplicated().sum())"
   ]
  },
  {
   "cell_type": "code",
   "execution_count": 4,
   "metadata": {},
   "outputs": [
    {
     "name": "stdout",
     "output_type": "stream",
     "text": [
      "         id   call_date  duration  user_id\n",
      "0    1000_0  2018-07-25     0.000     1000\n",
      "1    1000_1  2018-08-17     0.000     1000\n",
      "2    1000_2  2018-06-11     2.850     1000\n",
      "3    1000_3  2018-09-21    13.800     1000\n",
      "4    1000_4  2018-12-15     5.180     1000\n",
      "5    1000_5  2018-11-02     0.000     1000\n",
      "6    1000_6  2018-10-18     0.000     1000\n",
      "7    1000_7  2018-08-22    18.310     1000\n",
      "8    1000_8  2018-09-15    18.440     1000\n",
      "9    1000_9  2018-08-15     0.000     1000\n",
      "10  1000_10  2018-08-22     5.030     1000\n",
      "11  1000_11  2018-05-28    18.820     1000\n",
      "12  1000_12  2018-07-05     2.020     1000\n",
      "13  1000_13  2018-09-29     7.150     1000\n",
      "14  1000_14  2018-12-11     9.130     1000\n",
      "<class 'pandas.core.frame.DataFrame'>\n",
      "RangeIndex: 202607 entries, 0 to 202606\n",
      "Data columns (total 4 columns):\n",
      "id           202607 non-null object\n",
      "call_date    202607 non-null object\n",
      "duration     202607 non-null float64\n",
      "user_id      202607 non-null int64\n",
      "dtypes: float64(1), int64(1), object(2)\n",
      "memory usage: 6.2+ MB\n",
      "None\n",
      "id           0\n",
      "call_date    0\n",
      "duration     0\n",
      "user_id      0\n",
      "dtype: int64\n",
      "0\n"
     ]
    }
   ],
   "source": [
    "calls = pd.read_csv('/datasets/calls.csv') #таблица со звонками (длительность, дата, id пользователя и звонка)\n",
    "info_data(calls)\n"
   ]
  },
  {
   "cell_type": "code",
   "execution_count": 5,
   "metadata": {},
   "outputs": [
    {
     "name": "stdout",
     "output_type": "stream",
     "text": [
      "    Unnamed: 0       id  mb_used session_date  user_id\n",
      "0            0   1000_0  112.950   2018-11-25     1000\n",
      "1            1   1000_1 1052.810   2018-09-07     1000\n",
      "2            2   1000_2 1197.260   2018-06-25     1000\n",
      "3            3   1000_3  550.270   2018-08-22     1000\n",
      "4            4   1000_4  302.560   2018-09-24     1000\n",
      "5            5   1000_5  399.970   2018-10-02     1000\n",
      "6            6   1000_6  540.080   2018-09-07     1000\n",
      "7            7   1000_7  415.700   2018-07-11     1000\n",
      "8            8   1000_8  505.400   2018-10-08     1000\n",
      "9            9   1000_9  345.540   2018-09-03     1000\n",
      "10          10  1000_10  385.140   2018-09-27     1000\n",
      "11          11  1000_11    0.000   2018-08-28     1000\n",
      "12          12  1000_12  375.870   2018-06-20     1000\n",
      "13          13  1000_13  393.830   2018-08-09     1000\n",
      "14          14  1000_14  180.640   2018-08-11     1000\n",
      "<class 'pandas.core.frame.DataFrame'>\n",
      "RangeIndex: 149396 entries, 0 to 149395\n",
      "Data columns (total 5 columns):\n",
      "Unnamed: 0      149396 non-null int64\n",
      "id              149396 non-null object\n",
      "mb_used         149396 non-null float64\n",
      "session_date    149396 non-null object\n",
      "user_id         149396 non-null int64\n",
      "dtypes: float64(1), int64(2), object(2)\n",
      "memory usage: 5.7+ MB\n",
      "None\n",
      "Unnamed: 0      0\n",
      "id              0\n",
      "mb_used         0\n",
      "session_date    0\n",
      "user_id         0\n",
      "dtype: int64\n",
      "0\n"
     ]
    }
   ],
   "source": [
    "internet = pd.read_csv('/datasets/internet.csv') #таблица с данными об интернет сессиях (дата,id, длительность,\n",
    "#объем трафика)\n",
    "info_data(internet)"
   ]
  },
  {
   "cell_type": "code",
   "execution_count": 6,
   "metadata": {},
   "outputs": [
    {
     "name": "stdout",
     "output_type": "stream",
     "text": [
      "         id message_date  user_id\n",
      "0    1000_0   2018-06-27     1000\n",
      "1    1000_1   2018-10-08     1000\n",
      "2    1000_2   2018-08-04     1000\n",
      "3    1000_3   2018-06-16     1000\n",
      "4    1000_4   2018-12-05     1000\n",
      "5    1000_5   2018-06-20     1000\n",
      "6    1000_6   2018-11-19     1000\n",
      "7    1000_7   2018-10-29     1000\n",
      "8    1000_8   2018-06-25     1000\n",
      "9    1000_9   2018-12-18     1000\n",
      "10  1000_10   2018-05-30     1000\n",
      "11  1000_11   2018-07-06     1000\n",
      "12  1000_12   2018-08-20     1000\n",
      "13  1000_13   2018-10-30     1000\n",
      "14  1000_14   2018-09-14     1000\n",
      "<class 'pandas.core.frame.DataFrame'>\n",
      "RangeIndex: 123036 entries, 0 to 123035\n",
      "Data columns (total 3 columns):\n",
      "id              123036 non-null object\n",
      "message_date    123036 non-null object\n",
      "user_id         123036 non-null int64\n",
      "dtypes: int64(1), object(2)\n",
      "memory usage: 2.8+ MB\n",
      "None\n",
      "id              0\n",
      "message_date    0\n",
      "user_id         0\n",
      "dtype: int64\n",
      "0\n"
     ]
    }
   ],
   "source": [
    "messages = pd.read_csv('/datasets/messages.csv') #таблица с данными о сообшениях (id, дата сообщения)\n",
    "info_data(messages)\n"
   ]
  },
  {
   "cell_type": "code",
   "execution_count": 7,
   "metadata": {},
   "outputs": [
    {
     "name": "stdout",
     "output_type": "stream",
     "text": [
      "   messages_included  mb_per_month_included  minutes_included  \\\n",
      "0                 50                  15360               500   \n",
      "1               1000                  30720              3000   \n",
      "\n",
      "   rub_monthly_fee  rub_per_gb  rub_per_message  rub_per_minute tariff_name  \n",
      "0              550         200                3               3       smart  \n",
      "1             1950         150                1               1       ultra  \n",
      "<class 'pandas.core.frame.DataFrame'>\n",
      "RangeIndex: 2 entries, 0 to 1\n",
      "Data columns (total 8 columns):\n",
      "messages_included        2 non-null int64\n",
      "mb_per_month_included    2 non-null int64\n",
      "minutes_included         2 non-null int64\n",
      "rub_monthly_fee          2 non-null int64\n",
      "rub_per_gb               2 non-null int64\n",
      "rub_per_message          2 non-null int64\n",
      "rub_per_minute           2 non-null int64\n",
      "tariff_name              2 non-null object\n",
      "dtypes: int64(7), object(1)\n",
      "memory usage: 256.0+ bytes\n",
      "None\n",
      "messages_included        0\n",
      "mb_per_month_included    0\n",
      "minutes_included         0\n",
      "rub_monthly_fee          0\n",
      "rub_per_gb               0\n",
      "rub_per_message          0\n",
      "rub_per_minute           0\n",
      "tariff_name              0\n",
      "dtype: int64\n",
      "0\n"
     ]
    }
   ],
   "source": [
    "tariffs = pd.read_csv('/datasets/tariffs.csv') #таблица с информацией о тарифах\n",
    "info_data(tariffs)"
   ]
  },
  {
   "cell_type": "code",
   "execution_count": 8,
   "metadata": {},
   "outputs": [
    {
     "name": "stdout",
     "output_type": "stream",
     "text": [
      "    user_id  age churn_date              city first_name  last_name  \\\n",
      "0      1000   52        NaN         Краснодар     Рафаил  Верещагин   \n",
      "1      1001   41        NaN            Москва       Иван       Ежов   \n",
      "2      1002   59        NaN       Стерлитамак    Евгений  Абрамович   \n",
      "3      1003   23        NaN            Москва      Белла   Белякова   \n",
      "4      1004   68        NaN       Новокузнецк    Татьяна   Авдеенко   \n",
      "5      1005   67        NaN  Набережные Челны   Афанасий     Горлов   \n",
      "6      1006   21        NaN         Ульяновск     Леонид   Ермолаев   \n",
      "7      1007   65        NaN            Москва        Юна   Березина   \n",
      "8      1008   63        NaN         Челябинск     Рустэм  Пономарёв   \n",
      "9      1009   24        NaN             Пермь   Василиса    Блинова   \n",
      "10     1010   26        NaN            Тюмень     Эдуард    Кононов   \n",
      "11     1011   44        NaN            Самара   Веселина     Алёшко   \n",
      "12     1012   38        NaN   Санкт-Петербург     Варлам   Соловьев   \n",
      "13     1013   36        NaN           Иваново      Борис  Андреенко   \n",
      "14     1014   64        NaN         Чебоксары       Яков   Акинфьев   \n",
      "\n",
      "      reg_date tariff  \n",
      "0   2018-05-25  ultra  \n",
      "1   2018-11-01  smart  \n",
      "2   2018-06-17  smart  \n",
      "3   2018-08-17  ultra  \n",
      "4   2018-05-14  ultra  \n",
      "5   2018-01-25  smart  \n",
      "6   2018-02-26  smart  \n",
      "7   2018-04-19  smart  \n",
      "8   2018-12-19  smart  \n",
      "9   2018-03-22  smart  \n",
      "10  2018-08-05  smart  \n",
      "11  2018-03-19  smart  \n",
      "12  2018-03-28  smart  \n",
      "13  2018-11-14  ultra  \n",
      "14  2018-05-15  smart  \n",
      "<class 'pandas.core.frame.DataFrame'>\n",
      "RangeIndex: 500 entries, 0 to 499\n",
      "Data columns (total 8 columns):\n",
      "user_id       500 non-null int64\n",
      "age           500 non-null int64\n",
      "churn_date    38 non-null object\n",
      "city          500 non-null object\n",
      "first_name    500 non-null object\n",
      "last_name     500 non-null object\n",
      "reg_date      500 non-null object\n",
      "tariff        500 non-null object\n",
      "dtypes: int64(2), object(6)\n",
      "memory usage: 31.4+ KB\n",
      "None\n",
      "user_id         0\n",
      "age             0\n",
      "churn_date    462\n",
      "city            0\n",
      "first_name      0\n",
      "last_name       0\n",
      "reg_date        0\n",
      "tariff          0\n",
      "dtype: int64\n",
      "0\n"
     ]
    }
   ],
   "source": [
    "users = pd.read_csv('/datasets/users.csv') #таблица с данными о пользователях\n",
    "info_data(users)"
   ]
  },
  {
   "cell_type": "markdown",
   "metadata": {},
   "source": [
    "### Выводы по блоку \"знакомство с информацией\"\n",
    "- Данные представлены 5 таблицами. Основные данные пересекаются id пользователя. \n",
    "\n",
    "- Пропущенные значения присутствуют только в таблице с данными о пользователях, что говорит о том, что на момент оформления данных, клиент не прервал работу по тарифу. Необходимо заполнить пропуски. \n",
    "\n",
    "- Дубликаты отсутствуют. \n",
    "\n",
    "- В таблице с данными об интернете столбец Unnamed дублирует индексы. Этот столбец можно удалить.\n",
    "\n",
    "- Большое колличество строковых значений, которые, по возможности, необходимо заменить на тип int для дальнейших арифметических действий. Так же, необходимо заменить тип данных в данных с датой и временем. \n",
    "\n",
    "- В таблице с информацией о звонках, у большого количества звонков длительность — 0.0 минут. Это проблема в данных, нужна предобработка.  «Мегалайн» всегда округляет вверх значения минут и мегабайтов. Если пользователь проговорил всего 1 секунду, в тарифе засчитывается целая минута. Значит данные звноки по факту не состоялись в принципе. Вероятно, зафиксированы недозвоны. Данные о таких звонках не несут нагрузки относительно цели исследования, соответственно, строки с пропусками стоит удалить.\n",
    " "
   ]
  },
  {
   "cell_type": "markdown",
   "metadata": {},
   "source": [
    "## Предподготовка данных"
   ]
  },
  {
   "cell_type": "code",
   "execution_count": 9,
   "metadata": {},
   "outputs": [
    {
     "name": "stdout",
     "output_type": "stream",
     "text": [
      "         id  call_date  duration  user_id\n",
      "2    1000_2 2018-06-11         3     1000\n",
      "3    1000_3 2018-09-21        14     1000\n",
      "4    1000_4 2018-12-15         6     1000\n",
      "7    1000_7 2018-08-22        19     1000\n",
      "8    1000_8 2018-09-15        19     1000\n",
      "10  1000_10 2018-08-22         6     1000\n",
      "11  1000_11 2018-05-28        19     1000\n",
      "12  1000_12 2018-07-05         3     1000\n",
      "13  1000_13 2018-09-29         8     1000\n",
      "14  1000_14 2018-12-11        10     1000\n",
      "15  1000_15 2018-07-27        10     1000\n",
      "16  1000_16 2018-08-11         5     1000\n",
      "17  1000_17 2018-08-02        13     1000\n",
      "18  1000_18 2018-06-15         5     1000\n",
      "19  1000_19 2018-11-02        16     1000\n",
      "<class 'pandas.core.frame.DataFrame'>\n",
      "Int64Index: 162994 entries, 2 to 202606\n",
      "Data columns (total 4 columns):\n",
      "id           162994 non-null object\n",
      "call_date    162994 non-null datetime64[ns]\n",
      "duration     162994 non-null int64\n",
      "user_id      162994 non-null int64\n",
      "dtypes: datetime64[ns](1), int64(2), object(1)\n",
      "memory usage: 6.2+ MB\n",
      "None\n"
     ]
    }
   ],
   "source": [
    "calls['duration'] = np.ceil(calls['duration']) #округлим значения в бОльшую сторону, т.к. оператор всегда \n",
    "#округляет таким образом\n",
    "calls['duration'] = calls['duration'].astype(int, errors='ignore') #меняем тип данных на числовой\n",
    "calls_new = calls.loc[calls['duration'] > 0].copy() #создаеи новую таблицу путем среза из значений > 0\n",
    "calls_new['call_date'] = pd.to_datetime(calls_new['call_date'],format='%Y.%m.%d')#замена типа на DataTime\n",
    "print(calls_new.head(15))\n",
    "print(calls_new.info())"
   ]
  },
  {
   "cell_type": "code",
   "execution_count": 10,
   "metadata": {},
   "outputs": [
    {
     "name": "stdout",
     "output_type": "stream",
     "text": [
      "       id  mb_used session_date  user_id\n",
      "0  1000_0      113   2018-11-25     1000\n",
      "1  1000_1     1053   2018-09-07     1000\n",
      "2  1000_2     1198   2018-06-25     1000\n",
      "3  1000_3      551   2018-08-22     1000\n",
      "4  1000_4      303   2018-09-24     1000\n",
      "<class 'pandas.core.frame.DataFrame'>\n",
      "RangeIndex: 149396 entries, 0 to 149395\n",
      "Data columns (total 4 columns):\n",
      "id              149396 non-null object\n",
      "mb_used         149396 non-null int64\n",
      "session_date    149396 non-null datetime64[ns]\n",
      "user_id         149396 non-null int64\n",
      "dtypes: datetime64[ns](1), int64(2), object(1)\n",
      "memory usage: 4.6+ MB\n",
      "None\n"
     ]
    }
   ],
   "source": [
    "internet['mb_used'] = np.ceil(internet['mb_used']) #Округление, замена типа, удаление \"лишнего столбца\" в \n",
    "#сете с данными о трафике\n",
    "internet['mb_used'] = internet['mb_used'].astype(int, errors='ignore')\n",
    "internet['session_date'] = pd.to_datetime(internet['session_date'],format='%Y.%m.%d')\n",
    "del internet['Unnamed: 0']\n",
    "print(internet.head())  \n",
    "print(internet.info())"
   ]
  },
  {
   "cell_type": "code",
   "execution_count": 11,
   "metadata": {},
   "outputs": [
    {
     "name": "stdout",
     "output_type": "stream",
     "text": [
      "<class 'pandas.core.frame.DataFrame'>\n",
      "RangeIndex: 123036 entries, 0 to 123035\n",
      "Data columns (total 3 columns):\n",
      "id              123036 non-null object\n",
      "message_date    123036 non-null datetime64[ns]\n",
      "user_id         123036 non-null int64\n",
      "dtypes: datetime64[ns](1), int64(1), object(1)\n",
      "memory usage: 2.8+ MB\n"
     ]
    }
   ],
   "source": [
    "messages['message_date'] = pd.to_datetime(messages['message_date'],format='%Y.%m.%d')\n",
    "messages.info()"
   ]
  },
  {
   "cell_type": "code",
   "execution_count": 12,
   "metadata": {},
   "outputs": [
    {
     "name": "stdout",
     "output_type": "stream",
     "text": [
      "   user_id  age churn_date         city first_name  last_name   reg_date  \\\n",
      "0     1000   52        NaT    Краснодар     Рафаил  Верещагин 2018-05-25   \n",
      "1     1001   41        NaT       Москва       Иван       Ежов 2018-11-01   \n",
      "2     1002   59        NaT  Стерлитамак    Евгений  Абрамович 2018-06-17   \n",
      "3     1003   23        NaT       Москва      Белла   Белякова 2018-08-17   \n",
      "4     1004   68        NaT  Новокузнецк    Татьяна   Авдеенко 2018-05-14   \n",
      "\n",
      "  tariff  \n",
      "0  ultra  \n",
      "1  smart  \n",
      "2  smart  \n",
      "3  ultra  \n",
      "4  ultra  \n",
      "<class 'pandas.core.frame.DataFrame'>\n",
      "RangeIndex: 500 entries, 0 to 499\n",
      "Data columns (total 8 columns):\n",
      "user_id       500 non-null int64\n",
      "age           500 non-null int64\n",
      "churn_date    38 non-null datetime64[ns]\n",
      "city          500 non-null object\n",
      "first_name    500 non-null object\n",
      "last_name     500 non-null object\n",
      "reg_date      500 non-null datetime64[ns]\n",
      "tariff        500 non-null object\n",
      "dtypes: datetime64[ns](2), int64(2), object(4)\n",
      "memory usage: 31.4+ KB\n",
      "None\n"
     ]
    }
   ],
   "source": [
    "for column in ['churn_date', 'reg_date']:\n",
    "    users[column] = pd.to_datetime(users[column],format='%Y.%m.%d')\n",
    "print(users.head())\n",
    "print(users.info())"
   ]
  },
  {
   "cell_type": "code",
   "execution_count": 13,
   "metadata": {},
   "outputs": [],
   "source": [
    "def month (data, row):\n",
    "    '''Принимает таблицу, столбец, возыращает новый столбец с месяцем, в котором совершалось действие'''\n",
    "    data['month'] = pd.DatetimeIndex(row).month"
   ]
  },
  {
   "cell_type": "code",
   "execution_count": 14,
   "metadata": {},
   "outputs": [
    {
     "data": {
      "text/html": [
       "<div>\n",
       "<style scoped>\n",
       "    .dataframe tbody tr th:only-of-type {\n",
       "        vertical-align: middle;\n",
       "    }\n",
       "\n",
       "    .dataframe tbody tr th {\n",
       "        vertical-align: top;\n",
       "    }\n",
       "\n",
       "    .dataframe thead th {\n",
       "        text-align: right;\n",
       "    }\n",
       "</style>\n",
       "<table border=\"1\" class=\"dataframe\">\n",
       "  <thead>\n",
       "    <tr style=\"text-align: right;\">\n",
       "      <th></th>\n",
       "      <th>user_id</th>\n",
       "      <th>month</th>\n",
       "      <th>duration</th>\n",
       "      <th>duration_count</th>\n",
       "    </tr>\n",
       "  </thead>\n",
       "  <tbody>\n",
       "    <tr>\n",
       "      <td>0</td>\n",
       "      <td>1000</td>\n",
       "      <td>5</td>\n",
       "      <td>159</td>\n",
       "      <td>17</td>\n",
       "    </tr>\n",
       "    <tr>\n",
       "      <td>1</td>\n",
       "      <td>1000</td>\n",
       "      <td>6</td>\n",
       "      <td>172</td>\n",
       "      <td>28</td>\n",
       "    </tr>\n",
       "    <tr>\n",
       "      <td>2</td>\n",
       "      <td>1000</td>\n",
       "      <td>7</td>\n",
       "      <td>340</td>\n",
       "      <td>41</td>\n",
       "    </tr>\n",
       "    <tr>\n",
       "      <td>3</td>\n",
       "      <td>1000</td>\n",
       "      <td>8</td>\n",
       "      <td>408</td>\n",
       "      <td>42</td>\n",
       "    </tr>\n",
       "    <tr>\n",
       "      <td>4</td>\n",
       "      <td>1000</td>\n",
       "      <td>9</td>\n",
       "      <td>466</td>\n",
       "      <td>46</td>\n",
       "    </tr>\n",
       "    <tr>\n",
       "      <td>5</td>\n",
       "      <td>1000</td>\n",
       "      <td>10</td>\n",
       "      <td>350</td>\n",
       "      <td>44</td>\n",
       "    </tr>\n",
       "    <tr>\n",
       "      <td>6</td>\n",
       "      <td>1000</td>\n",
       "      <td>11</td>\n",
       "      <td>338</td>\n",
       "      <td>37</td>\n",
       "    </tr>\n",
       "    <tr>\n",
       "      <td>7</td>\n",
       "      <td>1000</td>\n",
       "      <td>12</td>\n",
       "      <td>333</td>\n",
       "      <td>38</td>\n",
       "    </tr>\n",
       "    <tr>\n",
       "      <td>8</td>\n",
       "      <td>1001</td>\n",
       "      <td>11</td>\n",
       "      <td>430</td>\n",
       "      <td>45</td>\n",
       "    </tr>\n",
       "    <tr>\n",
       "      <td>9</td>\n",
       "      <td>1001</td>\n",
       "      <td>12</td>\n",
       "      <td>414</td>\n",
       "      <td>47</td>\n",
       "    </tr>\n",
       "    <tr>\n",
       "      <td>10</td>\n",
       "      <td>1002</td>\n",
       "      <td>6</td>\n",
       "      <td>117</td>\n",
       "      <td>14</td>\n",
       "    </tr>\n",
       "    <tr>\n",
       "      <td>11</td>\n",
       "      <td>1002</td>\n",
       "      <td>7</td>\n",
       "      <td>214</td>\n",
       "      <td>21</td>\n",
       "    </tr>\n",
       "    <tr>\n",
       "      <td>12</td>\n",
       "      <td>1002</td>\n",
       "      <td>8</td>\n",
       "      <td>289</td>\n",
       "      <td>37</td>\n",
       "    </tr>\n",
       "    <tr>\n",
       "      <td>13</td>\n",
       "      <td>1002</td>\n",
       "      <td>9</td>\n",
       "      <td>206</td>\n",
       "      <td>25</td>\n",
       "    </tr>\n",
       "    <tr>\n",
       "      <td>14</td>\n",
       "      <td>1002</td>\n",
       "      <td>10</td>\n",
       "      <td>212</td>\n",
       "      <td>24</td>\n",
       "    </tr>\n",
       "  </tbody>\n",
       "</table>\n",
       "</div>"
      ],
      "text/plain": [
       "    user_id  month  duration  duration_count\n",
       "0      1000      5       159              17\n",
       "1      1000      6       172              28\n",
       "2      1000      7       340              41\n",
       "3      1000      8       408              42\n",
       "4      1000      9       466              46\n",
       "5      1000     10       350              44\n",
       "6      1000     11       338              37\n",
       "7      1000     12       333              38\n",
       "8      1001     11       430              45\n",
       "9      1001     12       414              47\n",
       "10     1002      6       117              14\n",
       "11     1002      7       214              21\n",
       "12     1002      8       289              37\n",
       "13     1002      9       206              25\n",
       "14     1002     10       212              24"
      ]
     },
     "execution_count": 14,
     "metadata": {},
     "output_type": "execute_result"
    }
   ],
   "source": [
    "month(calls_new, calls_new['call_date']) #добавление столбца с месяцем действия\n",
    "calls_pivot = calls_new.groupby(['user_id','month']).agg({'duration' : 'sum'}).reset_index()\n",
    "calls_pivot_sum = calls_new.groupby(['user_id','month']).agg({'duration' : 'count'}).reset_index()\n",
    "calls_pivot['duration_count'] = calls_pivot_sum['duration']\n",
    "calls_pivot.head(15)"
   ]
  },
  {
   "cell_type": "code",
   "execution_count": 15,
   "metadata": {},
   "outputs": [
    {
     "data": {
      "text/html": [
       "<div>\n",
       "<style scoped>\n",
       "    .dataframe tbody tr th:only-of-type {\n",
       "        vertical-align: middle;\n",
       "    }\n",
       "\n",
       "    .dataframe tbody tr th {\n",
       "        vertical-align: top;\n",
       "    }\n",
       "\n",
       "    .dataframe thead th {\n",
       "        text-align: right;\n",
       "    }\n",
       "</style>\n",
       "<table border=\"1\" class=\"dataframe\">\n",
       "  <thead>\n",
       "    <tr style=\"text-align: right;\">\n",
       "      <th></th>\n",
       "      <th>user_id</th>\n",
       "      <th>month</th>\n",
       "      <th>mb_used</th>\n",
       "    </tr>\n",
       "  </thead>\n",
       "  <tbody>\n",
       "    <tr>\n",
       "      <td>0</td>\n",
       "      <td>1000</td>\n",
       "      <td>5</td>\n",
       "      <td>2256</td>\n",
       "    </tr>\n",
       "    <tr>\n",
       "      <td>1</td>\n",
       "      <td>1000</td>\n",
       "      <td>6</td>\n",
       "      <td>23257</td>\n",
       "    </tr>\n",
       "    <tr>\n",
       "      <td>2</td>\n",
       "      <td>1000</td>\n",
       "      <td>7</td>\n",
       "      <td>14016</td>\n",
       "    </tr>\n",
       "    <tr>\n",
       "      <td>3</td>\n",
       "      <td>1000</td>\n",
       "      <td>8</td>\n",
       "      <td>14070</td>\n",
       "    </tr>\n",
       "    <tr>\n",
       "      <td>4</td>\n",
       "      <td>1000</td>\n",
       "      <td>9</td>\n",
       "      <td>14581</td>\n",
       "    </tr>\n",
       "    <tr>\n",
       "      <td>5</td>\n",
       "      <td>1000</td>\n",
       "      <td>10</td>\n",
       "      <td>14717</td>\n",
       "    </tr>\n",
       "    <tr>\n",
       "      <td>6</td>\n",
       "      <td>1000</td>\n",
       "      <td>11</td>\n",
       "      <td>14768</td>\n",
       "    </tr>\n",
       "    <tr>\n",
       "      <td>7</td>\n",
       "      <td>1000</td>\n",
       "      <td>12</td>\n",
       "      <td>9827</td>\n",
       "    </tr>\n",
       "    <tr>\n",
       "      <td>8</td>\n",
       "      <td>1001</td>\n",
       "      <td>11</td>\n",
       "      <td>18452</td>\n",
       "    </tr>\n",
       "    <tr>\n",
       "      <td>9</td>\n",
       "      <td>1001</td>\n",
       "      <td>12</td>\n",
       "      <td>14053</td>\n",
       "    </tr>\n",
       "    <tr>\n",
       "      <td>10</td>\n",
       "      <td>1002</td>\n",
       "      <td>6</td>\n",
       "      <td>10871</td>\n",
       "    </tr>\n",
       "    <tr>\n",
       "      <td>11</td>\n",
       "      <td>1002</td>\n",
       "      <td>7</td>\n",
       "      <td>17601</td>\n",
       "    </tr>\n",
       "    <tr>\n",
       "      <td>12</td>\n",
       "      <td>1002</td>\n",
       "      <td>8</td>\n",
       "      <td>20347</td>\n",
       "    </tr>\n",
       "    <tr>\n",
       "      <td>13</td>\n",
       "      <td>1002</td>\n",
       "      <td>9</td>\n",
       "      <td>16712</td>\n",
       "    </tr>\n",
       "    <tr>\n",
       "      <td>14</td>\n",
       "      <td>1002</td>\n",
       "      <td>10</td>\n",
       "      <td>13905</td>\n",
       "    </tr>\n",
       "  </tbody>\n",
       "</table>\n",
       "</div>"
      ],
      "text/plain": [
       "    user_id  month  mb_used\n",
       "0      1000      5     2256\n",
       "1      1000      6    23257\n",
       "2      1000      7    14016\n",
       "3      1000      8    14070\n",
       "4      1000      9    14581\n",
       "5      1000     10    14717\n",
       "6      1000     11    14768\n",
       "7      1000     12     9827\n",
       "8      1001     11    18452\n",
       "9      1001     12    14053\n",
       "10     1002      6    10871\n",
       "11     1002      7    17601\n",
       "12     1002      8    20347\n",
       "13     1002      9    16712\n",
       "14     1002     10    13905"
      ]
     },
     "execution_count": 15,
     "metadata": {},
     "output_type": "execute_result"
    }
   ],
   "source": [
    "month(internet, internet['session_date'])\n",
    "internet_pivot = internet.groupby(['user_id','month']).agg({'mb_used' : 'sum'}).reset_index()\n",
    "internet_pivot.head(15)"
   ]
  },
  {
   "cell_type": "code",
   "execution_count": 16,
   "metadata": {},
   "outputs": [
    {
     "data": {
      "text/html": [
       "<div>\n",
       "<style scoped>\n",
       "    .dataframe tbody tr th:only-of-type {\n",
       "        vertical-align: middle;\n",
       "    }\n",
       "\n",
       "    .dataframe tbody tr th {\n",
       "        vertical-align: top;\n",
       "    }\n",
       "\n",
       "    .dataframe thead th {\n",
       "        text-align: right;\n",
       "    }\n",
       "</style>\n",
       "<table border=\"1\" class=\"dataframe\">\n",
       "  <thead>\n",
       "    <tr style=\"text-align: right;\">\n",
       "      <th></th>\n",
       "      <th>user_id</th>\n",
       "      <th>month</th>\n",
       "      <th>message_count</th>\n",
       "    </tr>\n",
       "  </thead>\n",
       "  <tbody>\n",
       "    <tr>\n",
       "      <td>0</td>\n",
       "      <td>1000</td>\n",
       "      <td>5</td>\n",
       "      <td>22</td>\n",
       "    </tr>\n",
       "    <tr>\n",
       "      <td>1</td>\n",
       "      <td>1000</td>\n",
       "      <td>6</td>\n",
       "      <td>60</td>\n",
       "    </tr>\n",
       "    <tr>\n",
       "      <td>2</td>\n",
       "      <td>1000</td>\n",
       "      <td>7</td>\n",
       "      <td>75</td>\n",
       "    </tr>\n",
       "    <tr>\n",
       "      <td>3</td>\n",
       "      <td>1000</td>\n",
       "      <td>8</td>\n",
       "      <td>81</td>\n",
       "    </tr>\n",
       "    <tr>\n",
       "      <td>4</td>\n",
       "      <td>1000</td>\n",
       "      <td>9</td>\n",
       "      <td>57</td>\n",
       "    </tr>\n",
       "    <tr>\n",
       "      <td>5</td>\n",
       "      <td>1000</td>\n",
       "      <td>10</td>\n",
       "      <td>73</td>\n",
       "    </tr>\n",
       "    <tr>\n",
       "      <td>6</td>\n",
       "      <td>1000</td>\n",
       "      <td>11</td>\n",
       "      <td>58</td>\n",
       "    </tr>\n",
       "    <tr>\n",
       "      <td>7</td>\n",
       "      <td>1000</td>\n",
       "      <td>12</td>\n",
       "      <td>70</td>\n",
       "    </tr>\n",
       "    <tr>\n",
       "      <td>8</td>\n",
       "      <td>1002</td>\n",
       "      <td>6</td>\n",
       "      <td>4</td>\n",
       "    </tr>\n",
       "    <tr>\n",
       "      <td>9</td>\n",
       "      <td>1002</td>\n",
       "      <td>7</td>\n",
       "      <td>11</td>\n",
       "    </tr>\n",
       "    <tr>\n",
       "      <td>10</td>\n",
       "      <td>1002</td>\n",
       "      <td>8</td>\n",
       "      <td>13</td>\n",
       "    </tr>\n",
       "    <tr>\n",
       "      <td>11</td>\n",
       "      <td>1002</td>\n",
       "      <td>9</td>\n",
       "      <td>4</td>\n",
       "    </tr>\n",
       "    <tr>\n",
       "      <td>12</td>\n",
       "      <td>1002</td>\n",
       "      <td>10</td>\n",
       "      <td>10</td>\n",
       "    </tr>\n",
       "    <tr>\n",
       "      <td>13</td>\n",
       "      <td>1002</td>\n",
       "      <td>11</td>\n",
       "      <td>16</td>\n",
       "    </tr>\n",
       "    <tr>\n",
       "      <td>14</td>\n",
       "      <td>1002</td>\n",
       "      <td>12</td>\n",
       "      <td>12</td>\n",
       "    </tr>\n",
       "  </tbody>\n",
       "</table>\n",
       "</div>"
      ],
      "text/plain": [
       "    user_id  month  message_count\n",
       "0      1000      5             22\n",
       "1      1000      6             60\n",
       "2      1000      7             75\n",
       "3      1000      8             81\n",
       "4      1000      9             57\n",
       "5      1000     10             73\n",
       "6      1000     11             58\n",
       "7      1000     12             70\n",
       "8      1002      6              4\n",
       "9      1002      7             11\n",
       "10     1002      8             13\n",
       "11     1002      9              4\n",
       "12     1002     10             10\n",
       "13     1002     11             16\n",
       "14     1002     12             12"
      ]
     },
     "execution_count": 16,
     "metadata": {},
     "output_type": "execute_result"
    }
   ],
   "source": [
    "month(messages, messages['message_date'])\n",
    "messages_pivot = messages.groupby(['user_id','month']).agg({'message_date' : 'count'}).reset_index()\n",
    "messages_pivot.columns = ['user_id', 'month', 'message_count']\n",
    "messages_pivot.head(15)"
   ]
  },
  {
   "cell_type": "code",
   "execution_count": 17,
   "metadata": {},
   "outputs": [],
   "source": [
    "'''Объединение таблиц'''\n",
    "def merge(el_prev,el):\n",
    "    '''Принимает пердыдущий и текущий элементы, возвращает слияние'''\n",
    "    merge_el = pd.merge(el_prev,el, on=['user_id', 'month'], how='outer')\n",
    "    return merge_el"
   ]
  },
  {
   "cell_type": "code",
   "execution_count": 18,
   "metadata": {
    "scrolled": true
   },
   "outputs": [
    {
     "name": "stdout",
     "output_type": "stream",
     "text": [
      "    user_id  month  duration  duration_count   mb_used  message_count tariff  \\\n",
      "0      1000  5.000   159.000          17.000  2256.000         22.000  ultra   \n",
      "1      1000  6.000   172.000          28.000 23257.000         60.000  ultra   \n",
      "2      1000  7.000   340.000          41.000 14016.000         75.000  ultra   \n",
      "3      1000  8.000   408.000          42.000 14070.000         81.000  ultra   \n",
      "4      1000  9.000   466.000          46.000 14581.000         57.000  ultra   \n",
      "5      1000 10.000   350.000          44.000 14717.000         73.000  ultra   \n",
      "6      1000 11.000   338.000          37.000 14768.000         58.000  ultra   \n",
      "7      1000 12.000   333.000          38.000  9827.000         70.000  ultra   \n",
      "8      1001 11.000   430.000          45.000 18452.000          0.000  smart   \n",
      "9      1001 12.000   414.000          47.000 14053.000          0.000  smart   \n",
      "10     1002  6.000   117.000          14.000 10871.000          4.000  smart   \n",
      "11     1002  7.000   214.000          21.000 17601.000         11.000  smart   \n",
      "12     1002  8.000   289.000          37.000 20347.000         13.000  smart   \n",
      "13     1002  9.000   206.000          25.000 16712.000          4.000  smart   \n",
      "14     1002 10.000   212.000          24.000 13905.000         10.000  smart   \n",
      "\n",
      "           city  \n",
      "0     Краснодар  \n",
      "1     Краснодар  \n",
      "2     Краснодар  \n",
      "3     Краснодар  \n",
      "4     Краснодар  \n",
      "5     Краснодар  \n",
      "6     Краснодар  \n",
      "7     Краснодар  \n",
      "8        Москва  \n",
      "9        Москва  \n",
      "10  Стерлитамак  \n",
      "11  Стерлитамак  \n",
      "12  Стерлитамак  \n",
      "13  Стерлитамак  \n",
      "14  Стерлитамак  \n",
      "user_id           0\n",
      "month             0\n",
      "duration          0\n",
      "duration_count    0\n",
      "mb_used           0\n",
      "message_count     0\n",
      "tariff            0\n",
      "city              0\n",
      "dtype: int64\n"
     ]
    }
   ],
   "source": [
    "data_list = [calls_pivot, internet_pivot, messages_pivot] #таблицы для сведения\n",
    "general_data = reduce(merge, data_list)\n",
    "general_data = general_data.merge(users[['user_id','tariff', 'city']], how = 'outer', on='user_id')\n",
    "general_data = general_data.fillna(0)\n",
    "print(general_data.head(15))\n",
    "print(general_data.isnull().sum())"
   ]
  },
  {
   "cell_type": "code",
   "execution_count": 19,
   "metadata": {},
   "outputs": [
    {
     "name": "stdout",
     "output_type": "stream",
     "text": [
      "<class 'pandas.core.frame.DataFrame'>\n",
      "Int64Index: 3216 entries, 0 to 3215\n",
      "Data columns (total 8 columns):\n",
      "user_id           3216 non-null int64\n",
      "month             3216 non-null int64\n",
      "duration          3216 non-null int64\n",
      "duration_count    3216 non-null int64\n",
      "mb_used           3216 non-null int64\n",
      "message_count     3216 non-null int64\n",
      "tariff            3216 non-null object\n",
      "city              3216 non-null object\n",
      "dtypes: int64(6), object(2)\n",
      "memory usage: 226.1+ KB\n"
     ]
    }
   ],
   "source": [
    "for column in ['month', 'duration', 'duration_count', 'mb_used', 'message_count']:\n",
    "    general_data[column] = general_data[column].astype(int, errors='ignore')\n",
    "general_data.info()"
   ]
  },
  {
   "cell_type": "code",
   "execution_count": 20,
   "metadata": {},
   "outputs": [],
   "source": [
    "def profit_d(row):\n",
    "    '''Принимает строку из сводной таблицы, возвращает выручку за месяц'''\n",
    "    user_id = row['user_id']\n",
    "    duration = row['duration']\n",
    "    messages = row['message_count']\n",
    "    mb_used = row['mb_used']\n",
    "    \n",
    "    \n",
    "    tariff = users.loc[users['user_id'] == user_id, 'tariff'].to_numpy()[0]\n",
    "    tariff_row = tariffs.loc[tariffs['tariff_name'] == tariff, :].to_numpy()[0]\n",
    "    messages_inc = tariff_row[0]\n",
    "    mb_month_inc = tariff_row[1]\n",
    "    minutes_inc = tariff_row[2]\n",
    "    rub_month_free = tariff_row[3]\n",
    "    rub_gb = tariff_row[4]\n",
    "    rub_message = tariff_row[5]\n",
    "    rub_minutes = tariff_row[6]\n",
    "    \n",
    "    more_duration = duration - minutes_inc\n",
    "    if more_duration < 0:\n",
    "        more_duration = 0\n",
    "    more_messages = messages - messages_inc\n",
    "    if more_messages < 0:\n",
    "        more_messages = 0\n",
    "    more_mb = mb_used - mb_month_inc\n",
    "    if more_mb < 0:\n",
    "        more_mb = 0\n",
    "    more_gb = mt.ceil(more_mb / 1024)\n",
    "    profit = rub_month_free + rub_minutes * more_duration + rub_message * more_messages + rub_gb * more_gb\n",
    "    return profit"
   ]
  },
  {
   "cell_type": "code",
   "execution_count": 21,
   "metadata": {},
   "outputs": [
    {
     "data": {
      "text/html": [
       "<div>\n",
       "<style scoped>\n",
       "    .dataframe tbody tr th:only-of-type {\n",
       "        vertical-align: middle;\n",
       "    }\n",
       "\n",
       "    .dataframe tbody tr th {\n",
       "        vertical-align: top;\n",
       "    }\n",
       "\n",
       "    .dataframe thead th {\n",
       "        text-align: right;\n",
       "    }\n",
       "</style>\n",
       "<table border=\"1\" class=\"dataframe\">\n",
       "  <thead>\n",
       "    <tr style=\"text-align: right;\">\n",
       "      <th></th>\n",
       "      <th>user_id</th>\n",
       "      <th>month</th>\n",
       "      <th>duration</th>\n",
       "      <th>duration_count</th>\n",
       "      <th>mb_used</th>\n",
       "      <th>message_count</th>\n",
       "      <th>tariff</th>\n",
       "      <th>city</th>\n",
       "      <th>profit</th>\n",
       "    </tr>\n",
       "  </thead>\n",
       "  <tbody>\n",
       "    <tr>\n",
       "      <td>0</td>\n",
       "      <td>1000</td>\n",
       "      <td>5</td>\n",
       "      <td>159</td>\n",
       "      <td>17</td>\n",
       "      <td>2256</td>\n",
       "      <td>22</td>\n",
       "      <td>ultra</td>\n",
       "      <td>Краснодар</td>\n",
       "      <td>1950</td>\n",
       "    </tr>\n",
       "    <tr>\n",
       "      <td>1</td>\n",
       "      <td>1000</td>\n",
       "      <td>6</td>\n",
       "      <td>172</td>\n",
       "      <td>28</td>\n",
       "      <td>23257</td>\n",
       "      <td>60</td>\n",
       "      <td>ultra</td>\n",
       "      <td>Краснодар</td>\n",
       "      <td>1950</td>\n",
       "    </tr>\n",
       "    <tr>\n",
       "      <td>2</td>\n",
       "      <td>1000</td>\n",
       "      <td>7</td>\n",
       "      <td>340</td>\n",
       "      <td>41</td>\n",
       "      <td>14016</td>\n",
       "      <td>75</td>\n",
       "      <td>ultra</td>\n",
       "      <td>Краснодар</td>\n",
       "      <td>1950</td>\n",
       "    </tr>\n",
       "    <tr>\n",
       "      <td>3</td>\n",
       "      <td>1000</td>\n",
       "      <td>8</td>\n",
       "      <td>408</td>\n",
       "      <td>42</td>\n",
       "      <td>14070</td>\n",
       "      <td>81</td>\n",
       "      <td>ultra</td>\n",
       "      <td>Краснодар</td>\n",
       "      <td>1950</td>\n",
       "    </tr>\n",
       "    <tr>\n",
       "      <td>4</td>\n",
       "      <td>1000</td>\n",
       "      <td>9</td>\n",
       "      <td>466</td>\n",
       "      <td>46</td>\n",
       "      <td>14581</td>\n",
       "      <td>57</td>\n",
       "      <td>ultra</td>\n",
       "      <td>Краснодар</td>\n",
       "      <td>1950</td>\n",
       "    </tr>\n",
       "    <tr>\n",
       "      <td>5</td>\n",
       "      <td>1000</td>\n",
       "      <td>10</td>\n",
       "      <td>350</td>\n",
       "      <td>44</td>\n",
       "      <td>14717</td>\n",
       "      <td>73</td>\n",
       "      <td>ultra</td>\n",
       "      <td>Краснодар</td>\n",
       "      <td>1950</td>\n",
       "    </tr>\n",
       "    <tr>\n",
       "      <td>6</td>\n",
       "      <td>1000</td>\n",
       "      <td>11</td>\n",
       "      <td>338</td>\n",
       "      <td>37</td>\n",
       "      <td>14768</td>\n",
       "      <td>58</td>\n",
       "      <td>ultra</td>\n",
       "      <td>Краснодар</td>\n",
       "      <td>1950</td>\n",
       "    </tr>\n",
       "    <tr>\n",
       "      <td>7</td>\n",
       "      <td>1000</td>\n",
       "      <td>12</td>\n",
       "      <td>333</td>\n",
       "      <td>38</td>\n",
       "      <td>9827</td>\n",
       "      <td>70</td>\n",
       "      <td>ultra</td>\n",
       "      <td>Краснодар</td>\n",
       "      <td>1950</td>\n",
       "    </tr>\n",
       "    <tr>\n",
       "      <td>8</td>\n",
       "      <td>1001</td>\n",
       "      <td>11</td>\n",
       "      <td>430</td>\n",
       "      <td>45</td>\n",
       "      <td>18452</td>\n",
       "      <td>0</td>\n",
       "      <td>smart</td>\n",
       "      <td>Москва</td>\n",
       "      <td>1350</td>\n",
       "    </tr>\n",
       "    <tr>\n",
       "      <td>9</td>\n",
       "      <td>1001</td>\n",
       "      <td>12</td>\n",
       "      <td>414</td>\n",
       "      <td>47</td>\n",
       "      <td>14053</td>\n",
       "      <td>0</td>\n",
       "      <td>smart</td>\n",
       "      <td>Москва</td>\n",
       "      <td>550</td>\n",
       "    </tr>\n",
       "    <tr>\n",
       "      <td>10</td>\n",
       "      <td>1002</td>\n",
       "      <td>6</td>\n",
       "      <td>117</td>\n",
       "      <td>14</td>\n",
       "      <td>10871</td>\n",
       "      <td>4</td>\n",
       "      <td>smart</td>\n",
       "      <td>Стерлитамак</td>\n",
       "      <td>550</td>\n",
       "    </tr>\n",
       "    <tr>\n",
       "      <td>11</td>\n",
       "      <td>1002</td>\n",
       "      <td>7</td>\n",
       "      <td>214</td>\n",
       "      <td>21</td>\n",
       "      <td>17601</td>\n",
       "      <td>11</td>\n",
       "      <td>smart</td>\n",
       "      <td>Стерлитамак</td>\n",
       "      <td>1150</td>\n",
       "    </tr>\n",
       "    <tr>\n",
       "      <td>12</td>\n",
       "      <td>1002</td>\n",
       "      <td>8</td>\n",
       "      <td>289</td>\n",
       "      <td>37</td>\n",
       "      <td>20347</td>\n",
       "      <td>13</td>\n",
       "      <td>smart</td>\n",
       "      <td>Стерлитамак</td>\n",
       "      <td>1550</td>\n",
       "    </tr>\n",
       "    <tr>\n",
       "      <td>13</td>\n",
       "      <td>1002</td>\n",
       "      <td>9</td>\n",
       "      <td>206</td>\n",
       "      <td>25</td>\n",
       "      <td>16712</td>\n",
       "      <td>4</td>\n",
       "      <td>smart</td>\n",
       "      <td>Стерлитамак</td>\n",
       "      <td>950</td>\n",
       "    </tr>\n",
       "    <tr>\n",
       "      <td>14</td>\n",
       "      <td>1002</td>\n",
       "      <td>10</td>\n",
       "      <td>212</td>\n",
       "      <td>24</td>\n",
       "      <td>13905</td>\n",
       "      <td>10</td>\n",
       "      <td>smart</td>\n",
       "      <td>Стерлитамак</td>\n",
       "      <td>550</td>\n",
       "    </tr>\n",
       "  </tbody>\n",
       "</table>\n",
       "</div>"
      ],
      "text/plain": [
       "    user_id  month  duration  duration_count  mb_used  message_count tariff  \\\n",
       "0      1000      5       159              17     2256             22  ultra   \n",
       "1      1000      6       172              28    23257             60  ultra   \n",
       "2      1000      7       340              41    14016             75  ultra   \n",
       "3      1000      8       408              42    14070             81  ultra   \n",
       "4      1000      9       466              46    14581             57  ultra   \n",
       "5      1000     10       350              44    14717             73  ultra   \n",
       "6      1000     11       338              37    14768             58  ultra   \n",
       "7      1000     12       333              38     9827             70  ultra   \n",
       "8      1001     11       430              45    18452              0  smart   \n",
       "9      1001     12       414              47    14053              0  smart   \n",
       "10     1002      6       117              14    10871              4  smart   \n",
       "11     1002      7       214              21    17601             11  smart   \n",
       "12     1002      8       289              37    20347             13  smart   \n",
       "13     1002      9       206              25    16712              4  smart   \n",
       "14     1002     10       212              24    13905             10  smart   \n",
       "\n",
       "           city  profit  \n",
       "0     Краснодар    1950  \n",
       "1     Краснодар    1950  \n",
       "2     Краснодар    1950  \n",
       "3     Краснодар    1950  \n",
       "4     Краснодар    1950  \n",
       "5     Краснодар    1950  \n",
       "6     Краснодар    1950  \n",
       "7     Краснодар    1950  \n",
       "8        Москва    1350  \n",
       "9        Москва     550  \n",
       "10  Стерлитамак     550  \n",
       "11  Стерлитамак    1150  \n",
       "12  Стерлитамак    1550  \n",
       "13  Стерлитамак     950  \n",
       "14  Стерлитамак     550  "
      ]
     },
     "execution_count": 21,
     "metadata": {},
     "output_type": "execute_result"
    }
   ],
   "source": [
    "general_data['profit'] = general_data.apply(profit_d, axis=1)\n",
    "general_data.head(15)"
   ]
  },
  {
   "cell_type": "markdown",
   "metadata": {},
   "source": [
    "### Выводы по блоку \"предподготовка данных\"\n",
    "- Заменены типы данных для дальнейших расчетов\n",
    "- Заменены и отсеяны пропуски. Данные достаточно корректны, т.к. используются для работы с пользователями непосредственно.\n",
    "- Данные объеденины в один датасет по принципу общего id и месяца произведенных действий. В общий датасет включены данные о количестве и сумме действий, тарифном плане и геолокации.\n",
    "- Посчитана ежемесячная выручка с абонента, согласно условиям тарифа. Для объединения использовались данные таблицы с тарифами.\n",
    "\n",
    "Объединенный датасет готов к дальнейшему анализу.\n",
    "    "
   ]
  },
  {
   "cell_type": "markdown",
   "metadata": {},
   "source": [
    "## Анализ данных"
   ]
  },
  {
   "cell_type": "code",
   "execution_count": 22,
   "metadata": {},
   "outputs": [],
   "source": [
    "smart = general_data.query('tariff == \"smart\"')\n",
    "ultra = general_data.query('tariff == \"ultra\"')"
   ]
  },
  {
   "cell_type": "code",
   "execution_count": 23,
   "metadata": {},
   "outputs": [],
   "source": [
    "def describe_action(data, column):\n",
    "    \"Принимает датасет и столбец, возвращает информацию о данных, дисперсию и стандартное отклонение\"\n",
    "    x = column\n",
    "    print(x.describe())\n",
    "    print('Среднее:', x.mean())\n",
    "    variance = np.var(x, ddof=1) #датасет — не вся совокупность по тарифу, а выборка из неё, считаем её \n",
    "    #оценку по имеющейся выборке \n",
    "    print('Дисперсия:', variance)\n",
    "    standard_deviation = np.sqrt(variance)\n",
    "    print('Стандартное отклонение', standard_deviation)\n"
   ]
  },
  {
   "cell_type": "markdown",
   "metadata": {},
   "source": [
    "### Длительность звонков абонентов тарифов"
   ]
  },
  {
   "cell_type": "code",
   "execution_count": 24,
   "metadata": {},
   "outputs": [],
   "source": [
    "def hist_action(data, column):\n",
    "    plt.figure(figsize=(15,10))\n",
    "    axis = sb.distplot(data[(data['tariff'] == 'smart') & (data[column].isna() == False)][column], norm_hist =\\\n",
    "                       True, kde = True, label='smart',\n",
    "                       kde_kws={'shade': True, 'linestyle':'-'})\n",
    "    sb.distplot(data[(data['tariff'] == 'ultra') & (data[column].isna() == False)][column], norm_hist = True,\\\n",
    "                kde = True, label='ultra',\n",
    "                hist_kws={'alpha': 0.5}, kde_kws={'shade': True, 'linestyle':'-'})\n",
    "    plt.title('Длительность звонков')\n",
    "    plt.xlabel(\"Длительность\")\n",
    "    plt.ylabel('Количество')\n",
    "    plt.legend()\n",
    "    axis.set(title=column)"
   ]
  },
  {
   "cell_type": "code",
   "execution_count": 25,
   "metadata": {
    "scrolled": false
   },
   "outputs": [
    {
     "name": "stdout",
     "output_type": "stream",
     "text": [
      "count   2230.000\n",
      "mean     417.748\n",
      "std      190.477\n",
      "min        0.000\n",
      "25%      282.000\n",
      "50%      421.500\n",
      "75%      545.000\n",
      "max     1435.000\n",
      "Name: duration, dtype: float64\n",
      "Среднее: 417.747533632287\n",
      "Дисперсия: 36281.39383644458\n",
      "Стандартное отклонение 190.4767540579285\n",
      "count    986.000\n",
      "mean     526.089\n",
      "std      317.888\n",
      "min        0.000\n",
      "25%      282.500\n",
      "50%      518.000\n",
      "75%      751.750\n",
      "max     1673.000\n",
      "Name: duration, dtype: float64\n",
      "Среднее: 526.0892494929006\n",
      "Дисперсия: 101052.49354928388\n",
      "Стандартное отклонение 317.8875485911392\n"
     ]
    },
    {
     "data": {
      "image/png": "[encoded data removed]",
      "text/plain": [
       "<Figure size 1080x720 with 1 Axes>"
      ]
     },
     "metadata": {
      "needs_background": "light"
     },
     "output_type": "display_data"
    }
   ],
   "source": [
    "describe_action(smart, smart['duration']) #оценим основную информацию абонентов тарифа смарт\n",
    "describe_action(ultra, ultra['duration']) #и тарифа ультра\n",
    "hist_action(general_data, 'duration')"
   ]
  },
  {
   "cell_type": "markdown",
   "metadata": {},
   "source": [
    "Абоненты тарифа смарт в значительной степени превышают лимит звонков, входящий в АП. Абоненты тарифа ультра - \n",
    "наоборот, не используют лимит полностью. Основная часть абонентов общается от 200 до 700 минут в месяц. \n",
    "Стандартное отклонение высокое в обоих случаях, что объясняется большим размахом данных. "
   ]
  },
  {
   "cell_type": "markdown",
   "metadata": {},
   "source": [
    "### Используемый трафик абонентами тарифов"
   ]
  },
  {
   "cell_type": "code",
   "execution_count": 26,
   "metadata": {
    "scrolled": false
   },
   "outputs": [
    {
     "name": "stdout",
     "output_type": "stream",
     "text": [
      "count    2230.000\n",
      "mean    16221.911\n",
      "std      5886.300\n",
      "min         0.000\n",
      "25%     12645.250\n",
      "50%     16529.000\n",
      "75%     20068.000\n",
      "max     38610.000\n",
      "Name: mb_used, dtype: float64\n",
      "Среднее: 16221.910762331838\n",
      "Дисперсия: 34648523.30069166\n",
      "Стандартное отклонение 5886.299627158955\n",
      "count     986.000\n",
      "mean    19467.138\n",
      "std     10110.255\n",
      "min         0.000\n",
      "25%     11761.000\n",
      "50%     19320.000\n",
      "75%     26860.250\n",
      "max     49789.000\n",
      "Name: mb_used, dtype: float64\n",
      "Среднее: 19467.137931034482\n",
      "Дисперсия: 102217264.27537197\n",
      "Стандартное отклонение 10110.255401095066\n"
     ]
    },
    {
     "data": {
      "image/png": "[encoded data removed]",
      "text/plain": [
       "<Figure size 1080x720 with 1 Axes>"
      ]
     },
     "metadata": {
      "needs_background": "light"
     },
     "output_type": "display_data"
    }
   ],
   "source": [
    "describe_action(smart, smart['mb_used'])\n",
    "describe_action(ultra, ultra['mb_used'])\n",
    "hist_action(general_data, 'mb_used')\n",
    "plt.title('Расходы интернет трафика')\n",
    "plt.xlabel(\"Потраченые МБ\")\n",
    "plt.ylabel('Количество юзеров');\n"
   ]
  },
  {
   "cell_type": "markdown",
   "metadata": {},
   "source": [
    "Стандартное отклонение в данном случае еще выше. При этом, оба тарифа не перекрывают потреблности абонентов в трафике. \n",
    "Больше половны абонентов тарифа смарт дополнительно докупают трафик. Абоненты Ультра так же докупают трафик, но в меньшем объеме.\n",
    "Jсновя часть пользователей использует от 10 до 30 ГБ Ежемесячо."
   ]
  },
  {
   "cell_type": "markdown",
   "metadata": {},
   "source": [
    "### Сколько отправлено СМС?"
   ]
  },
  {
   "cell_type": "code",
   "execution_count": 27,
   "metadata": {
    "scrolled": false
   },
   "outputs": [
    {
     "name": "stdout",
     "output_type": "stream",
     "text": [
      "count   2230.000\n",
      "mean      33.369\n",
      "std       28.230\n",
      "min        0.000\n",
      "25%       10.000\n",
      "50%       28.000\n",
      "75%       51.000\n",
      "max      143.000\n",
      "Name: message_count, dtype: float64\n",
      "Среднее: 33.36905829596412\n",
      "Дисперсия: 796.9552557301129\n",
      "Стандартное отклонение 28.230395954185852\n",
      "count   986.000\n",
      "mean     49.313\n",
      "std      47.806\n",
      "min       0.000\n",
      "25%       6.000\n",
      "50%      38.000\n",
      "75%      78.750\n",
      "max     224.000\n",
      "Name: message_count, dtype: float64\n",
      "Среднее: 49.31338742393509\n",
      "Дисперсия: 2285.4174246558414\n",
      "Стандартное отклонение 47.80603962530092\n"
     ]
    },
    {
     "data": {
      "image/png": "[encoded data removed]",
      "text/plain": [
       "<Figure size 1080x720 with 1 Axes>"
      ]
     },
     "metadata": {
      "needs_background": "light"
     },
     "output_type": "display_data"
    }
   ],
   "source": [
    "describe_action(smart, smart['message_count']) \n",
    "describe_action(ultra, ultra['message_count'])\n",
    "hist_action(general_data, 'message_count')\n",
    "plt.title('Расходы СМС')\n",
    "plt.xlabel(\"Потраченые СМС\")\n",
    "plt.ylabel('Количество юзеров');\n"
   ]
  },
  {
   "cell_type": "markdown",
   "metadata": {},
   "source": [
    "Стандартное отклонение такжвысоко, относительно среднего показателя. Основная часть пользователей тарифа смарт \"укладывается\" в лимит. Абоненты ультры не используют лимит в полном оъеме."
   ]
  },
  {
   "cell_type": "markdown",
   "metadata": {},
   "source": [
    "### Расходы абонентов"
   ]
  },
  {
   "cell_type": "code",
   "execution_count": 28,
   "metadata": {},
   "outputs": [
    {
     "name": "stdout",
     "output_type": "stream",
     "text": [
      "count   2230.000\n",
      "mean    1294.305\n",
      "std      820.900\n",
      "min      550.000\n",
      "25%      550.000\n",
      "50%     1037.000\n",
      "75%     1750.000\n",
      "max     6770.000\n",
      "Name: profit, dtype: float64\n",
      "Среднее: 1294.3053811659192\n",
      "Дисперсия: 673877.6236139194\n",
      "Стандартное отклонение 820.9004955619891\n",
      "count    986.000\n",
      "mean    2070.943\n",
      "std      378.630\n",
      "min     1950.000\n",
      "25%     1950.000\n",
      "50%     1950.000\n",
      "75%     1950.000\n",
      "max     4800.000\n",
      "Name: profit, dtype: float64\n",
      "Среднее: 2070.943204868154\n",
      "Дисперсия: 143360.42925834784\n",
      "Стандартное отклонение 378.6296729765746\n"
     ]
    },
    {
     "data": {
      "image/png": "[encoded data removed]",
      "text/plain": [
       "<Figure size 1080x720 with 1 Axes>"
      ]
     },
     "metadata": {
      "needs_background": "light"
     },
     "output_type": "display_data"
    }
   ],
   "source": [
    "describe_action(smart, smart['profit']) #оценим основную информацию абонентов тарифа смарт\n",
    "describe_action(ultra, ultra['profit'])\n",
    "hist_action(general_data, 'profit')\n",
    "plt.title('Расходы пользователей')\n",
    "plt.xlabel(\"Расходы на связь\")\n",
    "plt.ylabel('Количество юзеров');\n",
    "#Половина пользователей тарифа смарт переплачивают абонентскую плату, докупая дополнительные минуты, ГБ и сообщения. \n",
    "#Абсютное большинство абонентов тарифа ультра \"укалдываются\" в а/п, при этом имеют \"избыток\" минут и смс."
   ]
  },
  {
   "cell_type": "markdown",
   "metadata": {},
   "source": [
    "### Выводы по блоку \"Анализ данных\""
   ]
  },
  {
   "cell_type": "markdown",
   "metadata": {},
   "source": [
    "- Основная часть распределений нормальная. \n",
    "- Графики использования смс скошены. Причина может быть в том, что смс - не самый популярный способ связи. \n",
    "- Распределение дохода с абонентов, в  основной массе, находится в точке уровня абоненкой платы."
   ]
  },
  {
   "cell_type": "markdown",
   "metadata": {},
   "source": [
    "## Проверка гипотез"
   ]
  },
  {
   "cell_type": "code",
   "execution_count": 29,
   "metadata": {},
   "outputs": [],
   "source": [
    "smart_profit = general_data.query('tariff == \"smart\"')['profit'] #выделяем таблицы по тарифу абонента с данными о месячной выручке\n",
    "ultra_profit = general_data.query('tariff == \"ultra\"')['profit']"
   ]
  },
  {
   "cell_type": "code",
   "execution_count": 30,
   "metadata": {},
   "outputs": [
    {
     "data": {
      "text/plain": [
       "8       1350\n",
       "9        550\n",
       "10       550\n",
       "11      1150\n",
       "12      1550\n",
       "        ... \n",
       "3210     950\n",
       "3211    1550\n",
       "3212    1150\n",
       "3213     950\n",
       "3215     550\n",
       "Name: profit, Length: 2230, dtype: int64"
      ]
     },
     "execution_count": 30,
     "metadata": {},
     "output_type": "execute_result"
    }
   ],
   "source": [
    "smart_profit"
   ]
  },
  {
   "cell_type": "code",
   "execution_count": 31,
   "metadata": {},
   "outputs": [
    {
     "name": "stdout",
     "output_type": "stream",
     "text": [
      "p-значение: 1.2414049931248708e-246\n",
      "Отвергаем нулевую гипотезу\n"
     ]
    }
   ],
   "source": [
    "#Нулевая гипотеза - средняя выручка пользователей тарифов «Ультра» и «Смарт» равна;\n",
    "#Альтернативная гипотеза - средняя выручка пользователей тарифов «Ультра» и «Смарт» различается;\n",
    "\n",
    "alpha = 0.05 #критический уровень статистической значимости\n",
    "#Чтобы проверить гипотезу о равенстве среднего двух генеральных совокупностей по взятым из них выборкам, \n",
    "#примениv метод scipy.stats.ttest_ind \n",
    "results = st.ttest_ind(smart_profit, ultra_profit, equal_var = False) #дисперсии выборок не равные\n",
    "print('p-значение:', results.pvalue)\n",
    "\n",
    "if (results.pvalue / 2 < 0.05):  #так как гипотеза двусторонняя - делим pvalue \"в обе стороны\"\n",
    "    print(\"Отвергаем нулевую гипотезу\")\n",
    "else:\n",
    "    print(\"Не получилось отвергнуть нулевую гипотезу\")"
   ]
  },
  {
   "cell_type": "code",
   "execution_count": 32,
   "metadata": {},
   "outputs": [],
   "source": [
    "moskow_profit = general_data.query('city == \"Москва\"')['profit'] #выделяем таблицы по городу абонента с \n",
    "#данными о месячной выручке\n",
    "region_profit = general_data.query('city != \"Москва\"')['profit']"
   ]
  },
  {
   "cell_type": "code",
   "execution_count": 33,
   "metadata": {},
   "outputs": [
    {
     "name": "stdout",
     "output_type": "stream",
     "text": [
      "p-значение: 0.5086199993481282\n",
      "Не получилось отвергнуть нулевую гипотезу\n"
     ]
    }
   ],
   "source": [
    "#Нулевая гипотеза - средняя выручка пользователей из Москвы равна выручке пользователей из других регионов\n",
    "#Альтернативная гипотеза - средняя выручка пользователей из Москвы отличается от выручки пользователей из\n",
    "#других регионов\n",
    "\n",
    "alpha = 0.05\n",
    "\n",
    "results = st.ttest_ind(moskow_profit, region_profit, equal_var = False)\n",
    "print('p-значение:', results.pvalue)\n",
    "\n",
    "if (results.pvalue / 2 < 0.05):\n",
    "    print(\"Отвергаем нулевую гипотезу\")\n",
    "else:\n",
    "    print(\"Не получилось отвергнуть нулевую гипотезу\")"
   ]
  },
  {
   "cell_type": "markdown",
   "metadata": {},
   "source": [
    "### Выводы по блоку \"Проверка гипотез\""
   ]
  },
  {
   "cell_type": "markdown",
   "metadata": {},
   "source": [
    "Гипотезу о равенстве средней вручки тарифов можно отвергнуть. Тем не менее, слишком большая вероятность того, что такое различие можно получить случайно.\n",
    "Гипотезу о равенстве средней выручке в Москве и регионах не получилось отвергнуть. Тем не менее, так же, существует почти 50% вероятности, что данные могут быть случайными."
   ]
  },
  {
   "cell_type": "markdown",
   "metadata": {},
   "source": [
    "## Общие выводы"
   ]
  },
  {
   "cell_type": "markdown",
   "metadata": {},
   "source": [
    "- Относительно цели заказчика, можно сделать вывод о том, что тариф УЛЬТРА, более прибыльный для компании. Не смотря на то, что абонентов с данным тарифом в 2 раза меньше, чем пользователей тарифа СМАРТ.\n",
    "- Цель иседования - проанализировать поведение клиентов и сделать вывод — какой тариф лучше. По итогам анализа поведения клиентов, сравнения использния объема продуктов двух тарифов, проверив гипот, можно сделать вывод о том, что оба тарифа не явлются абсолютно универсальными. Тариф СМАРТ - не прывает потребительского спроса на объем продуктов по звонкам и интернету. Половина пользователей доплачивает дополнительно для увеличения пакета услуг. Риски - абоненты данного тарифа могут найти более универсальный вариант, абонентская плата, за который будет покрывать потности. Тариф УЛЬТРА - имеет лимиты по звонкам и СМС, которые не используются ни одним абонентом. В то же время, данные абонентык же не укладываются в отведенные лимиты по интернету. Риски - имея ряд услуг с \"избытком\", за который происходит \"переплата\", значимая часть абонентов так же может перейти на другой, более подходящий тариф. \n",
    "Рекомендация - пересмотреть условия обоих тарифов и направить рекламный бюджет на продвижение нового, более универсального.\n",
    "Рекомендуемые условия для нового тарифа:\n",
    "1. Лимит звонков: 700\n",
    "2. Лимит интернет-трафика: 30-35 ГБ\n",
    "3. Лимит СМС: Безлимит. (Большая экономия в ряду абонентов, кто использует очень мало либо не использует СМС)\n",
    "4. Абонентская плата: 1000 - 1200 руб.\n"
   ]
  }
 ],
 "metadata": {
  "kernelspec": {
   "display_name": "Python 3",
   "language": "python",
   "name": "python3"
  },
  "language_info": {
   "codemirror_mode": {
    "name": "ipython",
    "version": 3
   },
   "file_extension": ".py",
   "mimetype": "text/x-python",
   "name": "python",
   "nbconvert_exporter": "python",
   "pygments_lexer": "ipython3",
   "version": "3.7.6"
  }
 },
 "nbformat": 4,
 "nbformat_minor": 2
}
