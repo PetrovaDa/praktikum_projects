{
 "cells": [
  {
   "cell_type": "markdown",
   "metadata": {},
   "source": [
    "<div style=\"border:solid  green  2px; padding: 20px\"> <h1 style=\"color: green\">Проект по A/B тестированию</h1>"
   ]
  },
  {
   "cell_type": "markdown",
   "metadata": {},
   "source": [
    "# Описание проекта"
   ]
  },
  {
   "cell_type": "markdown",
   "metadata": {},
   "source": [
    "Цель - Оценить корректность проведения теста предшественника. \n",
    "Проанализировать результаты теста."
   ]
  },
  {
   "cell_type": "markdown",
   "metadata": {},
   "source": [
    "# Техническое задание"
   ]
  },
  {
   "cell_type": "markdown",
   "metadata": {},
   "source": [
    "    Название теста: recommender_system_test;\n",
    "    Группы: А (контрольная), B (новая платёжная воронка);\n",
    "    Дата запуска: 2020-12-07;\n",
    "    Дата остановки набора новых пользователей: 2020-12-21;\n",
    "    Дата остановки: 2021-01-04;\n",
    "    Аудитория: 15% новых пользователей из региона EU;\n",
    "    Назначение теста: тестирование изменений, связанных с внедрением улучшенной рекомендательной системы;\n",
    "    Ожидаемое количество участников теста: 6000.\n",
    "    Ожидаемый эффект: за 14 дней с момента регистрации в системе пользователи покажут улучшение каждой метрики не менее, чем на 10%:\n",
    "        - конверсии в просмотр карточек товаров — событие product_page\n",
    "        - просмотры корзины — product_card\n",
    "        - покупки — purchase."
   ]
  },
  {
   "cell_type": "markdown",
   "metadata": {},
   "source": [
    "# Описание данных"
   ]
  },
  {
   "cell_type": "markdown",
   "metadata": {},
   "source": [
    "    ab_project_marketing_events.csv — календарь маркетинговых событий на 2020 год;\n",
    "    Структура файла:\n",
    "        name — название маркетингового события;\n",
    "        regions — регионы, в которых будет проводиться рекламная кампания;\n",
    "        start_dt — дата начала кампании;\n",
    "        finish_dt — дата завершения кампании.\n",
    "\n",
    "    final_ab_new_users.csv — все пользователи, зарегистрировавшиеся в интернет-магазине в период с 7 по 21 декабря 2020 года;\n",
    "    Структура файла:\n",
    "        user_id — идентификатор пользователя;\n",
    "        first_date — дата регистрации;\n",
    "        region — регион пользователя;\n",
    "        device — устройство, с которого происходила регистрация.\n",
    "\n",
    "    final_ab_events.csv — все события новых пользователей в период с 7 декабря 2020 по 4 января 2021 года;\n",
    "    Структура файла:\n",
    "        user_id — идентификатор пользователя;\n",
    "        event_dt — дата и время события;\n",
    "        event_name — тип события;\n",
    "        details — дополнительные данные о событии. Например, для покупок, purchase, в этом поле хранится стоимость покупки в долларах.\n",
    "\n",
    "    final_ab_participants.csv — таблица участников тестов.\n",
    "    Структура файла:\n",
    "        user_id — идентификатор пользователя;\n",
    "        ab_test — название теста;\n",
    "        group — группа пользователя."
   ]
  },
  {
   "cell_type": "code",
   "execution_count": 71,
   "metadata": {},
   "outputs": [],
   "source": [
    "from matplotlib import pyplot as plt # выгружаем необходимые библиотеки\n",
    "import pandas as pd\n",
    "import numpy as np\n",
    "from math import factorial\n",
    "from scipy import stats as st\n",
    "import math as mt\n",
    "from functools import reduce\n",
    "import seaborn as sns\n",
    "import warnings; warnings.filterwarnings(action='once')\n",
    "import matplotlib as mpl\n",
    "import seaborn as sb\n",
    "import plotly.express as px\n",
    "from plotly import graph_objects as go"
   ]
  },
  {
   "cell_type": "code",
   "execution_count": 72,
   "metadata": {},
   "outputs": [],
   "source": [
    "pd.set_option('display.float_format', lambda x: '%.3f' % x) #изменение глобальной настройки отображения "
   ]
  },
  {
   "cell_type": "markdown",
   "metadata": {},
   "source": [
    "# Предподготовка данных"
   ]
  },
  {
   "cell_type": "code",
   "execution_count": 73,
   "metadata": {},
   "outputs": [],
   "source": [
    "def info_data(data):\n",
    "    '''Принимает таблицу, возвращает первые 15 строк, общую информацию, наличие пропусков и дубликатов'''\n",
    "    print(data.head(15))\n",
    "    display(data.info())\n",
    "    print('Количество пропусков в таблце:', data.isnull().sum())\n",
    "    print('Количество дубликатов в таблце:',data.duplicated().sum())"
   ]
  },
  {
   "cell_type": "code",
   "execution_count": 74,
   "metadata": {},
   "outputs": [
    {
     "name": "stdout",
     "output_type": "stream",
     "text": [
      "                                name                   regions    start_dt  \\\n",
      "0           Christmas&New Year Promo             EU, N.America  2020-12-25   \n",
      "1       St. Valentine's Day Giveaway  EU, CIS, APAC, N.America  2020-02-14   \n",
      "2             St. Patric's Day Promo             EU, N.America  2020-03-17   \n",
      "3                       Easter Promo  EU, CIS, APAC, N.America  2020-04-12   \n",
      "4                  4th of July Promo                 N.America  2020-07-04   \n",
      "5          Black Friday Ads Campaign  EU, CIS, APAC, N.America  2020-11-26   \n",
      "6             Chinese New Year Promo                      APAC  2020-01-25   \n",
      "7   Labor day (May 1st) Ads Campaign             EU, CIS, APAC  2020-05-01   \n",
      "8    International Women's Day Promo             EU, CIS, APAC  2020-03-08   \n",
      "9    Victory Day CIS (May 9th) Event                       CIS  2020-05-09   \n",
      "10         CIS New Year Gift Lottery                       CIS  2020-12-30   \n",
      "11     Dragon Boat Festival Giveaway                      APAC  2020-06-25   \n",
      "12           Single's Day Gift Promo                      APAC  2020-11-11   \n",
      "13             Chinese Moon Festival                      APAC  2020-10-01   \n",
      "\n",
      "     finish_dt  \n",
      "0   2021-01-03  \n",
      "1   2020-02-16  \n",
      "2   2020-03-19  \n",
      "3   2020-04-19  \n",
      "4   2020-07-11  \n",
      "5   2020-12-01  \n",
      "6   2020-02-07  \n",
      "7   2020-05-03  \n",
      "8   2020-03-10  \n",
      "9   2020-05-11  \n",
      "10  2021-01-07  \n",
      "11  2020-07-01  \n",
      "12  2020-11-12  \n",
      "13  2020-10-07  \n",
      "<class 'pandas.core.frame.DataFrame'>\n",
      "RangeIndex: 14 entries, 0 to 13\n",
      "Data columns (total 4 columns):\n",
      " #   Column     Non-Null Count  Dtype \n",
      "---  ------     --------------  ----- \n",
      " 0   name       14 non-null     object\n",
      " 1   regions    14 non-null     object\n",
      " 2   start_dt   14 non-null     object\n",
      " 3   finish_dt  14 non-null     object\n",
      "dtypes: object(4)\n",
      "memory usage: 576.0+ bytes\n"
     ]
    },
    {
     "data": {
      "text/plain": [
       "None"
      ]
     },
     "metadata": {},
     "output_type": "display_data"
    },
    {
     "name": "stdout",
     "output_type": "stream",
     "text": [
      "Количество пропусков в таблце: name         0\n",
      "regions      0\n",
      "start_dt     0\n",
      "finish_dt    0\n",
      "dtype: int64\n",
      "Количество дубликатов в таблце: 0\n"
     ]
    }
   ],
   "source": [
    "marketing_events = pd.read_csv('datasets/ab_project_marketing_events.csv') #календарь маркетинговых событий на 2020\n",
    "info_data(marketing_events)"
   ]
  },
  {
   "cell_type": "code",
   "execution_count": 75,
   "metadata": {},
   "outputs": [
    {
     "name": "stdout",
     "output_type": "stream",
     "text": [
      "             user_id  first_date     region   device\n",
      "0   D72A72121175D8BE  2020-12-07         EU       PC\n",
      "1   F1C668619DFE6E65  2020-12-07  N.America  Android\n",
      "2   2E1BF1D4C37EA01F  2020-12-07         EU       PC\n",
      "3   50734A22C0C63768  2020-12-07         EU   iPhone\n",
      "4   E1BDDCE0DAFA2679  2020-12-07  N.America   iPhone\n",
      "5   137119F5A9E69421  2020-12-07  N.America   iPhone\n",
      "6   62F0C741CC42D0CC  2020-12-07       APAC   iPhone\n",
      "7   8942E64218C9A1ED  2020-12-07         EU       PC\n",
      "8   499AFACF904BBAE3  2020-12-07  N.America   iPhone\n",
      "9   FFCEA1179C253104  2020-12-07         EU  Android\n",
      "10  5EB159DA9DC94DBA  2020-12-07       APAC       PC\n",
      "11  084A22B980BA8169  2020-12-07         EU  Android\n",
      "12  8ACC2420471B31E4  2020-12-07         EU       PC\n",
      "13  E6DE857AFBDC6102  2020-12-07         EU       PC\n",
      "14  5BE017E9C8CC42F8  2020-12-07         EU  Android\n",
      "<class 'pandas.core.frame.DataFrame'>\n",
      "RangeIndex: 61733 entries, 0 to 61732\n",
      "Data columns (total 4 columns):\n",
      " #   Column      Non-Null Count  Dtype \n",
      "---  ------      --------------  ----- \n",
      " 0   user_id     61733 non-null  object\n",
      " 1   first_date  61733 non-null  object\n",
      " 2   region      61733 non-null  object\n",
      " 3   device      61733 non-null  object\n",
      "dtypes: object(4)\n",
      "memory usage: 1.9+ MB\n"
     ]
    },
    {
     "data": {
      "text/plain": [
       "None"
      ]
     },
     "metadata": {},
     "output_type": "display_data"
    },
    {
     "name": "stdout",
     "output_type": "stream",
     "text": [
      "Количество пропусков в таблце: user_id       0\n",
      "first_date    0\n",
      "region        0\n",
      "device        0\n",
      "dtype: int64\n",
      "Количество дубликатов в таблце: 0\n",
      "Дубликаты по user_id:  0\n"
     ]
    }
   ],
   "source": [
    "new_users = pd.read_csv('datasets/final_ab_new_users.csv') # все пользоваели, зарегистрировавшиеся в интернет-магазине\n",
    "# в период с 7-21 декабря 2020г\n",
    "info_data(new_users)\n",
    "print('Дубликаты по user_id: ', new_users['user_id'].duplicated().sum())"
   ]
  },
  {
   "cell_type": "code",
   "execution_count": 76,
   "metadata": {},
   "outputs": [
    {
     "name": "stdout",
     "output_type": "stream",
     "text": [
      "             user_id             event_dt event_name  details\n",
      "0   E1BDDCE0DAFA2679  2020-12-07 20:22:03   purchase   99.990\n",
      "1   7B6452F081F49504  2020-12-07 09:22:53   purchase    9.990\n",
      "2   9CD9F34546DF254C  2020-12-07 12:59:29   purchase    4.990\n",
      "3   96F27A054B191457  2020-12-07 04:02:40   purchase    4.990\n",
      "4   1FD7660FDF94CA1F  2020-12-07 10:15:09   purchase    4.990\n",
      "5   831887FE7F2D6CBA  2020-12-07 06:50:29   purchase    4.990\n",
      "6   6B2F726BFD5F8220  2020-12-07 11:27:42   purchase    4.990\n",
      "7   BEB37715AACF53B0  2020-12-07 04:26:15   purchase    4.990\n",
      "8   B5FA27F582227197  2020-12-07 01:46:37   purchase    4.990\n",
      "9   A92195E3CFB83DBD  2020-12-07 00:32:07   purchase    4.990\n",
      "10  E2E76A8B3389127C  2020-12-07 15:39:32   purchase    4.990\n",
      "11  354D653172FF2A2D  2020-12-07 15:45:11   purchase    4.990\n",
      "12  7FCD34F47C13A9AC  2020-12-07 22:06:13   purchase    9.990\n",
      "13  0313C457F07C339E  2020-12-07 13:10:48   purchase    9.990\n",
      "14  214902A9BAAF3422  2020-12-07 19:31:44   purchase    4.990\n",
      "<class 'pandas.core.frame.DataFrame'>\n",
      "RangeIndex: 440317 entries, 0 to 440316\n",
      "Data columns (total 4 columns):\n",
      " #   Column      Non-Null Count   Dtype  \n",
      "---  ------      --------------   -----  \n",
      " 0   user_id     440317 non-null  object \n",
      " 1   event_dt    440317 non-null  object \n",
      " 2   event_name  440317 non-null  object \n",
      " 3   details     62740 non-null   float64\n",
      "dtypes: float64(1), object(3)\n",
      "memory usage: 13.4+ MB\n"
     ]
    },
    {
     "data": {
      "text/plain": [
       "None"
      ]
     },
     "metadata": {},
     "output_type": "display_data"
    },
    {
     "name": "stdout",
     "output_type": "stream",
     "text": [
      "Количество пропусков в таблце: user_id            0\n",
      "event_dt           0\n",
      "event_name         0\n",
      "details       377577\n",
      "dtype: int64\n",
      "Количество дубликатов в таблце: 0\n"
     ]
    }
   ],
   "source": [
    "ab_events = pd.read_csv('datasets/final_ab_events.csv') #все события новых пользователей в период с 7 декабря 2020 по \n",
    "#4 января 2021 года\n",
    "info_data(ab_events)"
   ]
  },
  {
   "cell_type": "code",
   "execution_count": 77,
   "metadata": {},
   "outputs": [
    {
     "name": "stdout",
     "output_type": "stream",
     "text": [
      "             user_id group                  ab_test\n",
      "0   D1ABA3E2887B6A73     A  recommender_system_test\n",
      "1   A7A3664BD6242119     A  recommender_system_test\n",
      "2   DABC14FDDFADD29E     A  recommender_system_test\n",
      "3   04988C5DF189632E     A  recommender_system_test\n",
      "4   482F14783456D21B     B  recommender_system_test\n",
      "5   4FF2998A348C484F     A  recommender_system_test\n",
      "6   7473E0943673C09E     A  recommender_system_test\n",
      "7   C46FE336D240A054     A  recommender_system_test\n",
      "8   92CB588012C10D3D     A  recommender_system_test\n",
      "9   057AB296296C7FC0     B  recommender_system_test\n",
      "10  B3A2485649E4A012     A  recommender_system_test\n",
      "11  E9FA12FAE3F5769C     B  recommender_system_test\n",
      "12  FDD0A1016549D707     A  recommender_system_test\n",
      "13  547E99A7BDB0FCE9     A  recommender_system_test\n",
      "14  66FC298441D50783     A  recommender_system_test\n",
      "<class 'pandas.core.frame.DataFrame'>\n",
      "RangeIndex: 18268 entries, 0 to 18267\n",
      "Data columns (total 3 columns):\n",
      " #   Column   Non-Null Count  Dtype \n",
      "---  ------   --------------  ----- \n",
      " 0   user_id  18268 non-null  object\n",
      " 1   group    18268 non-null  object\n",
      " 2   ab_test  18268 non-null  object\n",
      "dtypes: object(3)\n",
      "memory usage: 428.3+ KB\n"
     ]
    },
    {
     "data": {
      "text/plain": [
       "None"
      ]
     },
     "metadata": {},
     "output_type": "display_data"
    },
    {
     "name": "stdout",
     "output_type": "stream",
     "text": [
      "Количество пропусков в таблце: user_id    0\n",
      "group      0\n",
      "ab_test    0\n",
      "dtype: int64\n",
      "Количество дубликатов в таблце: 0\n",
      "Количество дубликатов по user_id:  1602\n"
     ]
    }
   ],
   "source": [
    "final_participants = pd.read_csv('datasets/final_ab_participants.csv') # таблица участников тестов\n",
    "info_data(final_participants)\n",
    "print('Количество дубликатов по user_id: ', final_participants['user_id'].duplicated().sum())"
   ]
  },
  {
   "cell_type": "code",
   "execution_count": 78,
   "metadata": {},
   "outputs": [],
   "source": [
    "s = final_participants.groupby('user_id').ab_test.count()\n",
    "bad_users = s[s>1].index.to_list() # Пользователи, которые есть больше чем в одном АБ-тесте\n",
    "cleaned_participants = final_participants.query('user_id not in @bad_users and ab_test == \"recommender_system_test\"')\n"
   ]
  },
  {
   "cell_type": "markdown",
   "metadata": {},
   "source": [
    "Найдено 1602 дубликатов в таблице распределения пользователей по тестовым группам. При детальном рассмотрении одного из примеров, становится понятно, что в таблице присутствует и пересекаются пользователи по конкурирующим тестам. После применения фильтра по интересующему тесту дубликаты отсутствуют. Так, в данных обнаружено 1602 пересечения с другими тестами. Удалили все дубли и все наблюдения из не рассматриваемого тестирования."
   ]
  },
  {
   "cell_type": "code",
   "execution_count": 79,
   "metadata": {},
   "outputs": [
    {
     "name": "stdout",
     "output_type": "stream",
     "text": [
      "Количество участников теста: 5099\n",
      "[]\n"
     ]
    }
   ],
   "source": [
    "c = cleaned_participants.groupby('user_id').ab_test.count()\n",
    "non_unique = c[c > 1].index.to_list()\n",
    "print('Количество участников теста:', c.count())\n",
    "print(non_unique)"
   ]
  },
  {
   "cell_type": "code",
   "execution_count": 80,
   "metadata": {},
   "outputs": [],
   "source": [
    "group_count = cleaned_participants.pivot_table(index='group', values='user_id', aggfunc='count')"
   ]
  },
  {
   "cell_type": "code",
   "execution_count": 81,
   "metadata": {},
   "outputs": [
    {
     "data": {
      "text/html": [
       "<div>\n",
       "<style scoped>\n",
       "    .dataframe tbody tr th:only-of-type {\n",
       "        vertical-align: middle;\n",
       "    }\n",
       "\n",
       "    .dataframe tbody tr th {\n",
       "        vertical-align: top;\n",
       "    }\n",
       "\n",
       "    .dataframe thead th {\n",
       "        text-align: right;\n",
       "    }\n",
       "</style>\n",
       "<table border=\"1\" class=\"dataframe\">\n",
       "  <thead>\n",
       "    <tr style=\"text-align: right;\">\n",
       "      <th></th>\n",
       "      <th>user_id</th>\n",
       "    </tr>\n",
       "    <tr>\n",
       "      <th>group</th>\n",
       "      <th></th>\n",
       "    </tr>\n",
       "  </thead>\n",
       "  <tbody>\n",
       "    <tr>\n",
       "      <th>A</th>\n",
       "      <td>2903</td>\n",
       "    </tr>\n",
       "    <tr>\n",
       "      <th>B</th>\n",
       "      <td>2196</td>\n",
       "    </tr>\n",
       "  </tbody>\n",
       "</table>\n",
       "</div>"
      ],
      "text/plain": [
       "       user_id\n",
       "group         \n",
       "A         2903\n",
       "B         2196"
      ]
     },
     "execution_count": 81,
     "metadata": {},
     "output_type": "execute_result"
    }
   ],
   "source": [
    "group_count"
   ]
  },
  {
   "cell_type": "markdown",
   "metadata": {},
   "source": [
    "Разница в выборках составляет больше 1%. Уравнивать группы потерей 1000 наблюдений - нецелесообразно и не корректно. Уравнивать имеет смысл при проведении A/A тестирования. Также, нарушены условия технического задания (6000 участников теста)."
   ]
  },
  {
   "cell_type": "code",
   "execution_count": 82,
   "metadata": {},
   "outputs": [],
   "source": [
    "def datetime(data,column):\n",
    "    \"\"\"Принимает датасет и столбец, меняет тип данных на datetime, выводит на экран общую информацию по датасету\"\"\"\n",
    "    data[column] = pd.to_datetime(data[column])\n",
    "    print(data.info())"
   ]
  },
  {
   "cell_type": "code",
   "execution_count": 83,
   "metadata": {},
   "outputs": [
    {
     "name": "stdout",
     "output_type": "stream",
     "text": [
      "<class 'pandas.core.frame.DataFrame'>\n",
      "RangeIndex: 14 entries, 0 to 13\n",
      "Data columns (total 4 columns):\n",
      " #   Column     Non-Null Count  Dtype         \n",
      "---  ------     --------------  -----         \n",
      " 0   name       14 non-null     object        \n",
      " 1   regions    14 non-null     object        \n",
      " 2   start_dt   14 non-null     datetime64[ns]\n",
      " 3   finish_dt  14 non-null     object        \n",
      "dtypes: datetime64[ns](1), object(3)\n",
      "memory usage: 576.0+ bytes\n",
      "None\n",
      "<class 'pandas.core.frame.DataFrame'>\n",
      "RangeIndex: 14 entries, 0 to 13\n",
      "Data columns (total 4 columns):\n",
      " #   Column     Non-Null Count  Dtype         \n",
      "---  ------     --------------  -----         \n",
      " 0   name       14 non-null     object        \n",
      " 1   regions    14 non-null     object        \n",
      " 2   start_dt   14 non-null     datetime64[ns]\n",
      " 3   finish_dt  14 non-null     datetime64[ns]\n",
      "dtypes: datetime64[ns](2), object(2)\n",
      "memory usage: 576.0+ bytes\n",
      "None\n",
      "<class 'pandas.core.frame.DataFrame'>\n",
      "RangeIndex: 61733 entries, 0 to 61732\n",
      "Data columns (total 4 columns):\n",
      " #   Column      Non-Null Count  Dtype         \n",
      "---  ------      --------------  -----         \n",
      " 0   user_id     61733 non-null  object        \n",
      " 1   first_date  61733 non-null  datetime64[ns]\n",
      " 2   region      61733 non-null  object        \n",
      " 3   device      61733 non-null  object        \n",
      "dtypes: datetime64[ns](1), object(3)\n",
      "memory usage: 1.9+ MB\n",
      "None\n",
      "<class 'pandas.core.frame.DataFrame'>\n",
      "RangeIndex: 440317 entries, 0 to 440316\n",
      "Data columns (total 4 columns):\n",
      " #   Column      Non-Null Count   Dtype         \n",
      "---  ------      --------------   -----         \n",
      " 0   user_id     440317 non-null  object        \n",
      " 1   event_dt    440317 non-null  datetime64[ns]\n",
      " 2   event_name  440317 non-null  object        \n",
      " 3   details     62740 non-null   float64       \n",
      "dtypes: datetime64[ns](1), float64(1), object(2)\n",
      "memory usage: 13.4+ MB\n",
      "None\n"
     ]
    }
   ],
   "source": [
    "datetime(marketing_events,'start_dt')\n",
    "datetime(marketing_events,'finish_dt')\n",
    "datetime(new_users,'first_date')\n",
    "datetime(ab_events,'event_dt')"
   ]
  },
  {
   "cell_type": "code",
   "execution_count": 84,
   "metadata": {},
   "outputs": [
    {
     "data": {
      "text/html": [
       "<div>\n",
       "<style scoped>\n",
       "    .dataframe tbody tr th:only-of-type {\n",
       "        vertical-align: middle;\n",
       "    }\n",
       "\n",
       "    .dataframe tbody tr th {\n",
       "        vertical-align: top;\n",
       "    }\n",
       "\n",
       "    .dataframe thead th {\n",
       "        text-align: right;\n",
       "    }\n",
       "</style>\n",
       "<table border=\"1\" class=\"dataframe\">\n",
       "  <thead>\n",
       "    <tr style=\"text-align: right;\">\n",
       "      <th></th>\n",
       "      <th>name</th>\n",
       "      <th>regions</th>\n",
       "      <th>start_dt</th>\n",
       "      <th>finish_dt</th>\n",
       "    </tr>\n",
       "  </thead>\n",
       "  <tbody>\n",
       "    <tr>\n",
       "      <th>6</th>\n",
       "      <td>Chinese New Year Promo</td>\n",
       "      <td>APAC</td>\n",
       "      <td>2020-01-25</td>\n",
       "      <td>2020-02-07</td>\n",
       "    </tr>\n",
       "    <tr>\n",
       "      <th>1</th>\n",
       "      <td>St. Valentine's Day Giveaway</td>\n",
       "      <td>EU, CIS, APAC, N.America</td>\n",
       "      <td>2020-02-14</td>\n",
       "      <td>2020-02-16</td>\n",
       "    </tr>\n",
       "    <tr>\n",
       "      <th>8</th>\n",
       "      <td>International Women's Day Promo</td>\n",
       "      <td>EU, CIS, APAC</td>\n",
       "      <td>2020-03-08</td>\n",
       "      <td>2020-03-10</td>\n",
       "    </tr>\n",
       "    <tr>\n",
       "      <th>2</th>\n",
       "      <td>St. Patric's Day Promo</td>\n",
       "      <td>EU, N.America</td>\n",
       "      <td>2020-03-17</td>\n",
       "      <td>2020-03-19</td>\n",
       "    </tr>\n",
       "    <tr>\n",
       "      <th>3</th>\n",
       "      <td>Easter Promo</td>\n",
       "      <td>EU, CIS, APAC, N.America</td>\n",
       "      <td>2020-04-12</td>\n",
       "      <td>2020-04-19</td>\n",
       "    </tr>\n",
       "    <tr>\n",
       "      <th>7</th>\n",
       "      <td>Labor day (May 1st) Ads Campaign</td>\n",
       "      <td>EU, CIS, APAC</td>\n",
       "      <td>2020-05-01</td>\n",
       "      <td>2020-05-03</td>\n",
       "    </tr>\n",
       "    <tr>\n",
       "      <th>9</th>\n",
       "      <td>Victory Day CIS (May 9th) Event</td>\n",
       "      <td>CIS</td>\n",
       "      <td>2020-05-09</td>\n",
       "      <td>2020-05-11</td>\n",
       "    </tr>\n",
       "    <tr>\n",
       "      <th>11</th>\n",
       "      <td>Dragon Boat Festival Giveaway</td>\n",
       "      <td>APAC</td>\n",
       "      <td>2020-06-25</td>\n",
       "      <td>2020-07-01</td>\n",
       "    </tr>\n",
       "    <tr>\n",
       "      <th>4</th>\n",
       "      <td>4th of July Promo</td>\n",
       "      <td>N.America</td>\n",
       "      <td>2020-07-04</td>\n",
       "      <td>2020-07-11</td>\n",
       "    </tr>\n",
       "    <tr>\n",
       "      <th>13</th>\n",
       "      <td>Chinese Moon Festival</td>\n",
       "      <td>APAC</td>\n",
       "      <td>2020-10-01</td>\n",
       "      <td>2020-10-07</td>\n",
       "    </tr>\n",
       "    <tr>\n",
       "      <th>12</th>\n",
       "      <td>Single's Day Gift Promo</td>\n",
       "      <td>APAC</td>\n",
       "      <td>2020-11-11</td>\n",
       "      <td>2020-11-12</td>\n",
       "    </tr>\n",
       "    <tr>\n",
       "      <th>5</th>\n",
       "      <td>Black Friday Ads Campaign</td>\n",
       "      <td>EU, CIS, APAC, N.America</td>\n",
       "      <td>2020-11-26</td>\n",
       "      <td>2020-12-01</td>\n",
       "    </tr>\n",
       "    <tr>\n",
       "      <th>0</th>\n",
       "      <td>Christmas&amp;New Year Promo</td>\n",
       "      <td>EU, N.America</td>\n",
       "      <td>2020-12-25</td>\n",
       "      <td>2021-01-03</td>\n",
       "    </tr>\n",
       "    <tr>\n",
       "      <th>10</th>\n",
       "      <td>CIS New Year Gift Lottery</td>\n",
       "      <td>CIS</td>\n",
       "      <td>2020-12-30</td>\n",
       "      <td>2021-01-07</td>\n",
       "    </tr>\n",
       "  </tbody>\n",
       "</table>\n",
       "</div>"
      ],
      "text/plain": [
       "                                name                   regions   start_dt  \\\n",
       "6             Chinese New Year Promo                      APAC 2020-01-25   \n",
       "1       St. Valentine's Day Giveaway  EU, CIS, APAC, N.America 2020-02-14   \n",
       "8    International Women's Day Promo             EU, CIS, APAC 2020-03-08   \n",
       "2             St. Patric's Day Promo             EU, N.America 2020-03-17   \n",
       "3                       Easter Promo  EU, CIS, APAC, N.America 2020-04-12   \n",
       "7   Labor day (May 1st) Ads Campaign             EU, CIS, APAC 2020-05-01   \n",
       "9    Victory Day CIS (May 9th) Event                       CIS 2020-05-09   \n",
       "11     Dragon Boat Festival Giveaway                      APAC 2020-06-25   \n",
       "4                  4th of July Promo                 N.America 2020-07-04   \n",
       "13             Chinese Moon Festival                      APAC 2020-10-01   \n",
       "12           Single's Day Gift Promo                      APAC 2020-11-11   \n",
       "5          Black Friday Ads Campaign  EU, CIS, APAC, N.America 2020-11-26   \n",
       "0           Christmas&New Year Promo             EU, N.America 2020-12-25   \n",
       "10         CIS New Year Gift Lottery                       CIS 2020-12-30   \n",
       "\n",
       "    finish_dt  \n",
       "6  2020-02-07  \n",
       "1  2020-02-16  \n",
       "8  2020-03-10  \n",
       "2  2020-03-19  \n",
       "3  2020-04-19  \n",
       "7  2020-05-03  \n",
       "9  2020-05-11  \n",
       "11 2020-07-01  \n",
       "4  2020-07-11  \n",
       "13 2020-10-07  \n",
       "12 2020-11-12  \n",
       "5  2020-12-01  \n",
       "0  2021-01-03  \n",
       "10 2021-01-07  "
      ]
     },
     "execution_count": 84,
     "metadata": {},
     "output_type": "execute_result"
    }
   ],
   "source": [
    "marketing_events.sort_values('start_dt') # проверяем пересечение аб теста с календарем маркетинговых активностей\n"
   ]
  },
  {
   "cell_type": "code",
   "execution_count": 85,
   "metadata": {},
   "outputs": [
    {
     "name": "stdout",
     "output_type": "stream",
     "text": [
      "Минимальное время события: 2020-12-07 00:00:33\n",
      "Максимальное время события: 2020-12-30 23:36:33\n"
     ]
    }
   ],
   "source": [
    "print('Минимальное время события:',ab_events['event_dt'].min())\n",
    "print('Максимальное время события:',ab_events['event_dt'].max())"
   ]
  },
  {
   "cell_type": "markdown",
   "metadata": {},
   "source": [
    "События заканчиваются 30.12.2020. Если сегодня, 31.12.2020, то события для тестирования еще нужно дособрать. Если сегодня 8 января 2021, то не собраны события за 5 дней тестирования, либо по какой-то причине они не попали в датасет для анализа. "
   ]
  },
  {
   "cell_type": "code",
   "execution_count": 86,
   "metadata": {},
   "outputs": [
    {
     "name": "stdout",
     "output_type": "stream",
     "text": [
      "Минимальное время события: 2020-12-07 00:00:00\n",
      "Максимальное время события: 2020-12-23 00:00:00\n"
     ]
    }
   ],
   "source": [
    "print('Минимальное время события:',new_users['first_date'].min())\n",
    "print('Максимальное время события:',new_users['first_date'].max())"
   ]
  },
  {
   "cell_type": "markdown",
   "metadata": {},
   "source": [
    "Данные о регистрациях содержат действия за 22 и 23 декабря. Так как, по техническому заданию, регистрации должны закончиться 21.12., удалим более поздние регистрации и регистрации, с момента которыйх не прошло 2 недель."
   ]
  },
  {
   "cell_type": "code",
   "execution_count": 87,
   "metadata": {},
   "outputs": [
    {
     "name": "stdout",
     "output_type": "stream",
     "text": [
      "Максимальное время регистрации: 2020-12-16 00:00:00\n"
     ]
    }
   ],
   "source": [
    "new_users = new_users.query('first_date <= \"2020-12-16 00:00:00\"')\n",
    "print('Максимальное время регистрации:',new_users['first_date'].max())"
   ]
  },
  {
   "cell_type": "code",
   "execution_count": 89,
   "metadata": {},
   "outputs": [],
   "source": [
    "participants_with_userinfo = pd.merge(cleaned_participants, new_users, on='user_id', how='left')"
   ]
  },
  {
   "cell_type": "code",
   "execution_count": 90,
   "metadata": {},
   "outputs": [],
   "source": [
    "enriched_events = pd.merge(participants_with_userinfo, ab_events, on='user_id', how='left')"
   ]
  },
  {
   "cell_type": "code",
   "execution_count": 91,
   "metadata": {},
   "outputs": [
    {
     "data": {
      "text/html": [
       "<div>\n",
       "<style scoped>\n",
       "    .dataframe tbody tr th:only-of-type {\n",
       "        vertical-align: middle;\n",
       "    }\n",
       "\n",
       "    .dataframe tbody tr th {\n",
       "        vertical-align: top;\n",
       "    }\n",
       "\n",
       "    .dataframe thead th {\n",
       "        text-align: right;\n",
       "    }\n",
       "</style>\n",
       "<table border=\"1\" class=\"dataframe\">\n",
       "  <thead>\n",
       "    <tr style=\"text-align: right;\">\n",
       "      <th></th>\n",
       "      <th>user_id</th>\n",
       "      <th>group</th>\n",
       "      <th>ab_test</th>\n",
       "      <th>first_date</th>\n",
       "      <th>region</th>\n",
       "      <th>device</th>\n",
       "      <th>event_dt</th>\n",
       "      <th>event_name</th>\n",
       "      <th>details</th>\n",
       "    </tr>\n",
       "  </thead>\n",
       "  <tbody>\n",
       "    <tr>\n",
       "      <th>0</th>\n",
       "      <td>D1ABA3E2887B6A73</td>\n",
       "      <td>A</td>\n",
       "      <td>recommender_system_test</td>\n",
       "      <td>2020-12-07</td>\n",
       "      <td>EU</td>\n",
       "      <td>PC</td>\n",
       "      <td>2020-12-07 14:43:27</td>\n",
       "      <td>purchase</td>\n",
       "      <td>99.990</td>\n",
       "    </tr>\n",
       "    <tr>\n",
       "      <th>1</th>\n",
       "      <td>D1ABA3E2887B6A73</td>\n",
       "      <td>A</td>\n",
       "      <td>recommender_system_test</td>\n",
       "      <td>2020-12-07</td>\n",
       "      <td>EU</td>\n",
       "      <td>PC</td>\n",
       "      <td>2020-12-25 00:04:56</td>\n",
       "      <td>purchase</td>\n",
       "      <td>4.990</td>\n",
       "    </tr>\n",
       "    <tr>\n",
       "      <th>2</th>\n",
       "      <td>D1ABA3E2887B6A73</td>\n",
       "      <td>A</td>\n",
       "      <td>recommender_system_test</td>\n",
       "      <td>2020-12-07</td>\n",
       "      <td>EU</td>\n",
       "      <td>PC</td>\n",
       "      <td>2020-12-07 14:43:29</td>\n",
       "      <td>product_cart</td>\n",
       "      <td>nan</td>\n",
       "    </tr>\n",
       "    <tr>\n",
       "      <th>3</th>\n",
       "      <td>D1ABA3E2887B6A73</td>\n",
       "      <td>A</td>\n",
       "      <td>recommender_system_test</td>\n",
       "      <td>2020-12-07</td>\n",
       "      <td>EU</td>\n",
       "      <td>PC</td>\n",
       "      <td>2020-12-25 00:04:57</td>\n",
       "      <td>product_cart</td>\n",
       "      <td>nan</td>\n",
       "    </tr>\n",
       "    <tr>\n",
       "      <th>4</th>\n",
       "      <td>D1ABA3E2887B6A73</td>\n",
       "      <td>A</td>\n",
       "      <td>recommender_system_test</td>\n",
       "      <td>2020-12-07</td>\n",
       "      <td>EU</td>\n",
       "      <td>PC</td>\n",
       "      <td>2020-12-07 14:43:27</td>\n",
       "      <td>product_page</td>\n",
       "      <td>nan</td>\n",
       "    </tr>\n",
       "    <tr>\n",
       "      <th>...</th>\n",
       "      <td>...</td>\n",
       "      <td>...</td>\n",
       "      <td>...</td>\n",
       "      <td>...</td>\n",
       "      <td>...</td>\n",
       "      <td>...</td>\n",
       "      <td>...</td>\n",
       "      <td>...</td>\n",
       "      <td>...</td>\n",
       "    </tr>\n",
       "    <tr>\n",
       "      <th>21110</th>\n",
       "      <td>6715343AFBA285AE</td>\n",
       "      <td>B</td>\n",
       "      <td>recommender_system_test</td>\n",
       "      <td>2020-12-07</td>\n",
       "      <td>CIS</td>\n",
       "      <td>Android</td>\n",
       "      <td>2020-12-07 10:12:15</td>\n",
       "      <td>login</td>\n",
       "      <td>nan</td>\n",
       "    </tr>\n",
       "    <tr>\n",
       "      <th>21111</th>\n",
       "      <td>6715343AFBA285AE</td>\n",
       "      <td>B</td>\n",
       "      <td>recommender_system_test</td>\n",
       "      <td>2020-12-07</td>\n",
       "      <td>CIS</td>\n",
       "      <td>Android</td>\n",
       "      <td>2020-12-08 22:51:16</td>\n",
       "      <td>login</td>\n",
       "      <td>nan</td>\n",
       "    </tr>\n",
       "    <tr>\n",
       "      <th>21112</th>\n",
       "      <td>6715343AFBA285AE</td>\n",
       "      <td>B</td>\n",
       "      <td>recommender_system_test</td>\n",
       "      <td>2020-12-07</td>\n",
       "      <td>CIS</td>\n",
       "      <td>Android</td>\n",
       "      <td>2020-12-09 02:28:03</td>\n",
       "      <td>login</td>\n",
       "      <td>nan</td>\n",
       "    </tr>\n",
       "    <tr>\n",
       "      <th>21113</th>\n",
       "      <td>6715343AFBA285AE</td>\n",
       "      <td>B</td>\n",
       "      <td>recommender_system_test</td>\n",
       "      <td>2020-12-07</td>\n",
       "      <td>CIS</td>\n",
       "      <td>Android</td>\n",
       "      <td>2020-12-10 22:55:14</td>\n",
       "      <td>login</td>\n",
       "      <td>nan</td>\n",
       "    </tr>\n",
       "    <tr>\n",
       "      <th>21114</th>\n",
       "      <td>6715343AFBA285AE</td>\n",
       "      <td>B</td>\n",
       "      <td>recommender_system_test</td>\n",
       "      <td>2020-12-07</td>\n",
       "      <td>CIS</td>\n",
       "      <td>Android</td>\n",
       "      <td>2020-12-14 12:40:41</td>\n",
       "      <td>login</td>\n",
       "      <td>nan</td>\n",
       "    </tr>\n",
       "  </tbody>\n",
       "</table>\n",
       "<p>21115 rows × 9 columns</p>\n",
       "</div>"
      ],
      "text/plain": [
       "                user_id group                  ab_test first_date region  \\\n",
       "0      D1ABA3E2887B6A73     A  recommender_system_test 2020-12-07     EU   \n",
       "1      D1ABA3E2887B6A73     A  recommender_system_test 2020-12-07     EU   \n",
       "2      D1ABA3E2887B6A73     A  recommender_system_test 2020-12-07     EU   \n",
       "3      D1ABA3E2887B6A73     A  recommender_system_test 2020-12-07     EU   \n",
       "4      D1ABA3E2887B6A73     A  recommender_system_test 2020-12-07     EU   \n",
       "...                 ...   ...                      ...        ...    ...   \n",
       "21110  6715343AFBA285AE     B  recommender_system_test 2020-12-07    CIS   \n",
       "21111  6715343AFBA285AE     B  recommender_system_test 2020-12-07    CIS   \n",
       "21112  6715343AFBA285AE     B  recommender_system_test 2020-12-07    CIS   \n",
       "21113  6715343AFBA285AE     B  recommender_system_test 2020-12-07    CIS   \n",
       "21114  6715343AFBA285AE     B  recommender_system_test 2020-12-07    CIS   \n",
       "\n",
       "        device            event_dt    event_name  details  \n",
       "0           PC 2020-12-07 14:43:27      purchase   99.990  \n",
       "1           PC 2020-12-25 00:04:56      purchase    4.990  \n",
       "2           PC 2020-12-07 14:43:29  product_cart      nan  \n",
       "3           PC 2020-12-25 00:04:57  product_cart      nan  \n",
       "4           PC 2020-12-07 14:43:27  product_page      nan  \n",
       "...        ...                 ...           ...      ...  \n",
       "21110  Android 2020-12-07 10:12:15         login      nan  \n",
       "21111  Android 2020-12-08 22:51:16         login      nan  \n",
       "21112  Android 2020-12-09 02:28:03         login      nan  \n",
       "21113  Android 2020-12-10 22:55:14         login      nan  \n",
       "21114  Android 2020-12-14 12:40:41         login      nan  \n",
       "\n",
       "[21115 rows x 9 columns]"
      ]
     },
     "execution_count": 91,
     "metadata": {},
     "output_type": "execute_result"
    }
   ],
   "source": [
    "enriched_events"
   ]
  },
  {
   "cell_type": "code",
   "execution_count": 92,
   "metadata": {},
   "outputs": [
    {
     "data": {
      "text/plain": [
       "user_id      1.680\n",
       "group        1.680\n",
       "ab_test      1.680\n",
       "first_date   1.075\n",
       "region       1.075\n",
       "device       1.075\n",
       "dtype: float64"
      ]
     },
     "execution_count": 92,
     "metadata": {},
     "output_type": "execute_result"
    }
   ],
   "source": [
    "participants_with_userinfo.count()/participants_with_userinfo.query('region == \"EU\"').count()"
   ]
  },
  {
   "cell_type": "code",
   "execution_count": 93,
   "metadata": {},
   "outputs": [
    {
     "data": {
      "text/plain": [
       "5099"
      ]
     },
     "execution_count": 93,
     "metadata": {},
     "output_type": "execute_result"
    }
   ],
   "source": [
    "len(enriched_events['user_id'].unique())"
   ]
  },
  {
   "cell_type": "markdown",
   "metadata": {},
   "source": [
    "# Вывод по шагу \"предподготовка данных\""
   ]
  },
  {
   "cell_type": "markdown",
   "metadata": {},
   "source": [
    "Изучив данные и техническое задание, обнаружены следующие критические моменты, ставящие под вопрос целенаправленность дальнейших действий по анализу теста в поставленных условиях.\n",
    "1.     Время проведения теста. Совпадает с 2 маркетинговыми активностями и 1 в интересующем нас регионе (EU);\n",
    "2.     Аудитория теста. В предоставленных данных найдены пересечения с конкурирующим тестом. Тестовые группы распределены неравномерно.\n",
    "3. Данные собраны не зна весь период теста.\n",
    "Данный тест логичнее перенести на вторую половину января (если нас не интересует аудитория Китая). Т.к. в новогодние праздники покупательская активность сильно меняется. "
   ]
  },
  {
   "cell_type": "markdown",
   "metadata": {},
   "source": [
    "# Исследовательский анализ данных"
   ]
  },
  {
   "cell_type": "code",
   "execution_count": 94,
   "metadata": {},
   "outputs": [
    {
     "data": {
      "text/plain": [
       "purchase        2483\n",
       "product_cart    2522\n",
       "product_page    5298\n",
       "login           8501\n",
       "Name: event_name, dtype: int64"
      ]
     },
     "execution_count": 94,
     "metadata": {},
     "output_type": "execute_result"
    }
   ],
   "source": [
    "enriched_events['event_name'].value_counts().sort_values()"
   ]
  },
  {
   "cell_type": "markdown",
   "metadata": {},
   "source": [
    "Судя по количеству событий, чаще всего, что логично, пользователь авторизируется на сайте (login). Далее, в идевльном мире, переходит на страницу с оффером (product_page), добавляет товар в корзину (product_cart) и оплачивает покупку (purchase)."
   ]
  },
  {
   "cell_type": "code",
   "execution_count": 95,
   "metadata": {},
   "outputs": [
    {
     "name": "stdout",
     "output_type": "stream",
     "text": [
      "Количество и доля уникальных пользователей, совершивших каждое событие\n",
      "     event_name group  user_id  percent\n",
      "0         login     A     2082   40.832\n",
      "1  product_page     A     1360   26.672\n",
      "2         login     B      706   13.846\n",
      "3      purchase     A      652   12.787\n",
      "4  product_cart     A      631   12.375\n",
      "5  product_page     B      397    7.786\n",
      "6      purchase     B      198    3.883\n",
      "7  product_cart     B      195    3.824\n"
     ]
    }
   ],
   "source": [
    "print('Количество и доля уникальных пользователей, совершивших каждое событие')\n",
    "uid_count = enriched_events.groupby(['event_name','group']).agg({'user_id':'nunique'}).\\\n",
    "sort_values(by='user_id',ascending=False).reset_index()\n",
    "uid_count['percent'] = uid_count['user_id'] / 5099 * 100\n",
    "print(uid_count)"
   ]
  },
  {
   "cell_type": "markdown",
   "metadata": {},
   "source": [
    "Выборки имеют одинаковое количество типов событий. При этом, очевидно, что уже на этапе авторизации, участники группы А более активны, как и в последующих этапах. Из 2196 зарегистрировавшихся пользователей группы В, авторизовались только 706. В группе А 2082 из 2903. Стоит дополнительно разобрать природу регистраций пользователей из группы В. Также, важно, отметить, что за период каждый пользователь авторизовывался около 4 раз. Остальные действия, также, совершаются чаще 1 раза. Возможно, данные предоставлены в разрезе каждого товара, а не общей покупки."
   ]
  },
  {
   "cell_type": "code",
   "execution_count": 96,
   "metadata": {},
   "outputs": [],
   "source": [
    "events_by_day = enriched_events.pivot_table(index = [enriched_events.event_dt.dt.date,'group'], \n",
    "                                        columns = 'event_name', values='user_id', aggfunc = 'count')#.reset_index()"
   ]
  },
  {
   "cell_type": "code",
   "execution_count": 97,
   "metadata": {},
   "outputs": [
    {
     "data": {
      "text/html": [
       "<div>\n",
       "<style scoped>\n",
       "    .dataframe tbody tr th:only-of-type {\n",
       "        vertical-align: middle;\n",
       "    }\n",
       "\n",
       "    .dataframe tbody tr th {\n",
       "        vertical-align: top;\n",
       "    }\n",
       "\n",
       "    .dataframe thead th {\n",
       "        text-align: right;\n",
       "    }\n",
       "</style>\n",
       "<table border=\"1\" class=\"dataframe\">\n",
       "  <thead>\n",
       "    <tr style=\"text-align: right;\">\n",
       "      <th></th>\n",
       "      <th>event_name</th>\n",
       "      <th>login</th>\n",
       "      <th>product_cart</th>\n",
       "      <th>product_page</th>\n",
       "      <th>purchase</th>\n",
       "    </tr>\n",
       "    <tr>\n",
       "      <th>event_dt</th>\n",
       "      <th>group</th>\n",
       "      <th></th>\n",
       "      <th></th>\n",
       "      <th></th>\n",
       "      <th></th>\n",
       "    </tr>\n",
       "  </thead>\n",
       "  <tbody>\n",
       "    <tr>\n",
       "      <th rowspan=\"2\" valign=\"top\">2020-12-07</th>\n",
       "      <th>A</th>\n",
       "      <td>109.000</td>\n",
       "      <td>25.000</td>\n",
       "      <td>70.000</td>\n",
       "      <td>30.000</td>\n",
       "    </tr>\n",
       "    <tr>\n",
       "      <th>B</th>\n",
       "      <td>124.000</td>\n",
       "      <td>36.000</td>\n",
       "      <td>83.000</td>\n",
       "      <td>47.000</td>\n",
       "    </tr>\n",
       "    <tr>\n",
       "      <th rowspan=\"2\" valign=\"top\">2020-12-08</th>\n",
       "      <th>A</th>\n",
       "      <td>121.000</td>\n",
       "      <td>30.000</td>\n",
       "      <td>86.000</td>\n",
       "      <td>30.000</td>\n",
       "    </tr>\n",
       "    <tr>\n",
       "      <th>B</th>\n",
       "      <td>87.000</td>\n",
       "      <td>26.000</td>\n",
       "      <td>44.000</td>\n",
       "      <td>26.000</td>\n",
       "    </tr>\n",
       "    <tr>\n",
       "      <th rowspan=\"2\" valign=\"top\">2020-12-09</th>\n",
       "      <th>A</th>\n",
       "      <td>135.000</td>\n",
       "      <td>35.000</td>\n",
       "      <td>83.000</td>\n",
       "      <td>43.000</td>\n",
       "    </tr>\n",
       "    <tr>\n",
       "      <th>B</th>\n",
       "      <td>128.000</td>\n",
       "      <td>36.000</td>\n",
       "      <td>81.000</td>\n",
       "      <td>28.000</td>\n",
       "    </tr>\n",
       "    <tr>\n",
       "      <th rowspan=\"2\" valign=\"top\">2020-12-10</th>\n",
       "      <th>A</th>\n",
       "      <td>122.000</td>\n",
       "      <td>33.000</td>\n",
       "      <td>72.000</td>\n",
       "      <td>38.000</td>\n",
       "    </tr>\n",
       "    <tr>\n",
       "      <th>B</th>\n",
       "      <td>96.000</td>\n",
       "      <td>29.000</td>\n",
       "      <td>51.000</td>\n",
       "      <td>20.000</td>\n",
       "    </tr>\n",
       "    <tr>\n",
       "      <th rowspan=\"2\" valign=\"top\">2020-12-11</th>\n",
       "      <th>A</th>\n",
       "      <td>137.000</td>\n",
       "      <td>35.000</td>\n",
       "      <td>77.000</td>\n",
       "      <td>33.000</td>\n",
       "    </tr>\n",
       "    <tr>\n",
       "      <th>B</th>\n",
       "      <td>64.000</td>\n",
       "      <td>16.000</td>\n",
       "      <td>31.000</td>\n",
       "      <td>11.000</td>\n",
       "    </tr>\n",
       "    <tr>\n",
       "      <th rowspan=\"2\" valign=\"top\">2020-12-12</th>\n",
       "      <th>A</th>\n",
       "      <td>134.000</td>\n",
       "      <td>40.000</td>\n",
       "      <td>79.000</td>\n",
       "      <td>29.000</td>\n",
       "    </tr>\n",
       "    <tr>\n",
       "      <th>B</th>\n",
       "      <td>79.000</td>\n",
       "      <td>14.000</td>\n",
       "      <td>39.000</td>\n",
       "      <td>22.000</td>\n",
       "    </tr>\n",
       "    <tr>\n",
       "      <th rowspan=\"2\" valign=\"top\">2020-12-13</th>\n",
       "      <th>A</th>\n",
       "      <td>126.000</td>\n",
       "      <td>29.000</td>\n",
       "      <td>73.000</td>\n",
       "      <td>25.000</td>\n",
       "    </tr>\n",
       "    <tr>\n",
       "      <th>B</th>\n",
       "      <td>60.000</td>\n",
       "      <td>12.000</td>\n",
       "      <td>26.000</td>\n",
       "      <td>17.000</td>\n",
       "    </tr>\n",
       "    <tr>\n",
       "      <th rowspan=\"2\" valign=\"top\">2020-12-14</th>\n",
       "      <th>A</th>\n",
       "      <td>366.000</td>\n",
       "      <td>114.000</td>\n",
       "      <td>239.000</td>\n",
       "      <td>104.000</td>\n",
       "    </tr>\n",
       "    <tr>\n",
       "      <th>B</th>\n",
       "      <td>106.000</td>\n",
       "      <td>31.000</td>\n",
       "      <td>52.000</td>\n",
       "      <td>28.000</td>\n",
       "    </tr>\n",
       "    <tr>\n",
       "      <th rowspan=\"2\" valign=\"top\">2020-12-15</th>\n",
       "      <th>A</th>\n",
       "      <td>361.000</td>\n",
       "      <td>127.000</td>\n",
       "      <td>237.000</td>\n",
       "      <td>109.000</td>\n",
       "    </tr>\n",
       "    <tr>\n",
       "      <th>B</th>\n",
       "      <td>89.000</td>\n",
       "      <td>24.000</td>\n",
       "      <td>41.000</td>\n",
       "      <td>20.000</td>\n",
       "    </tr>\n",
       "    <tr>\n",
       "      <th rowspan=\"2\" valign=\"top\">2020-12-16</th>\n",
       "      <th>A</th>\n",
       "      <td>356.000</td>\n",
       "      <td>115.000</td>\n",
       "      <td>226.000</td>\n",
       "      <td>113.000</td>\n",
       "    </tr>\n",
       "    <tr>\n",
       "      <th>B</th>\n",
       "      <td>130.000</td>\n",
       "      <td>45.000</td>\n",
       "      <td>80.000</td>\n",
       "      <td>36.000</td>\n",
       "    </tr>\n",
       "    <tr>\n",
       "      <th rowspan=\"2\" valign=\"top\">2020-12-17</th>\n",
       "      <th>A</th>\n",
       "      <td>402.000</td>\n",
       "      <td>141.000</td>\n",
       "      <td>264.000</td>\n",
       "      <td>120.000</td>\n",
       "    </tr>\n",
       "    <tr>\n",
       "      <th>B</th>\n",
       "      <td>97.000</td>\n",
       "      <td>37.000</td>\n",
       "      <td>53.000</td>\n",
       "      <td>22.000</td>\n",
       "    </tr>\n",
       "    <tr>\n",
       "      <th rowspan=\"2\" valign=\"top\">2020-12-18</th>\n",
       "      <th>A</th>\n",
       "      <td>429.000</td>\n",
       "      <td>134.000</td>\n",
       "      <td>293.000</td>\n",
       "      <td>120.000</td>\n",
       "    </tr>\n",
       "    <tr>\n",
       "      <th>B</th>\n",
       "      <td>106.000</td>\n",
       "      <td>35.000</td>\n",
       "      <td>48.000</td>\n",
       "      <td>24.000</td>\n",
       "    </tr>\n",
       "    <tr>\n",
       "      <th rowspan=\"2\" valign=\"top\">2020-12-19</th>\n",
       "      <th>A</th>\n",
       "      <td>506.000</td>\n",
       "      <td>174.000</td>\n",
       "      <td>339.000</td>\n",
       "      <td>161.000</td>\n",
       "    </tr>\n",
       "    <tr>\n",
       "      <th>B</th>\n",
       "      <td>112.000</td>\n",
       "      <td>33.000</td>\n",
       "      <td>60.000</td>\n",
       "      <td>23.000</td>\n",
       "    </tr>\n",
       "    <tr>\n",
       "      <th rowspan=\"2\" valign=\"top\">2020-12-20</th>\n",
       "      <th>A</th>\n",
       "      <td>521.000</td>\n",
       "      <td>170.000</td>\n",
       "      <td>331.000</td>\n",
       "      <td>171.000</td>\n",
       "    </tr>\n",
       "    <tr>\n",
       "      <th>B</th>\n",
       "      <td>125.000</td>\n",
       "      <td>27.000</td>\n",
       "      <td>67.000</td>\n",
       "      <td>30.000</td>\n",
       "    </tr>\n",
       "    <tr>\n",
       "      <th rowspan=\"2\" valign=\"top\">2020-12-21</th>\n",
       "      <th>A</th>\n",
       "      <td>683.000</td>\n",
       "      <td>191.000</td>\n",
       "      <td>453.000</td>\n",
       "      <td>223.000</td>\n",
       "    </tr>\n",
       "    <tr>\n",
       "      <th>B</th>\n",
       "      <td>157.000</td>\n",
       "      <td>45.000</td>\n",
       "      <td>86.000</td>\n",
       "      <td>49.000</td>\n",
       "    </tr>\n",
       "    <tr>\n",
       "      <th rowspan=\"2\" valign=\"top\">2020-12-22</th>\n",
       "      <th>A</th>\n",
       "      <td>461.000</td>\n",
       "      <td>137.000</td>\n",
       "      <td>298.000</td>\n",
       "      <td>137.000</td>\n",
       "    </tr>\n",
       "    <tr>\n",
       "      <th>B</th>\n",
       "      <td>72.000</td>\n",
       "      <td>12.000</td>\n",
       "      <td>34.000</td>\n",
       "      <td>24.000</td>\n",
       "    </tr>\n",
       "    <tr>\n",
       "      <th rowspan=\"2\" valign=\"top\">2020-12-23</th>\n",
       "      <th>A</th>\n",
       "      <td>349.000</td>\n",
       "      <td>98.000</td>\n",
       "      <td>220.000</td>\n",
       "      <td>95.000</td>\n",
       "    </tr>\n",
       "    <tr>\n",
       "      <th>B</th>\n",
       "      <td>81.000</td>\n",
       "      <td>17.000</td>\n",
       "      <td>36.000</td>\n",
       "      <td>21.000</td>\n",
       "    </tr>\n",
       "    <tr>\n",
       "      <th rowspan=\"2\" valign=\"top\">2020-12-24</th>\n",
       "      <th>A</th>\n",
       "      <td>288.000</td>\n",
       "      <td>87.000</td>\n",
       "      <td>197.000</td>\n",
       "      <td>96.000</td>\n",
       "    </tr>\n",
       "    <tr>\n",
       "      <th>B</th>\n",
       "      <td>56.000</td>\n",
       "      <td>18.000</td>\n",
       "      <td>28.000</td>\n",
       "      <td>15.000</td>\n",
       "    </tr>\n",
       "    <tr>\n",
       "      <th rowspan=\"2\" valign=\"top\">2020-12-25</th>\n",
       "      <th>A</th>\n",
       "      <td>223.000</td>\n",
       "      <td>56.000</td>\n",
       "      <td>159.000</td>\n",
       "      <td>84.000</td>\n",
       "    </tr>\n",
       "    <tr>\n",
       "      <th>B</th>\n",
       "      <td>45.000</td>\n",
       "      <td>9.000</td>\n",
       "      <td>25.000</td>\n",
       "      <td>9.000</td>\n",
       "    </tr>\n",
       "    <tr>\n",
       "      <th rowspan=\"2\" valign=\"top\">2020-12-26</th>\n",
       "      <th>A</th>\n",
       "      <td>195.000</td>\n",
       "      <td>59.000</td>\n",
       "      <td>121.000</td>\n",
       "      <td>68.000</td>\n",
       "    </tr>\n",
       "    <tr>\n",
       "      <th>B</th>\n",
       "      <td>45.000</td>\n",
       "      <td>9.000</td>\n",
       "      <td>26.000</td>\n",
       "      <td>8.000</td>\n",
       "    </tr>\n",
       "    <tr>\n",
       "      <th rowspan=\"2\" valign=\"top\">2020-12-27</th>\n",
       "      <th>A</th>\n",
       "      <td>194.000</td>\n",
       "      <td>63.000</td>\n",
       "      <td>128.000</td>\n",
       "      <td>61.000</td>\n",
       "    </tr>\n",
       "    <tr>\n",
       "      <th>B</th>\n",
       "      <td>48.000</td>\n",
       "      <td>12.000</td>\n",
       "      <td>22.000</td>\n",
       "      <td>15.000</td>\n",
       "    </tr>\n",
       "    <tr>\n",
       "      <th rowspan=\"2\" valign=\"top\">2020-12-28</th>\n",
       "      <th>A</th>\n",
       "      <td>154.000</td>\n",
       "      <td>52.000</td>\n",
       "      <td>101.000</td>\n",
       "      <td>45.000</td>\n",
       "    </tr>\n",
       "    <tr>\n",
       "      <th>B</th>\n",
       "      <td>39.000</td>\n",
       "      <td>5.000</td>\n",
       "      <td>21.000</td>\n",
       "      <td>7.000</td>\n",
       "    </tr>\n",
       "    <tr>\n",
       "      <th rowspan=\"2\" valign=\"top\">2020-12-29</th>\n",
       "      <th>A</th>\n",
       "      <td>153.000</td>\n",
       "      <td>44.000</td>\n",
       "      <td>104.000</td>\n",
       "      <td>38.000</td>\n",
       "    </tr>\n",
       "    <tr>\n",
       "      <th>B</th>\n",
       "      <td>29.000</td>\n",
       "      <td>4.000</td>\n",
       "      <td>14.000</td>\n",
       "      <td>8.000</td>\n",
       "    </tr>\n",
       "    <tr>\n",
       "      <th>2020-12-30</th>\n",
       "      <th>B</th>\n",
       "      <td>1.000</td>\n",
       "      <td>1.000</td>\n",
       "      <td>nan</td>\n",
       "      <td>nan</td>\n",
       "    </tr>\n",
       "  </tbody>\n",
       "</table>\n",
       "</div>"
      ],
      "text/plain": [
       "event_name         login  product_cart  product_page  purchase\n",
       "event_dt   group                                              \n",
       "2020-12-07 A     109.000        25.000        70.000    30.000\n",
       "           B     124.000        36.000        83.000    47.000\n",
       "2020-12-08 A     121.000        30.000        86.000    30.000\n",
       "           B      87.000        26.000        44.000    26.000\n",
       "2020-12-09 A     135.000        35.000        83.000    43.000\n",
       "           B     128.000        36.000        81.000    28.000\n",
       "2020-12-10 A     122.000        33.000        72.000    38.000\n",
       "           B      96.000        29.000        51.000    20.000\n",
       "2020-12-11 A     137.000        35.000        77.000    33.000\n",
       "           B      64.000        16.000        31.000    11.000\n",
       "2020-12-12 A     134.000        40.000        79.000    29.000\n",
       "           B      79.000        14.000        39.000    22.000\n",
       "2020-12-13 A     126.000        29.000        73.000    25.000\n",
       "           B      60.000        12.000        26.000    17.000\n",
       "2020-12-14 A     366.000       114.000       239.000   104.000\n",
       "           B     106.000        31.000        52.000    28.000\n",
       "2020-12-15 A     361.000       127.000       237.000   109.000\n",
       "           B      89.000        24.000        41.000    20.000\n",
       "2020-12-16 A     356.000       115.000       226.000   113.000\n",
       "           B     130.000        45.000        80.000    36.000\n",
       "2020-12-17 A     402.000       141.000       264.000   120.000\n",
       "           B      97.000        37.000        53.000    22.000\n",
       "2020-12-18 A     429.000       134.000       293.000   120.000\n",
       "           B     106.000        35.000        48.000    24.000\n",
       "2020-12-19 A     506.000       174.000       339.000   161.000\n",
       "           B     112.000        33.000        60.000    23.000\n",
       "2020-12-20 A     521.000       170.000       331.000   171.000\n",
       "           B     125.000        27.000        67.000    30.000\n",
       "2020-12-21 A     683.000       191.000       453.000   223.000\n",
       "           B     157.000        45.000        86.000    49.000\n",
       "2020-12-22 A     461.000       137.000       298.000   137.000\n",
       "           B      72.000        12.000        34.000    24.000\n",
       "2020-12-23 A     349.000        98.000       220.000    95.000\n",
       "           B      81.000        17.000        36.000    21.000\n",
       "2020-12-24 A     288.000        87.000       197.000    96.000\n",
       "           B      56.000        18.000        28.000    15.000\n",
       "2020-12-25 A     223.000        56.000       159.000    84.000\n",
       "           B      45.000         9.000        25.000     9.000\n",
       "2020-12-26 A     195.000        59.000       121.000    68.000\n",
       "           B      45.000         9.000        26.000     8.000\n",
       "2020-12-27 A     194.000        63.000       128.000    61.000\n",
       "           B      48.000        12.000        22.000    15.000\n",
       "2020-12-28 A     154.000        52.000       101.000    45.000\n",
       "           B      39.000         5.000        21.000     7.000\n",
       "2020-12-29 A     153.000        44.000       104.000    38.000\n",
       "           B      29.000         4.000        14.000     8.000\n",
       "2020-12-30 B       1.000         1.000           nan       nan"
      ]
     },
     "execution_count": 97,
     "metadata": {},
     "output_type": "execute_result"
    }
   ],
   "source": [
    "events_by_day"
   ]
  },
  {
   "cell_type": "code",
   "execution_count": 98,
   "metadata": {},
   "outputs": [
    {
     "data": {
      "image/png": "[encoded data removed]",
      "text/plain": [
       "<Figure size 1080x720 with 1 Axes>"
      ]
     },
     "metadata": {
      "needs_background": "light"
     },
     "output_type": "display_data"
    }
   ],
   "source": [
    "events_by_day.plot.bar(figsize=(15,10));"
   ]
  },
  {
   "cell_type": "markdown",
   "metadata": {},
   "source": [
    "Очевидно, что количество событий в группе А растет до 21.12, в самый активный день, количество событий превышает аналогичный показатель в начале тестирования в 7 раз. Такой показатель логичен и объясняется высокой потребительской активнойстью в канун праздников. Активность пользователей из группы В меняется не линейно. Динамика имеет место в период с 17 по 21.12., но из-за разности в выборках, результаты группы В в сравнении более скромные. Рассмотрим конверсионные показатели.\n",
    "Важно отметить, что есть дни, в которые покупок больше, чем посещений корзины. Возможно происхожили прямые переходы на страницу оплаты, либо в магазине реализована возможность оплаты \"за 1 клик\", которая перевожит клиента сразу на страницу оплаты, в обход корзины. Важно понимать точную механику, т.к. расчет конверсии из корзины в оплату может быть некорректен."
   ]
  },
  {
   "cell_type": "markdown",
   "metadata": {},
   "source": [
    "###  Воронка событий"
   ]
  },
  {
   "cell_type": "code",
   "execution_count": 99,
   "metadata": {},
   "outputs": [
    {
     "name": "stdout",
     "output_type": "stream",
     "text": [
      "<class 'pandas.core.frame.DataFrame'>\n",
      "Index: 2788 entries, 0010A1C096941592 to FFAE9489C76F352B\n",
      "Data columns (total 4 columns):\n",
      " #   Column        Non-Null Count  Dtype         \n",
      "---  ------        --------------  -----         \n",
      " 0   login         2788 non-null   datetime64[ns]\n",
      " 1   product_cart  826 non-null    datetime64[ns]\n",
      " 2   product_page  1757 non-null   datetime64[ns]\n",
      " 3   purchase      850 non-null    datetime64[ns]\n",
      "dtypes: datetime64[ns](4)\n",
      "memory usage: 108.9+ KB\n"
     ]
    }
   ],
   "source": [
    "uid_count1 = enriched_events.pivot_table(index='user_id', columns='event_name', values='event_dt', aggfunc='min')\n",
    "uid_count1.info()"
   ]
  },
  {
   "cell_type": "code",
   "execution_count": 100,
   "metadata": {},
   "outputs": [
    {
     "name": "stdout",
     "output_type": "stream",
     "text": [
      "Доля авторизовавшихся из общего количества зарегистрировавшихся: 54.67738772308296\n",
      "Конверсия из авторизовавшихся в просмотр оффера: 63.020086083213776\n",
      "Конверсия из просмотра оффера в переход в корзину: 47.01195219123506\n",
      "Конверсия из перехода в корзину в успешную оплату: 102.90556900726394\n",
      "Доля пользователей, дошедших до успешной оплаты от общего количества: 16.66993528142773\n"
     ]
    }
   ],
   "source": [
    "print('Доля авторизовавшихся из общего количества зарегистрировавшихся:', (uid_count1['login'].\\\n",
    "      count() / 5099)*100)\n",
    "print('Конверсия из авторизовавшихся в просмотр оффера:', uid_count1['product_page'].count() /\\\n",
    "     uid_count1['login'].count()*100)\n",
    "print('Конверсия из просмотра оффера в переход в корзину:', uid_count1['product_cart'].count() /\\\n",
    "     uid_count1['product_page'].count()*100)\n",
    "print('Конверсия из перехода в корзину в успешную оплату:', uid_count1['purchase'].count() /\\\n",
    "     uid_count1['product_cart'].count()*100)\n",
    "print('Доля пользователей, дошедших до успешной оплаты от общего количества:',\\\n",
    "      (uid_count1['purchase'].count() / 5099)*100)"
   ]
  },
  {
   "cell_type": "code",
   "execution_count": 117,
   "metadata": {},
   "outputs": [
    {
     "data": {
      "application/vnd.plotly.v1+json": {
       "config": {
        "plotlyServerURL": "https://plot.ly"
       },
       "data": [
        {
         "name": "A",
         "orientation": "h",
         "textinfo": "value+percent initial",
         "type": "funnel",
         "x": [
          2082,
          1360,
          631,
          652
         ],
         "y": [
          "login",
          "product_page",
          "product_cart",
          "purchase"
         ]
        },
        {
         "name": "B",
         "orientation": "h",
         "textinfo": "value+percent initial",
         "type": "funnel",
         "x": [
          706,
          397,
          195,
          198
         ],
         "y": [
          "login",
          "product_page",
          "product_cart",
          "purchase"
         ]
        }
       ],
       "layout": {
        "template": {
         "data": {
          "bar": [
           {
            "error_x": {
             "color": "#2a3f5f"
            },
            "error_y": {
             "color": "#2a3f5f"
            },
            "marker": {
             "line": {
              "color": "#E5ECF6",
              "width": 0.5
             }
            },
            "type": "bar"
           }
          ],
          "barpolar": [
           {
            "marker": {
             "line": {
              "color": "#E5ECF6",
              "width": 0.5
             }
            },
            "type": "barpolar"
           }
          ],
          "carpet": [
           {
            "aaxis": {
             "endlinecolor": "#2a3f5f",
             "gridcolor": "white",
             "linecolor": "white",
             "minorgridcolor": "white",
             "startlinecolor": "#2a3f5f"
            },
            "baxis": {
             "endlinecolor": "#2a3f5f",
             "gridcolor": "white",
             "linecolor": "white",
             "minorgridcolor": "white",
             "startlinecolor": "#2a3f5f"
            },
            "type": "carpet"
           }
          ],
          "choropleth": [
           {
            "colorbar": {
             "outlinewidth": 0,
             "ticks": ""
            },
            "type": "choropleth"
           }
          ],
          "contour": [
           {
            "colorbar": {
             "outlinewidth": 0,
             "ticks": ""
            },
            "colorscale": [
             [
              0,
              "#0d0887"
             ],
             [
              0.1111111111,
              "#46039f"
             ],
             [
              0.2222222222,
              "#7201a8"
             ],
             [
              0.3333333333,
              "#9c179e"
             ],
             [
              0.4444444444,
              "#bd3786"
             ],
             [
              0.5555555556,
              "#d8576b"
             ],
             [
              0.6666666667,
              "#ed7953"
             ],
             [
              0.7777777778,
              "#fb9f3a"
             ],
             [
              0.8888888889,
              "#fdca26"
             ],
             [
              1,
              "#f0f921"
             ]
            ],
            "type": "contour"
           }
          ],
          "contourcarpet": [
           {
            "colorbar": {
             "outlinewidth": 0,
             "ticks": ""
            },
            "type": "contourcarpet"
           }
          ],
          "heatmap": [
           {
            "colorbar": {
             "outlinewidth": 0,
             "ticks": ""
            },
            "colorscale": [
             [
              0,
              "#0d0887"
             ],
             [
              0.1111111111,
              "#46039f"
             ],
             [
              0.2222222222,
              "#7201a8"
             ],
             [
              0.3333333333,
              "#9c179e"
             ],
             [
              0.4444444444,
              "#bd3786"
             ],
             [
              0.5555555556,
              "#d8576b"
             ],
             [
              0.6666666667,
              "#ed7953"
             ],
             [
              0.7777777778,
              "#fb9f3a"
             ],
             [
              0.8888888889,
              "#fdca26"
             ],
             [
              1,
              "#f0f921"
             ]
            ],
            "type": "heatmap"
           }
          ],
          "heatmapgl": [
           {
            "colorbar": {
             "outlinewidth": 0,
             "ticks": ""
            },
            "colorscale": [
             [
              0,
              "#0d0887"
             ],
             [
              0.1111111111,
              "#46039f"
             ],
             [
              0.2222222222,
              "#7201a8"
             ],
             [
              0.3333333333,
              "#9c179e"
             ],
             [
              0.4444444444,
              "#bd3786"
             ],
             [
              0.5555555556,
              "#d8576b"
             ],
             [
              0.6666666667,
              "#ed7953"
             ],
             [
              0.7777777778,
              "#fb9f3a"
             ],
             [
              0.8888888889,
              "#fdca26"
             ],
             [
              1,
              "#f0f921"
             ]
            ],
            "type": "heatmapgl"
           }
          ],
          "histogram": [
           {
            "marker": {
             "colorbar": {
              "outlinewidth": 0,
              "ticks": ""
             }
            },
            "type": "histogram"
           }
          ],
          "histogram2d": [
           {
            "colorbar": {
             "outlinewidth": 0,
             "ticks": ""
            },
            "colorscale": [
             [
              0,
              "#0d0887"
             ],
             [
              0.1111111111,
              "#46039f"
             ],
             [
              0.2222222222,
              "#7201a8"
             ],
             [
              0.3333333333,
              "#9c179e"
             ],
             [
              0.4444444444,
              "#bd3786"
             ],
             [
              0.5555555556,
              "#d8576b"
             ],
             [
              0.6666666667,
              "#ed7953"
             ],
             [
              0.7777777778,
              "#fb9f3a"
             ],
             [
              0.8888888889,
              "#fdca26"
             ],
             [
              1,
              "#f0f921"
             ]
            ],
            "type": "histogram2d"
           }
          ],
          "histogram2dcontour": [
           {
            "colorbar": {
             "outlinewidth": 0,
             "ticks": ""
            },
            "colorscale": [
             [
              0,
              "#0d0887"
             ],
             [
              0.1111111111,
              "#46039f"
             ],
             [
              0.2222222222,
              "#7201a8"
             ],
             [
              0.3333333333,
              "#9c179e"
             ],
             [
              0.4444444444,
              "#bd3786"
             ],
             [
              0.5555555556,
              "#d8576b"
             ],
             [
              0.6666666667,
              "#ed7953"
             ],
             [
              0.7777777778,
              "#fb9f3a"
             ],
             [
              0.8888888889,
              "#fdca26"
             ],
             [
              1,
              "#f0f921"
             ]
            ],
            "type": "histogram2dcontour"
           }
          ],
          "mesh3d": [
           {
            "colorbar": {
             "outlinewidth": 0,
             "ticks": ""
            },
            "type": "mesh3d"
           }
          ],
          "parcoords": [
           {
            "line": {
             "colorbar": {
              "outlinewidth": 0,
              "ticks": ""
             }
            },
            "type": "parcoords"
           }
          ],
          "pie": [
           {
            "automargin": true,
            "type": "pie"
           }
          ],
          "scatter": [
           {
            "marker": {
             "colorbar": {
              "outlinewidth": 0,
              "ticks": ""
             }
            },
            "type": "scatter"
           }
          ],
          "scatter3d": [
           {
            "line": {
             "colorbar": {
              "outlinewidth": 0,
              "ticks": ""
             }
            },
            "marker": {
             "colorbar": {
              "outlinewidth": 0,
              "ticks": ""
             }
            },
            "type": "scatter3d"
           }
          ],
          "scattercarpet": [
           {
            "marker": {
             "colorbar": {
              "outlinewidth": 0,
              "ticks": ""
             }
            },
            "type": "scattercarpet"
           }
          ],
          "scattergeo": [
           {
            "marker": {
             "colorbar": {
              "outlinewidth": 0,
              "ticks": ""
             }
            },
            "type": "scattergeo"
           }
          ],
          "scattergl": [
           {
            "marker": {
             "colorbar": {
              "outlinewidth": 0,
              "ticks": ""
             }
            },
            "type": "scattergl"
           }
          ],
          "scattermapbox": [
           {
            "marker": {
             "colorbar": {
              "outlinewidth": 0,
              "ticks": ""
             }
            },
            "type": "scattermapbox"
           }
          ],
          "scatterpolar": [
           {
            "marker": {
             "colorbar": {
              "outlinewidth": 0,
              "ticks": ""
             }
            },
            "type": "scatterpolar"
           }
          ],
          "scatterpolargl": [
           {
            "marker": {
             "colorbar": {
              "outlinewidth": 0,
              "ticks": ""
             }
            },
            "type": "scatterpolargl"
           }
          ],
          "scatterternary": [
           {
            "marker": {
             "colorbar": {
              "outlinewidth": 0,
              "ticks": ""
             }
            },
            "type": "scatterternary"
           }
          ],
          "surface": [
           {
            "colorbar": {
             "outlinewidth": 0,
             "ticks": ""
            },
            "colorscale": [
             [
              0,
              "#0d0887"
             ],
             [
              0.1111111111,
              "#46039f"
             ],
             [
              0.2222222222,
              "#7201a8"
             ],
             [
              0.3333333333,
              "#9c179e"
             ],
             [
              0.4444444444,
              "#bd3786"
             ],
             [
              0.5555555556,
              "#d8576b"
             ],
             [
              0.6666666667,
              "#ed7953"
             ],
             [
              0.7777777778,
              "#fb9f3a"
             ],
             [
              0.8888888889,
              "#fdca26"
             ],
             [
              1,
              "#f0f921"
             ]
            ],
            "type": "surface"
           }
          ],
          "table": [
           {
            "cells": {
             "fill": {
              "color": "#EBF0F8"
             },
             "line": {
              "color": "white"
             }
            },
            "header": {
             "fill": {
              "color": "#C8D4E3"
             },
             "line": {
              "color": "white"
             }
            },
            "type": "table"
           }
          ]
         },
         "layout": {
          "annotationdefaults": {
           "arrowcolor": "#2a3f5f",
           "arrowhead": 0,
           "arrowwidth": 1
          },
          "coloraxis": {
           "colorbar": {
            "outlinewidth": 0,
            "ticks": ""
           }
          },
          "colorscale": {
           "diverging": [
            [
             0,
             "#8e0152"
            ],
            [
             0.1,
             "#c51b7d"
            ],
            [
             0.2,
             "#de77ae"
            ],
            [
             0.3,
             "#f1b6da"
            ],
            [
             0.4,
             "#fde0ef"
            ],
            [
             0.5,
             "#f7f7f7"
            ],
            [
             0.6,
             "#e6f5d0"
            ],
            [
             0.7,
             "#b8e186"
            ],
            [
             0.8,
             "#7fbc41"
            ],
            [
             0.9,
             "#4d9221"
            ],
            [
             1,
             "#276419"
            ]
           ],
           "sequential": [
            [
             0,
             "#0d0887"
            ],
            [
             0.1111111111,
             "#46039f"
            ],
            [
             0.2222222222,
             "#7201a8"
            ],
            [
             0.3333333333,
             "#9c179e"
            ],
            [
             0.4444444444,
             "#bd3786"
            ],
            [
             0.5555555556,
             "#d8576b"
            ],
            [
             0.6666666667,
             "#ed7953"
            ],
            [
             0.7777777778,
             "#fb9f3a"
            ],
            [
             0.8888888889,
             "#fdca26"
            ],
            [
             1,
             "#f0f921"
            ]
           ],
           "sequentialminus": [
            [
             0,
             "#0d0887"
            ],
            [
             0.1111111111,
             "#46039f"
            ],
            [
             0.2222222222,
             "#7201a8"
            ],
            [
             0.3333333333,
             "#9c179e"
            ],
            [
             0.4444444444,
             "#bd3786"
            ],
            [
             0.5555555556,
             "#d8576b"
            ],
            [
             0.6666666667,
             "#ed7953"
            ],
            [
             0.7777777778,
             "#fb9f3a"
            ],
            [
             0.8888888889,
             "#fdca26"
            ],
            [
             1,
             "#f0f921"
            ]
           ]
          },
          "colorway": [
           "#636efa",
           "#EF553B",
           "#00cc96",
           "#ab63fa",
           "#FFA15A",
           "#19d3f3",
           "#FF6692",
           "#B6E880",
           "#FF97FF",
           "#FECB52"
          ],
          "font": {
           "color": "#2a3f5f"
          },
          "geo": {
           "bgcolor": "white",
           "lakecolor": "white",
           "landcolor": "#E5ECF6",
           "showlakes": true,
           "showland": true,
           "subunitcolor": "white"
          },
          "hoverlabel": {
           "align": "left"
          },
          "hovermode": "closest",
          "mapbox": {
           "style": "light"
          },
          "paper_bgcolor": "white",
          "plot_bgcolor": "#E5ECF6",
          "polar": {
           "angularaxis": {
            "gridcolor": "white",
            "linecolor": "white",
            "ticks": ""
           },
           "bgcolor": "#E5ECF6",
           "radialaxis": {
            "gridcolor": "white",
            "linecolor": "white",
            "ticks": ""
           }
          },
          "scene": {
           "xaxis": {
            "backgroundcolor": "#E5ECF6",
            "gridcolor": "white",
            "gridwidth": 2,
            "linecolor": "white",
            "showbackground": true,
            "ticks": "",
            "zerolinecolor": "white"
           },
           "yaxis": {
            "backgroundcolor": "#E5ECF6",
            "gridcolor": "white",
            "gridwidth": 2,
            "linecolor": "white",
            "showbackground": true,
            "ticks": "",
            "zerolinecolor": "white"
           },
           "zaxis": {
            "backgroundcolor": "#E5ECF6",
            "gridcolor": "white",
            "gridwidth": 2,
            "linecolor": "white",
            "showbackground": true,
            "ticks": "",
            "zerolinecolor": "white"
           }
          },
          "shapedefaults": {
           "line": {
            "color": "#2a3f5f"
           }
          },
          "ternary": {
           "aaxis": {
            "gridcolor": "white",
            "linecolor": "white",
            "ticks": ""
           },
           "baxis": {
            "gridcolor": "white",
            "linecolor": "white",
            "ticks": ""
           },
           "bgcolor": "#E5ECF6",
           "caxis": {
            "gridcolor": "white",
            "linecolor": "white",
            "ticks": ""
           }
          },
          "title": {
           "x": 0.05
          },
          "xaxis": {
           "automargin": true,
           "gridcolor": "white",
           "linecolor": "white",
           "ticks": "",
           "title": {
            "standoff": 15
           },
           "zerolinecolor": "white",
           "zerolinewidth": 2
          },
          "yaxis": {
           "automargin": true,
           "gridcolor": "white",
           "linecolor": "white",
           "ticks": "",
           "title": {
            "standoff": 15
           },
           "zerolinecolor": "white",
           "zerolinewidth": 2
          }
         }
        },
        "title": {
         "text": "Воронка событий"
        }
       }
      },
      "text/html": [
       "<div>\n",
       "        \n",
       "        \n",
       "            <div id=\"eb057c94-e72f-4238-89a0-8d853a3a79be\" class=\"plotly-graph-div\" style=\"height:525px; width:100%;\"></div>\n",
       "            <script type=\"text/javascript\">\n",
       "                require([\"plotly\"], function(Plotly) {\n",
       "                    window.PLOTLYENV=window.PLOTLYENV || {};\n",
       "                    \n",
       "                if (document.getElementById(\"eb057c94-e72f-4238-89a0-8d853a3a79be\")) {\n",
       "                    Plotly.newPlot(\n",
       "                        'eb057c94-e72f-4238-89a0-8d853a3a79be',\n",
       "                        [{\"name\": \"A\", \"orientation\": \"h\", \"textinfo\": \"value+percent initial\", \"type\": \"funnel\", \"x\": [2082, 1360, 631, 652], \"y\": [\"login\", \"product_page\", \"product_cart\", \"purchase\"]}, {\"name\": \"B\", \"orientation\": \"h\", \"textinfo\": \"value+percent initial\", \"type\": \"funnel\", \"x\": [706, 397, 195, 198], \"y\": [\"login\", \"product_page\", \"product_cart\", \"purchase\"]}],\n",
       "                        {\"template\": {\"data\": {\"bar\": [{\"error_x\": {\"color\": \"#2a3f5f\"}, \"error_y\": {\"color\": \"#2a3f5f\"}, \"marker\": {\"line\": {\"color\": \"#E5ECF6\", \"width\": 0.5}}, \"type\": \"bar\"}], \"barpolar\": [{\"marker\": {\"line\": {\"color\": \"#E5ECF6\", \"width\": 0.5}}, \"type\": \"barpolar\"}], \"carpet\": [{\"aaxis\": {\"endlinecolor\": \"#2a3f5f\", \"gridcolor\": \"white\", \"linecolor\": \"white\", \"minorgridcolor\": \"white\", \"startlinecolor\": \"#2a3f5f\"}, \"baxis\": {\"endlinecolor\": \"#2a3f5f\", \"gridcolor\": \"white\", \"linecolor\": \"white\", \"minorgridcolor\": \"white\", \"startlinecolor\": \"#2a3f5f\"}, \"type\": \"carpet\"}], \"choropleth\": [{\"colorbar\": {\"outlinewidth\": 0, \"ticks\": \"\"}, \"type\": \"choropleth\"}], \"contour\": [{\"colorbar\": {\"outlinewidth\": 0, \"ticks\": \"\"}, \"colorscale\": [[0.0, \"#0d0887\"], [0.1111111111111111, \"#46039f\"], [0.2222222222222222, \"#7201a8\"], [0.3333333333333333, \"#9c179e\"], [0.4444444444444444, \"#bd3786\"], [0.5555555555555556, \"#d8576b\"], [0.6666666666666666, \"#ed7953\"], [0.7777777777777778, \"#fb9f3a\"], [0.8888888888888888, \"#fdca26\"], [1.0, \"#f0f921\"]], \"type\": \"contour\"}], \"contourcarpet\": [{\"colorbar\": {\"outlinewidth\": 0, \"ticks\": \"\"}, \"type\": \"contourcarpet\"}], \"heatmap\": [{\"colorbar\": {\"outlinewidth\": 0, \"ticks\": \"\"}, \"colorscale\": [[0.0, \"#0d0887\"], [0.1111111111111111, \"#46039f\"], [0.2222222222222222, \"#7201a8\"], [0.3333333333333333, \"#9c179e\"], [0.4444444444444444, \"#bd3786\"], [0.5555555555555556, \"#d8576b\"], [0.6666666666666666, \"#ed7953\"], [0.7777777777777778, \"#fb9f3a\"], [0.8888888888888888, \"#fdca26\"], [1.0, \"#f0f921\"]], \"type\": \"heatmap\"}], \"heatmapgl\": [{\"colorbar\": {\"outlinewidth\": 0, \"ticks\": \"\"}, \"colorscale\": [[0.0, \"#0d0887\"], [0.1111111111111111, \"#46039f\"], [0.2222222222222222, \"#7201a8\"], [0.3333333333333333, \"#9c179e\"], [0.4444444444444444, \"#bd3786\"], [0.5555555555555556, \"#d8576b\"], [0.6666666666666666, \"#ed7953\"], [0.7777777777777778, \"#fb9f3a\"], [0.8888888888888888, \"#fdca26\"], [1.0, \"#f0f921\"]], \"type\": \"heatmapgl\"}], \"histogram\": [{\"marker\": {\"colorbar\": {\"outlinewidth\": 0, \"ticks\": \"\"}}, \"type\": \"histogram\"}], \"histogram2d\": [{\"colorbar\": {\"outlinewidth\": 0, \"ticks\": \"\"}, \"colorscale\": [[0.0, \"#0d0887\"], [0.1111111111111111, \"#46039f\"], [0.2222222222222222, \"#7201a8\"], [0.3333333333333333, \"#9c179e\"], [0.4444444444444444, \"#bd3786\"], [0.5555555555555556, \"#d8576b\"], [0.6666666666666666, \"#ed7953\"], [0.7777777777777778, \"#fb9f3a\"], [0.8888888888888888, \"#fdca26\"], [1.0, \"#f0f921\"]], \"type\": \"histogram2d\"}], \"histogram2dcontour\": [{\"colorbar\": {\"outlinewidth\": 0, \"ticks\": \"\"}, \"colorscale\": [[0.0, \"#0d0887\"], [0.1111111111111111, \"#46039f\"], [0.2222222222222222, \"#7201a8\"], [0.3333333333333333, \"#9c179e\"], [0.4444444444444444, \"#bd3786\"], [0.5555555555555556, \"#d8576b\"], [0.6666666666666666, \"#ed7953\"], [0.7777777777777778, \"#fb9f3a\"], [0.8888888888888888, \"#fdca26\"], [1.0, \"#f0f921\"]], \"type\": \"histogram2dcontour\"}], \"mesh3d\": [{\"colorbar\": {\"outlinewidth\": 0, \"ticks\": \"\"}, \"type\": \"mesh3d\"}], \"parcoords\": [{\"line\": {\"colorbar\": {\"outlinewidth\": 0, \"ticks\": \"\"}}, \"type\": \"parcoords\"}], \"pie\": [{\"automargin\": true, \"type\": \"pie\"}], \"scatter\": [{\"marker\": {\"colorbar\": {\"outlinewidth\": 0, \"ticks\": \"\"}}, \"type\": \"scatter\"}], \"scatter3d\": [{\"line\": {\"colorbar\": {\"outlinewidth\": 0, \"ticks\": \"\"}}, \"marker\": {\"colorbar\": {\"outlinewidth\": 0, \"ticks\": \"\"}}, \"type\": \"scatter3d\"}], \"scattercarpet\": [{\"marker\": {\"colorbar\": {\"outlinewidth\": 0, \"ticks\": \"\"}}, \"type\": \"scattercarpet\"}], \"scattergeo\": [{\"marker\": {\"colorbar\": {\"outlinewidth\": 0, \"ticks\": \"\"}}, \"type\": \"scattergeo\"}], \"scattergl\": [{\"marker\": {\"colorbar\": {\"outlinewidth\": 0, \"ticks\": \"\"}}, \"type\": \"scattergl\"}], \"scattermapbox\": [{\"marker\": {\"colorbar\": {\"outlinewidth\": 0, \"ticks\": \"\"}}, \"type\": \"scattermapbox\"}], \"scatterpolar\": [{\"marker\": {\"colorbar\": {\"outlinewidth\": 0, \"ticks\": \"\"}}, \"type\": \"scatterpolar\"}], \"scatterpolargl\": [{\"marker\": {\"colorbar\": {\"outlinewidth\": 0, \"ticks\": \"\"}}, \"type\": \"scatterpolargl\"}], \"scatterternary\": [{\"marker\": {\"colorbar\": {\"outlinewidth\": 0, \"ticks\": \"\"}}, \"type\": \"scatterternary\"}], \"surface\": [{\"colorbar\": {\"outlinewidth\": 0, \"ticks\": \"\"}, \"colorscale\": [[0.0, \"#0d0887\"], [0.1111111111111111, \"#46039f\"], [0.2222222222222222, \"#7201a8\"], [0.3333333333333333, \"#9c179e\"], [0.4444444444444444, \"#bd3786\"], [0.5555555555555556, \"#d8576b\"], [0.6666666666666666, \"#ed7953\"], [0.7777777777777778, \"#fb9f3a\"], [0.8888888888888888, \"#fdca26\"], [1.0, \"#f0f921\"]], \"type\": \"surface\"}], \"table\": [{\"cells\": {\"fill\": {\"color\": \"#EBF0F8\"}, \"line\": {\"color\": \"white\"}}, \"header\": {\"fill\": {\"color\": \"#C8D4E3\"}, \"line\": {\"color\": \"white\"}}, \"type\": \"table\"}]}, \"layout\": {\"annotationdefaults\": {\"arrowcolor\": \"#2a3f5f\", \"arrowhead\": 0, \"arrowwidth\": 1}, \"coloraxis\": {\"colorbar\": {\"outlinewidth\": 0, \"ticks\": \"\"}}, \"colorscale\": {\"diverging\": [[0, \"#8e0152\"], [0.1, \"#c51b7d\"], [0.2, \"#de77ae\"], [0.3, \"#f1b6da\"], [0.4, \"#fde0ef\"], [0.5, \"#f7f7f7\"], [0.6, \"#e6f5d0\"], [0.7, \"#b8e186\"], [0.8, \"#7fbc41\"], [0.9, \"#4d9221\"], [1, \"#276419\"]], \"sequential\": [[0.0, \"#0d0887\"], [0.1111111111111111, \"#46039f\"], [0.2222222222222222, \"#7201a8\"], [0.3333333333333333, \"#9c179e\"], [0.4444444444444444, \"#bd3786\"], [0.5555555555555556, \"#d8576b\"], [0.6666666666666666, \"#ed7953\"], [0.7777777777777778, \"#fb9f3a\"], [0.8888888888888888, \"#fdca26\"], [1.0, \"#f0f921\"]], \"sequentialminus\": [[0.0, \"#0d0887\"], [0.1111111111111111, \"#46039f\"], [0.2222222222222222, \"#7201a8\"], [0.3333333333333333, \"#9c179e\"], [0.4444444444444444, \"#bd3786\"], [0.5555555555555556, \"#d8576b\"], [0.6666666666666666, \"#ed7953\"], [0.7777777777777778, \"#fb9f3a\"], [0.8888888888888888, \"#fdca26\"], [1.0, \"#f0f921\"]]}, \"colorway\": [\"#636efa\", \"#EF553B\", \"#00cc96\", \"#ab63fa\", \"#FFA15A\", \"#19d3f3\", \"#FF6692\", \"#B6E880\", \"#FF97FF\", \"#FECB52\"], \"font\": {\"color\": \"#2a3f5f\"}, \"geo\": {\"bgcolor\": \"white\", \"lakecolor\": \"white\", \"landcolor\": \"#E5ECF6\", \"showlakes\": true, \"showland\": true, \"subunitcolor\": \"white\"}, \"hoverlabel\": {\"align\": \"left\"}, \"hovermode\": \"closest\", \"mapbox\": {\"style\": \"light\"}, \"paper_bgcolor\": \"white\", \"plot_bgcolor\": \"#E5ECF6\", \"polar\": {\"angularaxis\": {\"gridcolor\": \"white\", \"linecolor\": \"white\", \"ticks\": \"\"}, \"bgcolor\": \"#E5ECF6\", \"radialaxis\": {\"gridcolor\": \"white\", \"linecolor\": \"white\", \"ticks\": \"\"}}, \"scene\": {\"xaxis\": {\"backgroundcolor\": \"#E5ECF6\", \"gridcolor\": \"white\", \"gridwidth\": 2, \"linecolor\": \"white\", \"showbackground\": true, \"ticks\": \"\", \"zerolinecolor\": \"white\"}, \"yaxis\": {\"backgroundcolor\": \"#E5ECF6\", \"gridcolor\": \"white\", \"gridwidth\": 2, \"linecolor\": \"white\", \"showbackground\": true, \"ticks\": \"\", \"zerolinecolor\": \"white\"}, \"zaxis\": {\"backgroundcolor\": \"#E5ECF6\", \"gridcolor\": \"white\", \"gridwidth\": 2, \"linecolor\": \"white\", \"showbackground\": true, \"ticks\": \"\", \"zerolinecolor\": \"white\"}}, \"shapedefaults\": {\"line\": {\"color\": \"#2a3f5f\"}}, \"ternary\": {\"aaxis\": {\"gridcolor\": \"white\", \"linecolor\": \"white\", \"ticks\": \"\"}, \"baxis\": {\"gridcolor\": \"white\", \"linecolor\": \"white\", \"ticks\": \"\"}, \"bgcolor\": \"#E5ECF6\", \"caxis\": {\"gridcolor\": \"white\", \"linecolor\": \"white\", \"ticks\": \"\"}}, \"title\": {\"x\": 0.05}, \"xaxis\": {\"automargin\": true, \"gridcolor\": \"white\", \"linecolor\": \"white\", \"ticks\": \"\", \"title\": {\"standoff\": 15}, \"zerolinecolor\": \"white\", \"zerolinewidth\": 2}, \"yaxis\": {\"automargin\": true, \"gridcolor\": \"white\", \"linecolor\": \"white\", \"ticks\": \"\", \"title\": {\"standoff\": 15}, \"zerolinecolor\": \"white\", \"zerolinewidth\": 2}}}, \"title\": {\"text\": \"\\u0412\\u043e\\u0440\\u043e\\u043d\\u043a\\u0430 \\u0441\\u043e\\u0431\\u044b\\u0442\\u0438\\u0439\"}},\n",
       "                        {\"responsive\": true}\n",
       "                    ).then(function(){\n",
       "                            \n",
       "var gd = document.getElementById('eb057c94-e72f-4238-89a0-8d853a3a79be');\n",
       "var x = new MutationObserver(function (mutations, observer) {{\n",
       "        var display = window.getComputedStyle(gd).display;\n",
       "        if (!display || display === 'none') {{\n",
       "            console.log([gd, 'removed!']);\n",
       "            Plotly.purge(gd);\n",
       "            observer.disconnect();\n",
       "        }}\n",
       "}});\n",
       "\n",
       "// Listen for the removal of the full notebook cells\n",
       "var notebookContainer = gd.closest('#notebook-container');\n",
       "if (notebookContainer) {{\n",
       "    x.observe(notebookContainer, {childList: true});\n",
       "}}\n",
       "\n",
       "// Listen for the clearing of the current output cell\n",
       "var outputEl = gd.closest('.output');\n",
       "if (outputEl) {{\n",
       "    x.observe(outputEl, {childList: true});\n",
       "}}\n",
       "\n",
       "                        })\n",
       "                };\n",
       "                });\n",
       "            </script>\n",
       "        </div>"
      ]
     },
     "metadata": {},
     "output_type": "display_data"
    }
   ],
   "source": [
    "fig = go.Figure()\n",
    "for name in ['A','B']:\n",
    "    f = uid_count.query('group == @name').copy()\n",
    "    funnel= f.reset_index().reindex([0,1,3,2])\n",
    "    fig.add_trace(\n",
    "       go.Funnel(\n",
    "         name = name,\n",
    "          y = funnel['event_name'],\n",
    "          x = funnel['user_id'],\n",
    "           orientation = \"h\",\n",
    "        textinfo = \"value+percent initial\"\n",
    "       )\n",
    "    )\n",
    "fig.update_layout(title='Воронка событий')\n",
    "fig.show()"
   ]
  },
  {
   "cell_type": "markdown",
   "metadata": {},
   "source": [
    "Больше всего пользователей \"теряется\" на этапе перехода с главной страницы на страницу с выбором. Вероятно, проблема в формированием потребности. Возможно, часть пользователей заходят в магазин из рассылок, баннеров или других маркетинговых инстументов ошибочно или заходят в магазин для уточнения информации, не касающейся заказа (контактная информация, отследить заказ, оформленный ранее). \n",
    "Также, 35% и 28% на заканчивают оформление заказа и закрывают сайт, не заходя в корзину. \n",
    "\n",
    "Только 13.2 - 13.8% пользователей от общего количества завершает использование сайта оплатой."
   ]
  },
  {
   "cell_type": "markdown",
   "metadata": {},
   "source": [
    "# Результаты эксперимента"
   ]
  },
  {
   "cell_type": "code",
   "execution_count": 140,
   "metadata": {},
   "outputs": [
    {
     "data": {
      "text/html": [
       "<div>\n",
       "<style scoped>\n",
       "    .dataframe tbody tr th:only-of-type {\n",
       "        vertical-align: middle;\n",
       "    }\n",
       "\n",
       "    .dataframe tbody tr th {\n",
       "        vertical-align: top;\n",
       "    }\n",
       "\n",
       "    .dataframe thead th {\n",
       "        text-align: right;\n",
       "    }\n",
       "</style>\n",
       "<table border=\"1\" class=\"dataframe\">\n",
       "  <thead>\n",
       "    <tr style=\"text-align: right;\">\n",
       "      <th>group</th>\n",
       "      <th>A</th>\n",
       "      <th>B</th>\n",
       "    </tr>\n",
       "    <tr>\n",
       "      <th>event_name</th>\n",
       "      <th></th>\n",
       "      <th></th>\n",
       "    </tr>\n",
       "  </thead>\n",
       "  <tbody>\n",
       "    <tr>\n",
       "      <th>login</th>\n",
       "      <td>2082</td>\n",
       "      <td>706</td>\n",
       "    </tr>\n",
       "    <tr>\n",
       "      <th>product_page</th>\n",
       "      <td>1360</td>\n",
       "      <td>397</td>\n",
       "    </tr>\n",
       "    <tr>\n",
       "      <th>product_cart</th>\n",
       "      <td>631</td>\n",
       "      <td>195</td>\n",
       "    </tr>\n",
       "    <tr>\n",
       "      <th>purchase</th>\n",
       "      <td>652</td>\n",
       "      <td>198</td>\n",
       "    </tr>\n",
       "  </tbody>\n",
       "</table>\n",
       "</div>"
      ],
      "text/plain": [
       "group            A    B\n",
       "event_name             \n",
       "login         2082  706\n",
       "product_page  1360  397\n",
       "product_cart   631  195\n",
       "purchase       652  198"
      ]
     },
     "execution_count": 140,
     "metadata": {},
     "output_type": "execute_result"
    }
   ],
   "source": [
    "group_data = enriched_events.pivot_table\\\n",
    "(index='event_name', columns='group', values='user_id', aggfunc='nunique').reindex(['login','product_page', 'product_cart', 'purchase'])\n",
    "group_data"
   ]
  },
  {
   "cell_type": "code",
   "execution_count": 147,
   "metadata": {},
   "outputs": [],
   "source": [
    "\"Применим гипотезу о равенстве долей\" # только для первых конверсий. конверсию в покупку считать\n",
    "#некорректно, т.к. неизвестен предыдущий шаг и конверсия из просмотра корзины больше 100%\n",
    "\n",
    "#Нулевая гипотеза: Доли по количеству пользователей тестируемых групп равны.\n",
    "#Альтернативная гипотеза: Доли по количеству пользователей тестируемых групп отличаются.\n",
    "def stat_realibility (df, column1, column2, alpha):\n",
    "   \n",
    "    events = df.index \n",
    "    for i in range(1, 3):\n",
    "        alpha = alpha\n",
    "        bonferroni = alpha / 16 # Чтобы снизить групповую вероятность ошибки первого рода и \n",
    "        #скорректировать требуемые уровни значимости применим метод Бонферрони\n",
    "        row1 = np.array([df.loc[events[i-1], column1], df.loc[events[i-1], column2]])\n",
    "        row2 = np.array([df.loc[events[i], column1], df.loc[events[i], column2]])\n",
    "       \n",
    "        p1 = row2[0] / row1[0]\n",
    "        p2 = row2[1] / row1[1]\n",
    "        p_combined = (row2[0] + row2[1]) / (row1[0] + row1[1])\n",
    "        print(p_combined)\n",
    "        difference = p1 - p2\n",
    "        z_value = difference / mt.sqrt(p_combined * (1 - p_combined) * (1/row1[0] + 1/row1[1]))\n",
    "        distr = st.norm(0, 1)\n",
    "        p_value = (1 - distr.cdf(abs(z_value))) * 2\n",
    "        print('p-значение: ', p_value)\n",
    "        if (p_value < bonferroni):\n",
    "            print(\"Отвергаем нулевую гипотезу: между долями есть значимая разница\")\n",
    "        else:\n",
    "            print(\"Не получилось отвергнуть нулевую гипотезу, нет оснований считать доли разными\")\n"
   ]
  },
  {
   "cell_type": "code",
   "execution_count": 148,
   "metadata": {},
   "outputs": [
    {
     "name": "stdout",
     "output_type": "stream",
     "text": [
      "0.6302008608321378\n",
      "p-значение:  1.5371909704686715e-05\n",
      "Отвергаем нулевую гипотезу: между долями есть значимая разница\n",
      "0.4701195219123506\n",
      "p-значение:  0.3391735536469258\n",
      "Не получилось отвергнуть нулевую гипотезу, нет оснований считать доли разными\n"
     ]
    }
   ],
   "source": [
    "stat_realibility (group_data, \"A\",\"B\", 0.05)"
   ]
  },
  {
   "cell_type": "markdown",
   "metadata": {},
   "source": [
    "Изменим уровень статистической значимости, чтобы минимизировать возможность ложного результата."
   ]
  },
  {
   "cell_type": "code",
   "execution_count": 146,
   "metadata": {},
   "outputs": [
    {
     "name": "stdout",
     "output_type": "stream",
     "text": [
      "0.6302008608321378\n",
      "p-значение:  1.5371909704686715e-05\n",
      "Отвергаем нулевую гипотезу: между долями есть значимая разница\n",
      "0.4701195219123506\n",
      "p-значение:  0.3391735536469258\n",
      "Не получилось отвергнуть нулевую гипотезу, нет оснований считать доли разными\n"
     ]
    }
   ],
   "source": [
    "stat_realibility (group_data, \"A\",\"B\", 0.01)"
   ]
  },
  {
   "cell_type": "markdown",
   "metadata": {},
   "source": [
    "### Вывод по результату эксперимента.\n",
    "Уменьшение уровня статистической разницы не изменило результат. На этапе перехода пользователя из авторизации к офферу, доли разные. В конверсии из оффера в переход к корзине -  нет оснований считать доли групп разными."
   ]
  },
  {
   "cell_type": "markdown",
   "metadata": {},
   "source": [
    "## Общий вывод"
   ]
  },
  {
   "cell_type": "markdown",
   "metadata": {},
   "source": [
    "По итогам эксперимента, мы не можем подтвердить однозначное различие в долях, но и  не можем утверждать обратного. Доли в конверсиях разные на начале пути пользователя и совпадают на следующем этапе.\n",
    "\n",
    "Т.к. механика проведения теста нарушена, отмечены факторы, искажающие реальный результат: \n",
    "- данные собраны не по техническому заданию, за короткий промежуток времени, на малой выборке.Тестовые группы распределены неравномерно, разница в объеме больше 1 %;\n",
    "- данные собраны в период аномального пользовательского поведения (рождестверские, новогодние праздники;\n",
    "- время тестирования совпадает с 2 маркетинговыми активностями и 1 в интересующем нас регионе (EU);\n",
    "- нет пояснений к техзаданию (15% новых пользователей из региона EU), если нас интересует 85% других регионов, то данные собраны не полностью;\n",
    "- для корректного рассчета воронки необходимо понимать технические особенности сайта, в данном случае - как именно пользователь может совершить покупку. Исключить возможность бага.\n",
    "\n",
    "Результатам текущего исследования можно доверять (в рамках текущего периода и в рамках выборки), но сложно принимать решения , основываясь на них. Данный тест логичнее перенести на вторую половину января (если нас не интересует аудитория Китая). Т.к. в новогодние праздники покупательская активность сильно меняется. Любой результат и все гипотезы, которые мы сейчас подтвердим или опровергнем, могут показать совершенно другие результаты, например, весной, когда покупательское поведение будет другое. \n",
    "\n",
    "Также, необходимо подготовить корректные данные для теста. Равномерно распределенные группы для анализа при условии исключения возможности пересечения с другими тестами, путем корректно поставленной задачи разработчикам.\n",
    "\n",
    "Так, компания, возможно, понесет дополнительные расходы, но получит корректные данные для принятия дальнейших решений в интересах дальнейшего развития.\n",
    "\n",
    "\n"
   ]
  }
 ],
 "metadata": {
  "kernelspec": {
   "display_name": "Python 3",
   "language": "python",
   "name": "python3"
  },
  "language_info": {
   "codemirror_mode": {
    "name": "ipython",
    "version": 3
   },
   "file_extension": ".py",
   "mimetype": "text/x-python",
   "name": "python",
   "nbconvert_exporter": "python",
   "pygments_lexer": "ipython3",
   "version": "3.7.6"
  }
 },
 "nbformat": 4,
 "nbformat_minor": 4
}
